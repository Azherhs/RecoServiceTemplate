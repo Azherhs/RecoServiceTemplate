{
 "metadata": {
  "kernelspec": {
   "language": "python",
   "display_name": "Python 3",
   "name": "python3"
  },
  "language_info": {
   "name": "python",
   "version": "3.7.12",
   "mimetype": "text/x-python",
   "codemirror_mode": {
    "name": "ipython",
    "version": 3
   },
   "pygments_lexer": "ipython3",
   "nbconvert_exporter": "python",
   "file_extension": ".py"
  }
 },
 "nbformat_minor": 4,
 "nbformat": 4,
 "cells": [
  {
   "cell_type": "code",
   "source": [
    "import numpy as np # linear algebra\n",
    "import pandas as pd # data processing, CSV file I/O (e.g. pd.read_csv)\n",
    "\n",
    "import os\n",
    "for dirname, _, filenames in os.walk('/kaggle/input'):\n",
    "    for filename in filenames:\n",
    "        print(os.path.join(dirname, filename))"
   ],
   "metadata": {
    "_uuid": "8f2839f25d086af736a60e9eeb907d3b93b6e0e5",
    "_cell_guid": "b1076dfc-b9ad-4769-8c92-a6c4dae69d19",
    "execution": {
     "iopub.status.busy": "2023-04-09T05:06:10.114003Z",
     "iopub.execute_input": "2023-04-09T05:06:10.114994Z",
     "iopub.status.idle": "2023-04-09T05:06:10.168425Z",
     "shell.execute_reply.started": "2023-04-09T05:06:10.114948Z",
     "shell.execute_reply": "2023-04-09T05:06:10.166842Z"
    },
    "trusted": true
   },
   "execution_count": 1,
   "outputs": [
    {
     "name": "stdout",
     "text": "/kaggle/input/recsys-yandex-cup-2022/track_artists.csv\n/kaggle/input/recsys-yandex-cup-2022/test\n/kaggle/input/recsys-yandex-cup-2022/train\n/kaggle/input/recsys-yandex-cup-2022/dataframe.csv/dataframe.csv\n",
     "output_type": "stream"
    }
   ]
  },
  {
   "cell_type": "markdown",
   "source": [
    "# Явно делим данные"
   ],
   "metadata": {}
  },
  {
   "cell_type": "markdown",
   "source": [
    "Домашнее задание №2.1\n",
    "\n",
    "Промежуточная задача - преобразовать данные в pandas.DataFrame вида {user, item, order}, где order - порядковый номер с конца (0 - самый \"свежий\" лайк, чем больше order, тем позже был поставлен лайк)\n",
    "\n",
    "Итоговая задача - построить схему валидации для данного соревнования с учетом особенностей сорвенования\n",
    "\n",
    "Между train и test не должно быть общих пользователей\n",
    "Количество фолдов задается через параметр класса n_folds\n",
    "В test должно быть не более p последних треков (параметр класса p)"
   ],
   "metadata": {}
  },
  {
   "cell_type": "code",
   "source": [
    "def headtail(df):\n",
    "    return pd.concat([df.head(), df.tail()])\n",
    "df = pd.read_csv('/kaggle/input/recsys-yandex-cup-2022/dataframe.csv/dataframe.csv') \n",
    "headtail(df)"
   ],
   "metadata": {
    "execution": {
     "iopub.status.busy": "2023-04-09T05:06:11.308638Z",
     "iopub.execute_input": "2023-04-09T05:06:11.309029Z",
     "iopub.status.idle": "2023-04-09T05:07:34.724247Z",
     "shell.execute_reply.started": "2023-04-09T05:06:11.308995Z",
     "shell.execute_reply": "2023-04-09T05:07:34.723005Z"
    },
    "trusted": true
   },
   "execution_count": 2,
   "outputs": [
    {
     "execution_count": 2,
     "output_type": "execute_result",
     "data": {
      "text/plain": "           user_id  track_id  rank  reversed_rank  is_train\n0                0    333396     0             53         1\n1                0    267089     1             52         1\n2                0    155959     2             51         1\n3                0    353335     3             50         1\n4                0    414000     4             49         1\n117450829   289913    448288    34              4         0\n117450830   289913      1343    35              3         0\n117450831   289913     86420    36              2         0\n117450832   289913    186436    37              1         0\n117450833   289913      8474    38              0         0",
      "text/html": "<div>\n<style scoped>\n    .dataframe tbody tr th:only-of-type {\n        vertical-align: middle;\n    }\n\n    .dataframe tbody tr th {\n        vertical-align: top;\n    }\n\n    .dataframe thead th {\n        text-align: right;\n    }\n</style>\n<table border=\"1\" class=\"dataframe\">\n  <thead>\n    <tr style=\"text-align: right;\">\n      <th></th>\n      <th>user_id</th>\n      <th>track_id</th>\n      <th>rank</th>\n      <th>reversed_rank</th>\n      <th>is_train</th>\n    </tr>\n  </thead>\n  <tbody>\n    <tr>\n      <th>0</th>\n      <td>0</td>\n      <td>333396</td>\n      <td>0</td>\n      <td>53</td>\n      <td>1</td>\n    </tr>\n    <tr>\n      <th>1</th>\n      <td>0</td>\n      <td>267089</td>\n      <td>1</td>\n      <td>52</td>\n      <td>1</td>\n    </tr>\n    <tr>\n      <th>2</th>\n      <td>0</td>\n      <td>155959</td>\n      <td>2</td>\n      <td>51</td>\n      <td>1</td>\n    </tr>\n    <tr>\n      <th>3</th>\n      <td>0</td>\n      <td>353335</td>\n      <td>3</td>\n      <td>50</td>\n      <td>1</td>\n    </tr>\n    <tr>\n      <th>4</th>\n      <td>0</td>\n      <td>414000</td>\n      <td>4</td>\n      <td>49</td>\n      <td>1</td>\n    </tr>\n    <tr>\n      <th>117450829</th>\n      <td>289913</td>\n      <td>448288</td>\n      <td>34</td>\n      <td>4</td>\n      <td>0</td>\n    </tr>\n    <tr>\n      <th>117450830</th>\n      <td>289913</td>\n      <td>1343</td>\n      <td>35</td>\n      <td>3</td>\n      <td>0</td>\n    </tr>\n    <tr>\n      <th>117450831</th>\n      <td>289913</td>\n      <td>86420</td>\n      <td>36</td>\n      <td>2</td>\n      <td>0</td>\n    </tr>\n    <tr>\n      <th>117450832</th>\n      <td>289913</td>\n      <td>186436</td>\n      <td>37</td>\n      <td>1</td>\n      <td>0</td>\n    </tr>\n    <tr>\n      <th>117450833</th>\n      <td>289913</td>\n      <td>8474</td>\n      <td>38</td>\n      <td>0</td>\n      <td>0</td>\n    </tr>\n  </tbody>\n</table>\n</div>"
     },
     "metadata": {}
    }
   ]
  },
  {
   "cell_type": "code",
   "source": [
    "max_train_user_id = df[df.is_train == 1].user_id.max()\n",
    "max_train_user_id\n",
    "max_test_user_id = df[df.is_train == 0].user_id.max()\n",
    "max_train_user_id"
   ],
   "metadata": {
    "execution": {
     "iopub.status.busy": "2023-04-09T05:07:34.726755Z",
     "iopub.execute_input": "2023-04-09T05:07:34.728010Z",
     "iopub.status.idle": "2023-04-09T05:07:38.324642Z",
     "shell.execute_reply.started": "2023-04-09T05:07:34.727957Z",
     "shell.execute_reply": "2023-04-09T05:07:38.323454Z"
    },
    "trusted": true
   },
   "execution_count": 3,
   "outputs": [
    {
     "execution_count": 3,
     "output_type": "execute_result",
     "data": {
      "text/plain": "1160083"
     },
     "metadata": {}
    }
   ]
  },
  {
   "cell_type": "code",
   "source": [
    "df.loc[df[\"is_train\"] == 0, \"user_id\"] +=  max_train_user_id\n",
    "df"
   ],
   "metadata": {
    "execution": {
     "iopub.status.busy": "2023-04-09T05:07:38.326025Z",
     "iopub.execute_input": "2023-04-09T05:07:38.326450Z",
     "iopub.status.idle": "2023-04-09T05:07:39.278050Z",
     "shell.execute_reply.started": "2023-04-09T05:07:38.326410Z",
     "shell.execute_reply": "2023-04-09T05:07:39.276659Z"
    },
    "trusted": true
   },
   "execution_count": 4,
   "outputs": [
    {
     "execution_count": 4,
     "output_type": "execute_result",
     "data": {
      "text/plain": "           user_id  track_id  rank  reversed_rank  is_train\n0                0    333396     0             53         1\n1                0    267089     1             52         1\n2                0    155959     2             51         1\n3                0    353335     3             50         1\n4                0    414000     4             49         1\n...            ...       ...   ...            ...       ...\n117450829  1449996    448288    34              4         0\n117450830  1449996      1343    35              3         0\n117450831  1449996     86420    36              2         0\n117450832  1449996    186436    37              1         0\n117450833  1449996      8474    38              0         0\n\n[117450834 rows x 5 columns]",
      "text/html": "<div>\n<style scoped>\n    .dataframe tbody tr th:only-of-type {\n        vertical-align: middle;\n    }\n\n    .dataframe tbody tr th {\n        vertical-align: top;\n    }\n\n    .dataframe thead th {\n        text-align: right;\n    }\n</style>\n<table border=\"1\" class=\"dataframe\">\n  <thead>\n    <tr style=\"text-align: right;\">\n      <th></th>\n      <th>user_id</th>\n      <th>track_id</th>\n      <th>rank</th>\n      <th>reversed_rank</th>\n      <th>is_train</th>\n    </tr>\n  </thead>\n  <tbody>\n    <tr>\n      <th>0</th>\n      <td>0</td>\n      <td>333396</td>\n      <td>0</td>\n      <td>53</td>\n      <td>1</td>\n    </tr>\n    <tr>\n      <th>1</th>\n      <td>0</td>\n      <td>267089</td>\n      <td>1</td>\n      <td>52</td>\n      <td>1</td>\n    </tr>\n    <tr>\n      <th>2</th>\n      <td>0</td>\n      <td>155959</td>\n      <td>2</td>\n      <td>51</td>\n      <td>1</td>\n    </tr>\n    <tr>\n      <th>3</th>\n      <td>0</td>\n      <td>353335</td>\n      <td>3</td>\n      <td>50</td>\n      <td>1</td>\n    </tr>\n    <tr>\n      <th>4</th>\n      <td>0</td>\n      <td>414000</td>\n      <td>4</td>\n      <td>49</td>\n      <td>1</td>\n    </tr>\n    <tr>\n      <th>...</th>\n      <td>...</td>\n      <td>...</td>\n      <td>...</td>\n      <td>...</td>\n      <td>...</td>\n    </tr>\n    <tr>\n      <th>117450829</th>\n      <td>1449996</td>\n      <td>448288</td>\n      <td>34</td>\n      <td>4</td>\n      <td>0</td>\n    </tr>\n    <tr>\n      <th>117450830</th>\n      <td>1449996</td>\n      <td>1343</td>\n      <td>35</td>\n      <td>3</td>\n      <td>0</td>\n    </tr>\n    <tr>\n      <th>117450831</th>\n      <td>1449996</td>\n      <td>86420</td>\n      <td>36</td>\n      <td>2</td>\n      <td>0</td>\n    </tr>\n    <tr>\n      <th>117450832</th>\n      <td>1449996</td>\n      <td>186436</td>\n      <td>37</td>\n      <td>1</td>\n      <td>0</td>\n    </tr>\n    <tr>\n      <th>117450833</th>\n      <td>1449996</td>\n      <td>8474</td>\n      <td>38</td>\n      <td>0</td>\n      <td>0</td>\n    </tr>\n  </tbody>\n</table>\n<p>117450834 rows × 5 columns</p>\n</div>"
     },
     "metadata": {}
    }
   ]
  },
  {
   "cell_type": "code",
   "source": [
    "df = df[[\"user_id\", \"track_id\", \"reversed_rank\"]]\n",
    "df = df.rename(columns={\"user_id\": \"user\", \"track_id\": \"item\", \"reversed_rank\": \"order\"})\n",
    "df"
   ],
   "metadata": {
    "execution": {
     "iopub.status.busy": "2023-04-09T05:07:39.280706Z",
     "iopub.execute_input": "2023-04-09T05:07:39.281179Z",
     "iopub.status.idle": "2023-04-09T05:07:41.513542Z",
     "shell.execute_reply.started": "2023-04-09T05:07:39.281142Z",
     "shell.execute_reply": "2023-04-09T05:07:41.512104Z"
    },
    "trusted": true
   },
   "execution_count": 5,
   "outputs": [
    {
     "execution_count": 5,
     "output_type": "execute_result",
     "data": {
      "text/plain": "              user    item  order\n0                0  333396     53\n1                0  267089     52\n2                0  155959     51\n3                0  353335     50\n4                0  414000     49\n...            ...     ...    ...\n117450829  1449996  448288      4\n117450830  1449996    1343      3\n117450831  1449996   86420      2\n117450832  1449996  186436      1\n117450833  1449996    8474      0\n\n[117450834 rows x 3 columns]",
      "text/html": "<div>\n<style scoped>\n    .dataframe tbody tr th:only-of-type {\n        vertical-align: middle;\n    }\n\n    .dataframe tbody tr th {\n        vertical-align: top;\n    }\n\n    .dataframe thead th {\n        text-align: right;\n    }\n</style>\n<table border=\"1\" class=\"dataframe\">\n  <thead>\n    <tr style=\"text-align: right;\">\n      <th></th>\n      <th>user</th>\n      <th>item</th>\n      <th>order</th>\n    </tr>\n  </thead>\n  <tbody>\n    <tr>\n      <th>0</th>\n      <td>0</td>\n      <td>333396</td>\n      <td>53</td>\n    </tr>\n    <tr>\n      <th>1</th>\n      <td>0</td>\n      <td>267089</td>\n      <td>52</td>\n    </tr>\n    <tr>\n      <th>2</th>\n      <td>0</td>\n      <td>155959</td>\n      <td>51</td>\n    </tr>\n    <tr>\n      <th>3</th>\n      <td>0</td>\n      <td>353335</td>\n      <td>50</td>\n    </tr>\n    <tr>\n      <th>4</th>\n      <td>0</td>\n      <td>414000</td>\n      <td>49</td>\n    </tr>\n    <tr>\n      <th>...</th>\n      <td>...</td>\n      <td>...</td>\n      <td>...</td>\n    </tr>\n    <tr>\n      <th>117450829</th>\n      <td>1449996</td>\n      <td>448288</td>\n      <td>4</td>\n    </tr>\n    <tr>\n      <th>117450830</th>\n      <td>1449996</td>\n      <td>1343</td>\n      <td>3</td>\n    </tr>\n    <tr>\n      <th>117450831</th>\n      <td>1449996</td>\n      <td>86420</td>\n      <td>2</td>\n    </tr>\n    <tr>\n      <th>117450832</th>\n      <td>1449996</td>\n      <td>186436</td>\n      <td>1</td>\n    </tr>\n    <tr>\n      <th>117450833</th>\n      <td>1449996</td>\n      <td>8474</td>\n      <td>0</td>\n    </tr>\n  </tbody>\n</table>\n<p>117450834 rows × 3 columns</p>\n</div>"
     },
     "metadata": {}
    }
   ]
  },
  {
   "cell_type": "markdown",
   "source": [
    "\n",
    "# Класс, реализующий схему валидации UsersKFoldLeavePOut\n",
    "\n",
    "Решаемая задача - построить схему валидации для данного соревнования с учетом особенностей сорвенования\n",
    "\n",
    "    Между train и test не должно быть общих пользователей\n",
    "    Количество фолдов задается через параметр класса n_folds\n",
    "    В test должно быть не более p последних треков (параметр класса p)"
   ],
   "metadata": {}
  },
  {
   "cell_type": "code",
   "source": [
    "class UsersKFoldPOut():\n",
    "    def __init__(self, n_folds, p, random_seed=23):\n",
    "        self.n_folds = n_folds\n",
    "        self.p = p\n",
    "        self.random_seed = random_seed\n",
    "    \n",
    "    def split(self, df):\n",
    "                # Split method that takes in a DataFrame to perform user-based k-fold cross validation.\n",
    "        users = df.user.unique()  # Get unique users from the user column in the DataFrame.\n",
    "        users_count = len(users)  # Count the number of unique users.\n",
    "        \n",
    "        np.random.seed(self.random_seed)  # Set random seed for reproducibility.\n",
    "        np.random.shuffle(users)  # Shuffle the users randomly.\n",
    "        \n",
    "        fold_sizes = np.full(self.n_folds, users_count // self.n_folds, dtype=int)  # Compute fold sizes based on number of users and desired number of folds.\n",
    "        fold_sizes[: users_count % self.n_folds] += 1  # Distribute any remaining users to the first few folds.\n",
    "        current = 0  # Initialize current pointer for iterating over fold sizes.\n",
    "        for fold_size in fold_sizes:\n",
    "            start, stop = current, current + fold_size  # Determine the start and stop index for the current fold.\n",
    "            test_fold_users = users[start:stop]  # Get users for the current fold.\n",
    "            # В test должно быть не более p последних треков (параметр класса p) по каждому пользователю\n",
    "            test_mask = (df.user.isin(test_fold_users)) & (df[\"order\"] < self.p)\n",
    "            # test_mask = df[self.user_column].isin(test_fold_users)  # Create a boolean mask for test set users in the DataFrame.\n",
    "            train_mask = ~test_mask.isin(test_fold_users) # Берем всех остальных юзеров, не включая оценки юзеров, которые были в тестовом\n",
    "            # train_mask = ~test_mask  # Invert the test mask to get the train set users.\n",
    "            \n",
    "            yield train_mask, test_mask\n",
    "        \n",
    "        "
   ],
   "metadata": {
    "execution": {
     "iopub.status.busy": "2023-04-09T05:07:41.515057Z",
     "iopub.execute_input": "2023-04-09T05:07:41.515476Z",
     "iopub.status.idle": "2023-04-09T05:07:41.526907Z",
     "shell.execute_reply.started": "2023-04-09T05:07:41.515439Z",
     "shell.execute_reply": "2023-04-09T05:07:41.525645Z"
    },
    "trusted": true
   },
   "execution_count": 6,
   "outputs": []
  },
  {
   "cell_type": "code",
   "source": [
    "cv = UsersKFoldPOut(n_folds=3, p=1)\n",
    "\n",
    "for i, (train_mask, test_mask) in enumerate(cv.split(df)):\n",
    "     train = df[train_mask]\n",
    "     test = df[test_mask]\n",
    "     print(f'Fold#{i} | Train: {train.shape[0]}, Test: {test.shape[0]}')"
   ],
   "metadata": {
    "execution": {
     "iopub.status.busy": "2023-04-09T05:07:41.528854Z",
     "iopub.execute_input": "2023-04-09T05:07:41.529372Z",
     "iopub.status.idle": "2023-04-09T05:08:03.578646Z",
     "shell.execute_reply.started": "2023-04-09T05:07:41.529294Z",
     "shell.execute_reply": "2023-04-09T05:08:03.577112Z"
    },
    "trusted": true
   },
   "execution_count": 7,
   "outputs": [
    {
     "name": "stdout",
     "text": "Fold#0 | Train: 116967501, Test: 483333\nFold#1 | Train: 116967502, Test: 483332\nFold#2 | Train: 116967502, Test: 483332\n",
     "output_type": "stream"
    }
   ]
  }
 ]
}
