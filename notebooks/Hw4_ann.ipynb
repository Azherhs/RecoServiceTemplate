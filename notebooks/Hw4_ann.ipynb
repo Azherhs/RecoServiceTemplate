{
 "cells": [
  {
   "cell_type": "markdown",
   "metadata": {
    "collapsed": false,
    "pycharm": {
     "name": "#%% md\n"
    },
    "id": "jrXKVXjyjsi-"
   },
   "source": []
  },
  {
   "cell_type": "code",
   "source": [
    "!pip install rectools"
   ],
   "metadata": {
    "colab": {
     "base_uri": "https://localhost:8080/"
    },
    "id": "EHGCI0aMv58y",
    "outputId": "638c6139-f8bf-4554-d16a-5e2a2f4c8dbd"
   },
   "execution_count": null,
   "outputs": [
    {
     "output_type": "stream",
     "name": "stdout",
     "text": [
      "Looking in indexes: https://pypi.org/simple, https://us-python.pkg.dev/colab-wheels/public/simple/\n",
      "Collecting rectools\n",
      "  Downloading RecTools-0.3.0-py3-none-any.whl (89 kB)\n",
      "\u001B[2K     \u001B[90m━━━━━━━━━━━━━━━━━━━━━━━━━━━━━━━━━━━━━━━━\u001B[0m \u001B[32m89.0/89.0 kB\u001B[0m \u001B[31m4.8 MB/s\u001B[0m eta \u001B[36m0:00:00\u001B[0m\n",
      "\u001B[?25hCollecting attrs<22.0.0,>=19.1.0\n",
      "  Downloading attrs-21.4.0-py2.py3-none-any.whl (60 kB)\n",
      "\u001B[2K     \u001B[90m━━━━━━━━━━━━━━━━━━━━━━━━━━━━━━━━━━━━━━━━\u001B[0m \u001B[32m60.6/60.6 kB\u001B[0m \u001B[31m3.9 MB/s\u001B[0m eta \u001B[36m0:00:00\u001B[0m\n",
      "\u001B[?25hCollecting typeguard<3.0.0,>=2.0.1\n",
      "  Downloading typeguard-2.13.3-py3-none-any.whl (17 kB)\n",
      "Requirement already satisfied: numpy<2.0.0,>=1.19.5 in /usr/local/lib/python3.9/dist-packages (from rectools) (1.22.4)\n",
      "Collecting implicit==0.4.4\n",
      "  Downloading implicit-0.4.4.tar.gz (1.1 MB)\n",
      "\u001B[2K     \u001B[90m━━━━━━━━━━━━━━━━━━━━━━━━━━━━━━━━━━━━━━━━\u001B[0m \u001B[32m1.1/1.1 MB\u001B[0m \u001B[31m29.4 MB/s\u001B[0m eta \u001B[36m0:00:00\u001B[0m\n",
      "\u001B[?25h  Preparing metadata (setup.py) ... \u001B[?25l\u001B[?25hdone\n",
      "Requirement already satisfied: pandas<2.0.0,>=0.25.3 in /usr/local/lib/python3.9/dist-packages (from rectools) (1.5.3)\n",
      "Collecting nmslib<3.0.0,>=2.0.4\n",
      "  Downloading nmslib-2.1.1-cp39-cp39-manylinux2010_x86_64.whl (13.3 MB)\n",
      "\u001B[2K     \u001B[90m━━━━━━━━━━━━━━━━━━━━━━━━━━━━━━━━━━━━━━━━\u001B[0m \u001B[32m13.3/13.3 MB\u001B[0m \u001B[31m47.1 MB/s\u001B[0m eta \u001B[36m0:00:00\u001B[0m\n",
      "\u001B[?25hCollecting lightfm<2.0,>=1.16\n",
      "  Downloading lightfm-1.17.tar.gz (316 kB)\n",
      "\u001B[2K     \u001B[90m━━━━━━━━━━━━━━━━━━━━━━━━━━━━━━━━━━━━━━\u001B[0m \u001B[32m316.4/316.4 kB\u001B[0m \u001B[31m16.0 MB/s\u001B[0m eta \u001B[36m0:00:00\u001B[0m\n",
      "\u001B[?25h  Preparing metadata (setup.py) ... \u001B[?25l\u001B[?25hdone\n",
      "Requirement already satisfied: tqdm<5.0.0,>=4.27.0 in /usr/local/lib/python3.9/dist-packages (from rectools) (4.65.0)\n",
      "Requirement already satisfied: scipy<2.0.0,>=1.5.4 in /usr/local/lib/python3.9/dist-packages (from rectools) (1.10.1)\n",
      "Collecting Markdown<3.3,>=3.2\n",
      "  Downloading Markdown-3.2.2-py3-none-any.whl (88 kB)\n",
      "\u001B[2K     \u001B[90m━━━━━━━━━━━━━━━━━━━━━━━━━━━━━━━━━━━━━━━━\u001B[0m \u001B[32m89.0/89.0 kB\u001B[0m \u001B[31m13.0 MB/s\u001B[0m eta \u001B[36m0:00:00\u001B[0m\n",
      "\u001B[?25hRequirement already satisfied: requests in /usr/local/lib/python3.9/dist-packages (from lightfm<2.0,>=1.16->rectools) (2.27.1)\n",
      "Requirement already satisfied: scikit-learn in /usr/local/lib/python3.9/dist-packages (from lightfm<2.0,>=1.16->rectools) (1.2.2)\n",
      "Requirement already satisfied: psutil in /usr/local/lib/python3.9/dist-packages (from nmslib<3.0.0,>=2.0.4->rectools) (5.9.4)\n",
      "Collecting pybind11<2.6.2\n",
      "  Downloading pybind11-2.6.1-py2.py3-none-any.whl (188 kB)\n",
      "\u001B[2K     \u001B[90m━━━━━━━━━━━━━━━━━━━━━━━━━━━━━━━━━━━━━━\u001B[0m \u001B[32m188.5/188.5 kB\u001B[0m \u001B[31m23.0 MB/s\u001B[0m eta \u001B[36m0:00:00\u001B[0m\n",
      "\u001B[?25hRequirement already satisfied: pytz>=2020.1 in /usr/local/lib/python3.9/dist-packages (from pandas<2.0.0,>=0.25.3->rectools) (2022.7.1)\n",
      "Requirement already satisfied: python-dateutil>=2.8.1 in /usr/local/lib/python3.9/dist-packages (from pandas<2.0.0,>=0.25.3->rectools) (2.8.2)\n",
      "Requirement already satisfied: six>=1.5 in /usr/local/lib/python3.9/dist-packages (from python-dateutil>=2.8.1->pandas<2.0.0,>=0.25.3->rectools) (1.16.0)\n",
      "Requirement already satisfied: charset-normalizer~=2.0.0 in /usr/local/lib/python3.9/dist-packages (from requests->lightfm<2.0,>=1.16->rectools) (2.0.12)\n",
      "Requirement already satisfied: certifi>=2017.4.17 in /usr/local/lib/python3.9/dist-packages (from requests->lightfm<2.0,>=1.16->rectools) (2022.12.7)\n",
      "Requirement already satisfied: idna<4,>=2.5 in /usr/local/lib/python3.9/dist-packages (from requests->lightfm<2.0,>=1.16->rectools) (3.4)\n",
      "Requirement already satisfied: urllib3<1.27,>=1.21.1 in /usr/local/lib/python3.9/dist-packages (from requests->lightfm<2.0,>=1.16->rectools) (1.26.15)\n",
      "Requirement already satisfied: threadpoolctl>=2.0.0 in /usr/local/lib/python3.9/dist-packages (from scikit-learn->lightfm<2.0,>=1.16->rectools) (3.1.0)\n",
      "Requirement already satisfied: joblib>=1.1.1 in /usr/local/lib/python3.9/dist-packages (from scikit-learn->lightfm<2.0,>=1.16->rectools) (1.2.0)\n",
      "Building wheels for collected packages: implicit, lightfm\n",
      "  Building wheel for implicit (setup.py) ... \u001B[?25l\u001B[?25hdone\n",
      "  Created wheel for implicit: filename=implicit-0.4.4-cp39-cp39-linux_x86_64.whl size=5054331 sha256=155170e6fb4b5dd3704dde1656b5f1ad4e6edc8c958398aefd96134f79c895fa\n",
      "  Stored in directory: /root/.cache/pip/wheels/05/d3/5d/ab371b92ddb01183c3997751ad3bed6e6a4dd3c4c8699120a3\n",
      "  Building wheel for lightfm (setup.py) ... \u001B[?25l\u001B[?25hdone\n",
      "  Created wheel for lightfm: filename=lightfm-1.17-cp39-cp39-linux_x86_64.whl size=889516 sha256=81645a0b450a0edd5c2fb99f33cd10f4d2d27692999c237fc87029a87aa590f4\n",
      "  Stored in directory: /root/.cache/pip/wheels/d8/65/93/6ac8180274dc2e8f86ff326be62da1dfa55dc158fd45faba7d\n",
      "Successfully built implicit lightfm\n",
      "Installing collected packages: typeguard, pybind11, Markdown, attrs, nmslib, implicit, lightfm, rectools\n",
      "  Attempting uninstall: Markdown\n",
      "    Found existing installation: Markdown 3.4.3\n",
      "    Uninstalling Markdown-3.4.3:\n",
      "      Successfully uninstalled Markdown-3.4.3\n",
      "  Attempting uninstall: attrs\n",
      "    Found existing installation: attrs 22.2.0\n",
      "    Uninstalling attrs-22.2.0:\n",
      "      Successfully uninstalled attrs-22.2.0\n",
      "Successfully installed Markdown-3.2.2 attrs-21.4.0 implicit-0.4.4 lightfm-1.17 nmslib-2.1.1 pybind11-2.6.1 rectools-0.3.0 typeguard-2.13.3\n"
     ]
    }
   ]
  },
  {
   "cell_type": "code",
   "source": [
    "!pip install hnswlib"
   ],
   "metadata": {
    "colab": {
     "base_uri": "https://localhost:8080/"
    },
    "id": "kkcV9EcFDS2p",
    "outputId": "cbae578b-5255-4d29-ddf1-4e4c8395a889"
   },
   "execution_count": null,
   "outputs": [
    {
     "output_type": "stream",
     "name": "stdout",
     "text": [
      "Looking in indexes: https://pypi.org/simple, https://us-python.pkg.dev/colab-wheels/public/simple/\n",
      "Collecting hnswlib\n",
      "  Downloading hnswlib-0.7.0.tar.gz (33 kB)\n",
      "  Installing build dependencies ... \u001B[?25l\u001B[?25hdone\n",
      "  Getting requirements to build wheel ... \u001B[?25l\u001B[?25hdone\n",
      "  Preparing metadata (pyproject.toml) ... \u001B[?25l\u001B[?25hdone\n",
      "Requirement already satisfied: numpy in /usr/local/lib/python3.9/dist-packages (from hnswlib) (1.22.4)\n",
      "Building wheels for collected packages: hnswlib\n",
      "  Building wheel for hnswlib (pyproject.toml) ... \u001B[?25l\u001B[?25hdone\n",
      "  Created wheel for hnswlib: filename=hnswlib-0.7.0-cp39-cp39-linux_x86_64.whl size=2118378 sha256=25359ee4b9964395eb8fe8cdc00bc935aa5a67d1731d519b2dd0dab0e655e0e0\n",
      "  Stored in directory: /root/.cache/pip/wheels/ba/26/61/fface6c407f56418b3140cd7645917f20ba6b27d4e32b2bd20\n",
      "Successfully built hnswlib\n",
      "Installing collected packages: hnswlib\n",
      "Successfully installed hnswlib-0.7.0\n"
     ]
    }
   ]
  },
  {
   "cell_type": "code",
   "source": [
    "!pip install lightfm"
   ],
   "metadata": {
    "colab": {
     "base_uri": "https://localhost:8080/"
    },
    "id": "Wueivmq9v6L0",
    "outputId": "39a962bd-fc9f-4bfb-fbee-c97f23d2ab28"
   },
   "execution_count": null,
   "outputs": [
    {
     "output_type": "stream",
     "name": "stdout",
     "text": [
      "Looking in indexes: https://pypi.org/simple, https://us-python.pkg.dev/colab-wheels/public/simple/\n",
      "Requirement already satisfied: lightfm in /usr/local/lib/python3.9/dist-packages (1.17)\n",
      "Requirement already satisfied: requests in /usr/local/lib/python3.9/dist-packages (from lightfm) (2.27.1)\n",
      "Requirement already satisfied: scikit-learn in /usr/local/lib/python3.9/dist-packages (from lightfm) (1.2.2)\n",
      "Requirement already satisfied: numpy in /usr/local/lib/python3.9/dist-packages (from lightfm) (1.22.4)\n",
      "Requirement already satisfied: scipy>=0.17.0 in /usr/local/lib/python3.9/dist-packages (from lightfm) (1.10.1)\n",
      "Requirement already satisfied: idna<4,>=2.5 in /usr/local/lib/python3.9/dist-packages (from requests->lightfm) (3.4)\n",
      "Requirement already satisfied: charset-normalizer~=2.0.0 in /usr/local/lib/python3.9/dist-packages (from requests->lightfm) (2.0.12)\n",
      "Requirement already satisfied: certifi>=2017.4.17 in /usr/local/lib/python3.9/dist-packages (from requests->lightfm) (2022.12.7)\n",
      "Requirement already satisfied: urllib3<1.27,>=1.21.1 in /usr/local/lib/python3.9/dist-packages (from requests->lightfm) (1.26.15)\n",
      "Requirement already satisfied: joblib>=1.1.1 in /usr/local/lib/python3.9/dist-packages (from scikit-learn->lightfm) (1.2.0)\n",
      "Requirement already satisfied: threadpoolctl>=2.0.0 in /usr/local/lib/python3.9/dist-packages (from scikit-learn->lightfm) (3.1.0)\n"
     ]
    }
   ]
  },
  {
   "cell_type": "code",
   "execution_count": null,
   "metadata": {
    "pycharm": {
     "name": "#%%\n"
    },
    "id": "FZHcfYdAjsjF"
   },
   "outputs": [],
   "source": [
    "from random import randint\n",
    "import sys\n",
    "\n",
    "import requests\n",
    "from lightfm import LightFM\n",
    "import pandas as pd\n",
    "import numpy as np\n",
    "from rectools.metrics import Precision, Recall, MAP, calc_metrics\n",
    "from rectools import Columns\n",
    "from rectools.dataset import Dataset\n",
    "from rectools.models import LightFMWrapperModel"
   ]
  },
  {
   "cell_type": "markdown",
   "metadata": {
    "collapsed": false,
    "pycharm": {
     "name": "#%% md\n"
    },
    "id": "_rJeQBEgjsjI"
   },
   "source": [
    "# LOAD DATA"
   ]
  },
  {
   "cell_type": "code",
   "execution_count": null,
   "metadata": {
    "pycharm": {
     "name": "#%%\n"
    },
    "colab": {
     "base_uri": "https://localhost:8080/"
    },
    "id": "i6zcpLgdjsjK",
    "outputId": "2d3ac53d-8895-4f79-8e1f-5a91773aa1bb"
   },
   "outputs": [
    {
     "output_type": "stream",
     "name": "stdout",
     "text": [
      "--2023-04-15 21:14:05--  https://storage.yandexcloud.net/itmo-recsys-public-data/kion_train.zip\n",
      "Resolving storage.yandexcloud.net (storage.yandexcloud.net)... 213.180.193.243, 2a02:6b8::1d9\n",
      "Connecting to storage.yandexcloud.net (storage.yandexcloud.net)|213.180.193.243|:443... connected.\n",
      "HTTP request sent, awaiting response... 200 OK\n",
      "Length: 78795385 (75M) [application/zip]\n",
      "Saving to: ‘kion_train.zip’\n",
      "\n",
      "kion_train.zip      100%[===================>]  75.14M  23.4MB/s    in 3.9s    \n",
      "\n",
      "2023-04-15 21:14:10 (19.5 MB/s) - ‘kion_train.zip’ saved [78795385/78795385]\n",
      "\n"
     ]
    }
   ],
   "source": [
    "!wget https://storage.yandexcloud.net/itmo-recsys-public-data/kion_train.zip"
   ]
  },
  {
   "cell_type": "code",
   "source": [
    "!unzip kion_train.zip"
   ],
   "metadata": {
    "colab": {
     "base_uri": "https://localhost:8080/"
    },
    "id": "eK-01oJOwXmr",
    "outputId": "1599f28f-f2c5-442b-dc96-2f6cc570d112"
   },
   "execution_count": null,
   "outputs": [
    {
     "output_type": "stream",
     "name": "stdout",
     "text": [
      "Archive:  kion_train.zip\n",
      "   creating: kion_train/\n",
      "  inflating: kion_train/interactions.csv  \n",
      "  inflating: __MACOSX/kion_train/._interactions.csv  \n",
      "  inflating: kion_train/users.csv    \n",
      "  inflating: __MACOSX/kion_train/._users.csv  \n",
      "  inflating: kion_train/items.csv    \n",
      "  inflating: __MACOSX/kion_train/._items.csv  \n"
     ]
    }
   ]
  },
  {
   "cell_type": "code",
   "execution_count": null,
   "metadata": {
    "pycharm": {
     "name": "#%%\n"
    },
    "id": "KLfW-Vg2jsjL"
   },
   "outputs": [],
   "source": [
    "interactions = pd.read_csv('kion_train/interactions.csv')\n",
    "users = pd.read_csv('kion_train/users.csv')\n",
    "items = pd.read_csv('kion_train/items.csv')"
   ]
  },
  {
   "cell_type": "markdown",
   "metadata": {
    "collapsed": false,
    "pycharm": {
     "name": "#%% md\n"
    },
    "id": "Ym0DtdCsjsjN"
   },
   "source": [
    "# Preprocess"
   ]
  },
  {
   "cell_type": "code",
   "execution_count": null,
   "metadata": {
    "pycharm": {
     "name": "#%%\n"
    },
    "id": "CHCcP0WEjsjO"
   },
   "outputs": [],
   "source": [
    "Columns.Datetime = 'last_watch_dt'"
   ]
  },
  {
   "cell_type": "code",
   "execution_count": null,
   "metadata": {
    "pycharm": {
     "name": "#%%\n"
    },
    "id": "lZ5mmXS-jsjR"
   },
   "outputs": [],
   "source": [
    "interactions.drop(interactions[interactions[Columns.Datetime].str.len() != 10].index, inplace=True)"
   ]
  },
  {
   "cell_type": "code",
   "execution_count": null,
   "metadata": {
    "pycharm": {
     "name": "#%%\n"
    },
    "id": "ZnX5u7mPjsjS"
   },
   "outputs": [],
   "source": [
    "interactions[Columns.Datetime] = pd.to_datetime(interactions[Columns.Datetime], format='%Y-%m-%d')"
   ]
  },
  {
   "cell_type": "code",
   "execution_count": null,
   "metadata": {
    "pycharm": {
     "name": "#%%\n"
    },
    "id": "U_XUCXLNjsjT"
   },
   "outputs": [],
   "source": [
    "max_date = interactions[Columns.Datetime].max()"
   ]
  },
  {
   "cell_type": "code",
   "execution_count": null,
   "metadata": {
    "pycharm": {
     "name": "#%%\n"
    },
    "id": "XQK_r4UAjsjT"
   },
   "outputs": [],
   "source": [
    "interactions[Columns.Weight] = np.where(interactions['watched_pct'] > 10, 3, 1)"
   ]
  },
  {
   "cell_type": "code",
   "execution_count": null,
   "metadata": {
    "pycharm": {
     "name": "#%%\n"
    },
    "colab": {
     "base_uri": "https://localhost:8080/"
    },
    "id": "lGAsQa-ZjsjU",
    "outputId": "098b8c46-b62a-41d7-8f20-60f74357894a"
   },
   "outputs": [
    {
     "output_type": "stream",
     "name": "stdout",
     "text": [
      "train: (4985269, 6)\n",
      "test: (490982, 6)\n"
     ]
    }
   ],
   "source": [
    "train = interactions[interactions[Columns.Datetime] < max_date - pd.Timedelta(days=7)].copy()\n",
    "test = interactions[interactions[Columns.Datetime] >= max_date - pd.Timedelta(days=7)].copy()\n",
    "\n",
    "print(f\"train: {train.shape}\")\n",
    "print(f\"test: {test.shape}\")"
   ]
  },
  {
   "cell_type": "code",
   "execution_count": null,
   "metadata": {
    "pycharm": {
     "name": "#%%\n"
    },
    "id": "iyu6jl3BjsjV"
   },
   "outputs": [],
   "source": [
    "train.drop(train.query(\"total_dur < 300\").index, inplace=True)"
   ]
  },
  {
   "cell_type": "code",
   "execution_count": null,
   "metadata": {
    "pycharm": {
     "name": "#%%\n"
    },
    "id": "cK2IJELSjsjV"
   },
   "outputs": [],
   "source": [
    "# отфильтруем холодных пользователей из теста\n",
    "cold_users = set(test[Columns.User]) - set(train[Columns.User])"
   ]
  },
  {
   "cell_type": "code",
   "execution_count": null,
   "metadata": {
    "pycharm": {
     "name": "#%%\n"
    },
    "id": "XHGJdqZijsjW"
   },
   "outputs": [],
   "source": [
    "test.drop(test[test[Columns.User].isin(cold_users)].index, inplace=True)"
   ]
  },
  {
   "cell_type": "markdown",
   "metadata": {
    "collapsed": false,
    "pycharm": {
     "name": "#%% md\n"
    },
    "id": "rYYBgrTnjsjW"
   },
   "source": [
    "# Models"
   ]
  },
  {
   "cell_type": "code",
   "execution_count": null,
   "metadata": {
    "pycharm": {
     "name": "#%%\n"
    },
    "id": "lhuC6GSWjsjW"
   },
   "outputs": [],
   "source": [
    "TEST_USERS = test[Columns.User].unique()"
   ]
  },
  {
   "cell_type": "markdown",
   "metadata": {
    "collapsed": false,
    "pycharm": {
     "name": "#%% md\n"
    },
    "id": "eY4WqpEqjsjX"
   },
   "source": [
    "# Добавляем аватаров в обучающую выборку\n",
    "\n",
    "1. Девушка, которая смотрит только мелодрамы\n",
    "3. Девочка, смотрит только аниме, хочет уехать в Японию.\n",
    "3. Фанат Райана Гослинга"
   ]
  },
  {
   "cell_type": "code",
   "execution_count": null,
   "metadata": {
    "pycharm": {
     "name": "#%%\n"
    },
    "id": "79PiQfIzjsjX"
   },
   "outputs": [],
   "source": [
    "dramma_queen = items[(items.genres.isna() == False) & (items.genres.str.contains('мелодрамы'))][:10]\n",
    "anime_tyan = items[(items.age_rating <= 12) & (items.keywords.str.contains('аниме', case=False))][:15]\n",
    "gosling_fan = items[(items.actors.isna() == False) & (items.actors.str.contains('Райан Гослинг'))][:10]\n",
    "\n",
    "new_items = [dramma_queen, anime_tyan, gosling_fan]"
   ]
  },
  {
   "cell_type": "code",
   "execution_count": null,
   "metadata": {
    "pycharm": {
     "name": "#%%\n"
    },
    "colab": {
     "base_uri": "https://localhost:8080/"
    },
    "id": "O9VyHd5QjsjY",
    "outputId": "c540ac1d-94fc-4d58-db78-78665a1370ed"
   },
   "outputs": [
    {
     "output_type": "stream",
     "name": "stderr",
     "text": [
      "<ipython-input-19-3fb76f32fe70>:10: FutureWarning: The frame.append method is deprecated and will be removed from pandas in a future version. Use pandas.concat instead.\n",
      "  train = train.append({\n",
      "<ipython-input-19-3fb76f32fe70>:10: FutureWarning: The frame.append method is deprecated and will be removed from pandas in a future version. Use pandas.concat instead.\n",
      "  train = train.append({\n",
      "<ipython-input-19-3fb76f32fe70>:10: FutureWarning: The frame.append method is deprecated and will be removed from pandas in a future version. Use pandas.concat instead.\n",
      "  train = train.append({\n",
      "<ipython-input-19-3fb76f32fe70>:10: FutureWarning: The frame.append method is deprecated and will be removed from pandas in a future version. Use pandas.concat instead.\n",
      "  train = train.append({\n",
      "<ipython-input-19-3fb76f32fe70>:10: FutureWarning: The frame.append method is deprecated and will be removed from pandas in a future version. Use pandas.concat instead.\n",
      "  train = train.append({\n",
      "<ipython-input-19-3fb76f32fe70>:10: FutureWarning: The frame.append method is deprecated and will be removed from pandas in a future version. Use pandas.concat instead.\n",
      "  train = train.append({\n",
      "<ipython-input-19-3fb76f32fe70>:10: FutureWarning: The frame.append method is deprecated and will be removed from pandas in a future version. Use pandas.concat instead.\n",
      "  train = train.append({\n",
      "<ipython-input-19-3fb76f32fe70>:10: FutureWarning: The frame.append method is deprecated and will be removed from pandas in a future version. Use pandas.concat instead.\n",
      "  train = train.append({\n",
      "<ipython-input-19-3fb76f32fe70>:10: FutureWarning: The frame.append method is deprecated and will be removed from pandas in a future version. Use pandas.concat instead.\n",
      "  train = train.append({\n",
      "<ipython-input-19-3fb76f32fe70>:10: FutureWarning: The frame.append method is deprecated and will be removed from pandas in a future version. Use pandas.concat instead.\n",
      "  train = train.append({\n",
      "<ipython-input-19-3fb76f32fe70>:10: FutureWarning: The frame.append method is deprecated and will be removed from pandas in a future version. Use pandas.concat instead.\n",
      "  train = train.append({\n",
      "<ipython-input-19-3fb76f32fe70>:10: FutureWarning: The frame.append method is deprecated and will be removed from pandas in a future version. Use pandas.concat instead.\n",
      "  train = train.append({\n",
      "<ipython-input-19-3fb76f32fe70>:10: FutureWarning: The frame.append method is deprecated and will be removed from pandas in a future version. Use pandas.concat instead.\n",
      "  train = train.append({\n",
      "<ipython-input-19-3fb76f32fe70>:10: FutureWarning: The frame.append method is deprecated and will be removed from pandas in a future version. Use pandas.concat instead.\n",
      "  train = train.append({\n",
      "<ipython-input-19-3fb76f32fe70>:10: FutureWarning: The frame.append method is deprecated and will be removed from pandas in a future version. Use pandas.concat instead.\n",
      "  train = train.append({\n",
      "<ipython-input-19-3fb76f32fe70>:10: FutureWarning: The frame.append method is deprecated and will be removed from pandas in a future version. Use pandas.concat instead.\n",
      "  train = train.append({\n",
      "<ipython-input-19-3fb76f32fe70>:10: FutureWarning: The frame.append method is deprecated and will be removed from pandas in a future version. Use pandas.concat instead.\n",
      "  train = train.append({\n",
      "<ipython-input-19-3fb76f32fe70>:10: FutureWarning: The frame.append method is deprecated and will be removed from pandas in a future version. Use pandas.concat instead.\n",
      "  train = train.append({\n",
      "<ipython-input-19-3fb76f32fe70>:10: FutureWarning: The frame.append method is deprecated and will be removed from pandas in a future version. Use pandas.concat instead.\n",
      "  train = train.append({\n",
      "<ipython-input-19-3fb76f32fe70>:10: FutureWarning: The frame.append method is deprecated and will be removed from pandas in a future version. Use pandas.concat instead.\n",
      "  train = train.append({\n",
      "<ipython-input-19-3fb76f32fe70>:10: FutureWarning: The frame.append method is deprecated and will be removed from pandas in a future version. Use pandas.concat instead.\n",
      "  train = train.append({\n",
      "<ipython-input-19-3fb76f32fe70>:10: FutureWarning: The frame.append method is deprecated and will be removed from pandas in a future version. Use pandas.concat instead.\n",
      "  train = train.append({\n",
      "<ipython-input-19-3fb76f32fe70>:10: FutureWarning: The frame.append method is deprecated and will be removed from pandas in a future version. Use pandas.concat instead.\n",
      "  train = train.append({\n",
      "<ipython-input-19-3fb76f32fe70>:10: FutureWarning: The frame.append method is deprecated and will be removed from pandas in a future version. Use pandas.concat instead.\n",
      "  train = train.append({\n",
      "<ipython-input-19-3fb76f32fe70>:10: FutureWarning: The frame.append method is deprecated and will be removed from pandas in a future version. Use pandas.concat instead.\n",
      "  train = train.append({\n",
      "<ipython-input-19-3fb76f32fe70>:10: FutureWarning: The frame.append method is deprecated and will be removed from pandas in a future version. Use pandas.concat instead.\n",
      "  train = train.append({\n",
      "<ipython-input-19-3fb76f32fe70>:10: FutureWarning: The frame.append method is deprecated and will be removed from pandas in a future version. Use pandas.concat instead.\n",
      "  train = train.append({\n",
      "<ipython-input-19-3fb76f32fe70>:10: FutureWarning: The frame.append method is deprecated and will be removed from pandas in a future version. Use pandas.concat instead.\n",
      "  train = train.append({\n",
      "<ipython-input-19-3fb76f32fe70>:10: FutureWarning: The frame.append method is deprecated and will be removed from pandas in a future version. Use pandas.concat instead.\n",
      "  train = train.append({\n",
      "<ipython-input-19-3fb76f32fe70>:10: FutureWarning: The frame.append method is deprecated and will be removed from pandas in a future version. Use pandas.concat instead.\n",
      "  train = train.append({\n",
      "<ipython-input-19-3fb76f32fe70>:10: FutureWarning: The frame.append method is deprecated and will be removed from pandas in a future version. Use pandas.concat instead.\n",
      "  train = train.append({\n",
      "<ipython-input-19-3fb76f32fe70>:10: FutureWarning: The frame.append method is deprecated and will be removed from pandas in a future version. Use pandas.concat instead.\n",
      "  train = train.append({\n",
      "<ipython-input-19-3fb76f32fe70>:10: FutureWarning: The frame.append method is deprecated and will be removed from pandas in a future version. Use pandas.concat instead.\n",
      "  train = train.append({\n",
      "<ipython-input-19-3fb76f32fe70>:10: FutureWarning: The frame.append method is deprecated and will be removed from pandas in a future version. Use pandas.concat instead.\n",
      "  train = train.append({\n",
      "<ipython-input-19-3fb76f32fe70>:10: FutureWarning: The frame.append method is deprecated and will be removed from pandas in a future version. Use pandas.concat instead.\n",
      "  train = train.append({\n"
     ]
    }
   ],
   "source": [
    "max_user_id = train.user_id.max()\n",
    "avatar_ids = list()\n",
    "\n",
    "for user_items in new_items:\n",
    "    max_user_id += 1\n",
    "    for item_id in user_items.item_id:\n",
    "        last_watch_dt = f'2022-{str(randint(1,12)).zfill(2)}-{str(randint(1,28)).zfill(2)}'\n",
    "        if max_user_id not in avatar_ids:\n",
    "            avatar_ids.append(max_user_id)\n",
    "        train = train.append({\n",
    "            'user_id': max_user_id,\n",
    "            'item_id': item_id,\n",
    "            'last_watch_dt': last_watch_dt,\n",
    "            'watched_pct': randint(70, 100),\n",
    "            'weight': 3\n",
    "        }, ignore_index=True)"
   ]
  },
  {
   "cell_type": "code",
   "execution_count": null,
   "metadata": {
    "pycharm": {
     "name": "#%%\n"
    },
    "id": "MDPDV9H6jsjY"
   },
   "outputs": [],
   "source": [
    "avatar_map = pd.DataFrame({\"user_id\": avatar_ids, \"name\": ['dramma_queen', 'anime_tyan', 'gosling_fan']})"
   ]
  },
  {
   "cell_type": "code",
   "execution_count": null,
   "metadata": {
    "pycharm": {
     "name": "#%%\n"
    },
    "colab": {
     "base_uri": "https://localhost:8080/"
    },
    "id": "zuIJg8TOjsjZ",
    "outputId": "ea59de7e-89a9-43ee-b70d-09dbd144e22e"
   },
   "outputs": [
    {
     "output_type": "execute_result",
     "data": {
      "text/plain": [
       "[1097558, 1097559, 1097560]"
      ]
     },
     "metadata": {},
     "execution_count": 21
    }
   ],
   "source": [
    "avatar_ids"
   ]
  },
  {
   "cell_type": "markdown",
   "metadata": {
    "collapsed": false,
    "pycharm": {
     "name": "#%% md\n"
    },
    "id": "kMcXG-5-jsja"
   },
   "source": [
    "# Обучение LightFm"
   ]
  },
  {
   "cell_type": "code",
   "execution_count": null,
   "metadata": {
    "pycharm": {
     "name": "#%%\n"
    },
    "colab": {
     "base_uri": "https://localhost:8080/"
    },
    "id": "6B3bnmbcjsja",
    "outputId": "60479e91-f8d8-4910-830e-675e9bce7923"
   },
   "outputs": [
    {
     "output_type": "stream",
     "name": "stderr",
     "text": [
      "/usr/local/lib/python3.9/dist-packages/rectools/dataset/interactions.py:62: FutureWarning: Inferring datetime64[ns] from data containing strings is deprecated and will be removed in a future version. To retain the old behavior explicitly pass Series(data, dtype=datetime64[ns])\n",
      "  df[Columns.Datetime] = df[Columns.Datetime].astype(\"datetime64[ns]\")\n"
     ]
    }
   ],
   "source": [
    "dataset = Dataset.construct(interactions_df=train)"
   ]
  },
  {
   "cell_type": "code",
   "execution_count": null,
   "metadata": {
    "pycharm": {
     "name": "#%%\n"
    },
    "colab": {
     "base_uri": "https://localhost:8080/"
    },
    "id": "RTquZvPJjsja",
    "outputId": "de4a2f39-fde7-4a12-f190-a1a2ae05fd01"
   },
   "outputs": [
    {
     "output_type": "execute_result",
     "data": {
      "text/plain": [
       "<rectools.models.lightfm.LightFMWrapperModel at 0x7f186c8f2880>"
      ]
     },
     "metadata": {},
     "execution_count": 23
    }
   ],
   "source": [
    "model = LightFMWrapperModel(\n",
    "        LightFM(\n",
    "            no_components=12,\n",
    "            loss='warp',\n",
    "            random_state=1234,\n",
    "        ),\n",
    "        epochs=10,\n",
    "        num_threads=4,\n",
    "    )\n",
    "\n",
    "model.fit(dataset)"
   ]
  },
  {
   "cell_type": "code",
   "execution_count": null,
   "metadata": {
    "pycharm": {
     "name": "#%%\n"
    },
    "id": "Gm6MB-lljsjc"
   },
   "outputs": [],
   "source": [
    "recoms = model.recommend(\n",
    "    users=avatar_ids,\n",
    "    dataset=dataset,\n",
    "    k=10,\n",
    "    filter_viewed=True,\n",
    ")\n",
    "recoms = pd.merge(recoms, items, on='item_id')\n",
    "recoms = pd.merge(recoms, avatar_map, on='user_id')[['name', 'countries', 'title', 'genres', 'age_rating', 'actors', 'keywords']]\n"
   ]
  },
  {
   "cell_type": "markdown",
   "metadata": {
    "collapsed": false,
    "pycharm": {
     "name": "#%% md\n"
    },
    "id": "fI2XeXTQjsjc"
   },
   "source": [
    "# Approximate Nearest Neighbors"
   ]
  },
  {
   "cell_type": "code",
   "execution_count": null,
   "metadata": {
    "pycharm": {
     "name": "#%%\n"
    },
    "id": "YZ9ilO1Fjsjd"
   },
   "outputs": [],
   "source": []
  },
  {
   "cell_type": "code",
   "source": [
    "import hnswlib\n",
    "import nmslib"
   ],
   "metadata": {
    "id": "du8vJnSPC_G1"
   },
   "execution_count": null,
   "outputs": []
  },
  {
   "cell_type": "code",
   "source": [
    "from pydantic import BaseSettings\n",
    "class ApproximateNearestNeighbors:\n",
    "    def __init__(\n",
    "        self,\n",
    "        model,\n",
    "        dataset: Dataset,\n",
    "        M: int = 256,\n",
    "        efC: int = 128,\n",
    "        efS: int = 256,\n",
    "        num_threads = 8,\n",
    "    ):\n",
    "        self.model = model\n",
    "        self.dataset = dataset\n",
    "        self.num_threads = num_threads\n",
    "        self.index = nmslib.init(\n",
    "            method='hnsw',\n",
    "            space='negdotprod',\n",
    "            data_type=nmslib.DataType.DENSE_VECTOR\n",
    "        )\n",
    "        self.index_time_params = {\n",
    "            'M': M,\n",
    "            'indexThreadQty': self.num_threads,\n",
    "            'efConstruction': efC\n",
    "        }\n",
    "        self.neighbours = None\n",
    "        self.query_time_params = {'efSearch': efS}\n",
    "\n",
    "    @staticmethod\n",
    "    def augment_inner_product(factors):\n",
    "        normed_factors = np.linalg.norm(factors, axis=1)\n",
    "        max_norm = normed_factors.max()\n",
    "\n",
    "        extra_dim = np.sqrt(max_norm ** 2 - normed_factors ** 2).reshape(-1, 1)\n",
    "        augmented_factors = np.append(factors, extra_dim, axis=1)\n",
    "        return augmented_factors\n",
    "\n",
    "    def fit(self, k_reco: int = 10):\n",
    "        user_embeddings, item_embeddings = self.model.get_vectors(self.dataset)\n",
    "        augmented_item_embeddings = self.augment_inner_product(\n",
    "            item_embeddings\n",
    "        )\n",
    "        extra_zero = np.zeros((user_embeddings.shape[0], 1))\n",
    "        augmented_user_embeddings = np.append(\n",
    "            user_embeddings,\n",
    "            extra_zero,\n",
    "            axis=1\n",
    "        )\n",
    "\n",
    "        self.index.addDataPointBatch(augmented_item_embeddings)\n",
    "        self.index.createIndex(self.index_time_params)\n",
    "        self.index.setQueryTimeParams(self.query_time_params)\n",
    "\n",
    "        self.neighbours = self.index.knnQueryBatch(\n",
    "            augmented_user_embeddings,\n",
    "            k=k_reco,\n",
    "            num_threads=self.num_threads\n",
    "        )\n",
    "\n",
    "    def predict(self, user_id: int):\n",
    "        int_id = self.dataset.user_id_map.convert_to_internal([user_id])[0]\n",
    "        user_recs = self.neighbours[int_id][0]  # type: ignore\n",
    "        return self.dataset.item_id_map.convert_to_external(user_recs)"
   ],
   "metadata": {
    "id": "xdy-TBk8DojP"
   },
   "execution_count": null,
   "outputs": []
  },
  {
   "cell_type": "code",
   "source": [
    "ann = ApproximateNearestNeighbors(model=model, dataset=dataset)\n",
    "ann.fit(k_reco=10)"
   ],
   "metadata": {
    "id": "8iq1AZq3kwMp"
   },
   "execution_count": null,
   "outputs": []
  },
  {
   "cell_type": "code",
   "source": [
    "user_embeddings, item_embeddings = model.get_vectors(dataset)"
   ],
   "metadata": {
    "id": "Nis7fYURDKpW"
   },
   "execution_count": null,
   "outputs": []
  },
  {
   "cell_type": "code",
   "source": [
    "user_embeddings.shape, item_embeddings.shape"
   ],
   "metadata": {
    "colab": {
     "base_uri": "https://localhost:8080/"
    },
    "id": "mMVUW74FEdE8",
    "outputId": "84a6970a-c18a-412c-9993-a3b70be9ba9a"
   },
   "execution_count": null,
   "outputs": [
    {
     "output_type": "execute_result",
     "data": {
      "text/plain": [
       "((756565, 14), (14020, 14))"
      ]
     },
     "metadata": {},
     "execution_count": 29
    }
   ]
  },
  {
   "cell_type": "code",
   "source": [
    "def augment_inner_product(factors):\n",
    "    normed_factors = np.linalg.norm(factors, axis=1)\n",
    "    max_norm = normed_factors.max()\n",
    "    \n",
    "    extra_dim = np.sqrt(max_norm ** 2 - normed_factors ** 2).reshape(-1, 1)\n",
    "    augmented_factors = np.append(factors, extra_dim, axis=1)\n",
    "    return max_norm, augmented_factors"
   ],
   "metadata": {
    "id": "2u0ubkg9Eid3"
   },
   "execution_count": null,
   "outputs": []
  },
  {
   "cell_type": "code",
   "source": [
    "ann.predict"
   ],
   "metadata": {
    "id": "ZMfqwhfqEijT"
   },
   "execution_count": null,
   "outputs": []
  },
  {
   "cell_type": "markdown",
   "metadata": {
    "collapsed": false,
    "pycharm": {
     "name": "#%% md\n"
    },
    "id": "NiigKQ3Ejsjd"
   },
   "source": [
    "## Драма квинн\n",
    "Модель не так уж плохо справилась, в плане предсказания фильмов, всего 1 мелодрама и 3 драмы"
   ]
  },
  {
   "cell_type": "code",
   "execution_count": null,
   "metadata": {
    "pycharm": {
     "name": "#%%\n"
    },
    "id": "jSBwqdGpjsjd"
   },
   "outputs": [],
   "source": [
    "lightfm_recs_dramma_queen = recoms[:10]\n",
    "ann_recs_dramma_queen = items[items.item_id.isin(ann.predict(user_id=avatar_ids[0]))]"
   ]
  },
  {
   "cell_type": "code",
   "execution_count": null,
   "metadata": {
    "pycharm": {
     "name": "#%%\n"
    },
    "id": "br0onzk6jsje"
   },
   "outputs": [],
   "source": [
    "assert set(lightfm_recs_dramma_queen.title) == set(ann_recs_dramma_queen.title)"
   ]
  },
  {
   "cell_type": "code",
   "execution_count": null,
   "metadata": {
    "pycharm": {
     "name": "#%%\n"
    },
    "colab": {
     "base_uri": "https://localhost:8080/",
     "height": 1000
    },
    "id": "3s4buJjLjsje",
    "outputId": "b5a0bcf1-4334-4284-ab54-6d1a343d9231"
   },
   "outputs": [
    {
     "output_type": "execute_result",
     "data": {
      "text/plain": [
       "       item_id content_type                         title  \\\n",
       "767      15297       series               Клиника счастья   \n",
       "1882     10440       series                   Хрустальный   \n",
       "3875      6809         film                         Дуров   \n",
       "6346      9728         film             Гнев человеческий   \n",
       "6501     13865         film                      Девятаев   \n",
       "6689      4151       series        Секреты семейной жизни   \n",
       "7486      8636         film                    Белый снег   \n",
       "9253      1844         film                     Аферистка   \n",
       "12050     3734         film  Прабабушка легкого поведения   \n",
       "15234      142         film                          Маша   \n",
       "\n",
       "                            title_orig  release_year  \\\n",
       "767                  Klinika schast'ya        2021.0   \n",
       "1882                      Khrustal'nyy        2021.0   \n",
       "3875                               NaN        2021.0   \n",
       "6346                      Wrath of Man        2021.0   \n",
       "6501              V2. Escape from Hell        2021.0   \n",
       "6689                               NaN        2021.0   \n",
       "7486                        Belyy sneg        2021.0   \n",
       "9253                      I Care A Lot        2020.0   \n",
       "12050  Prababushka lyogkogo povedeniya        2021.0   \n",
       "15234                            Masha        2020.0   \n",
       "\n",
       "                            genres            countries  for_kids  age_rating  \\\n",
       "767               драмы, мелодрамы               Россия       NaN        18.0   \n",
       "1882           триллеры, детективы               Россия       NaN        18.0   \n",
       "3875                документальное               Россия       NaN        16.0   \n",
       "6346             боевики, триллеры  Великобритания, США       NaN        18.0   \n",
       "6501   драмы, военные, приключения               Россия       NaN        12.0   \n",
       "6689                       комедии               Россия       NaN        18.0   \n",
       "7486                  драмы, спорт               Россия       NaN         6.0   \n",
       "9253             триллеры, комедии       Великобритания       NaN        18.0   \n",
       "12050                      комедии               Россия       NaN        16.0   \n",
       "15234              драмы, триллеры               Россия       NaN        16.0   \n",
       "\n",
       "      studios             directors  \\\n",
       "767       NaN    Александр Кириенко   \n",
       "1882      NaN        Душан Глигоров   \n",
       "3875      NaN         Родион Чепель   \n",
       "6346      NaN              Гай Ричи   \n",
       "6501      NaN     Тимур Бекмамбетов   \n",
       "6689      NaN        Шота Гамисония   \n",
       "7486      NaN      Николай Хомерики   \n",
       "9253      NaN         Джей Блейксон   \n",
       "12050     NaN        Марюс Вайсберг   \n",
       "15234     NaN  Анастасия Пальчикова   \n",
       "\n",
       "                                                  actors  \\\n",
       "767    Дарья Мороз, Анатолий Белый, Данил Акутин, Мар...   \n",
       "1882   Антон Васильев, Николай Шрайбер, Екатерина Оль...   \n",
       "3875                                                 NaN   \n",
       "6346   Джейсон Стэйтем, Холт МакКэллани, Джеффри Доно...   \n",
       "6501   Павел Прилучный, Павел Чинарёв, Тимофей Трибун...   \n",
       "6689   Петр Скворцов, Алена Михайлова, Федор Лавров, ...   \n",
       "7486   Ольга Лерман, Федор Добронравов, Надежда Марки...   \n",
       "9253   Розамунд Пайк, Питер Динклэйдж, Эйса Гонсалес,...   \n",
       "12050  Александр Ревва, Глюкоза, Дмитрий Нагиев, Миха...   \n",
       "15234  Максим Суханов, Аня Чиповская, Полина Гухман, ...   \n",
       "\n",
       "                                             description  \\\n",
       "767    Успешный сексолог Алена уверена, что нашла фор...   \n",
       "1882   Сергей Смирнов — один из лучших «охотников на ...   \n",
       "3875   Уникальная история о лидере нового поколения, ...   \n",
       "6346   Грузовики лос-анджелесской инкассаторской комп...   \n",
       "6501   Военно-исторический блокбастер от режиссёров Т...   \n",
       "6689   У Никиты и Полины всё начиналось прекрасно: об...   \n",
       "7486   Отечественная спортивная драма про лыжницу и о...   \n",
       "9253   Марла руководствуется принципом «побеждает сил...   \n",
       "12050  1980 год, вся страна следит за событиями моско...   \n",
       "15234  13-летняя Маша растёт между боксёрским рингом ...   \n",
       "\n",
       "                                                keywords  \n",
       "767    Клиника счастья, Клиника, Счастье, Клиника сча...  \n",
       "1882   хруст, хрусталь, хруста, хрус, полицейский, пе...  \n",
       "3875   Компьютер, Монитор, Гений, Интервью, Предприни...  \n",
       "6346   ограбление, криминальный авторитет, месть, пер...  \n",
       "6501   Девятаев, Девятаева, Девят, Девя, Девята, Девя...  \n",
       "6689   брызги крови, кровь, жестокое обращение с живо...  \n",
       "7486   биография, занятие спортом, байопик, чемпионат...  \n",
       "9253   опекун, аферист, чёрная комедия, мошенник, 202...  \n",
       "12050     , 2021, россия, прабабушка, легкого, поведения  \n",
       "15234  Фильм Маша, Маша фильм 2021, Смотреть фильм Ма...  "
      ],
      "text/html": [
       "\n",
       "  <div id=\"df-63a49b22-0c82-4a03-8475-8faf5c65c3f2\">\n",
       "    <div class=\"colab-df-container\">\n",
       "      <div>\n",
       "<style scoped>\n",
       "    .dataframe tbody tr th:only-of-type {\n",
       "        vertical-align: middle;\n",
       "    }\n",
       "\n",
       "    .dataframe tbody tr th {\n",
       "        vertical-align: top;\n",
       "    }\n",
       "\n",
       "    .dataframe thead th {\n",
       "        text-align: right;\n",
       "    }\n",
       "</style>\n",
       "<table border=\"1\" class=\"dataframe\">\n",
       "  <thead>\n",
       "    <tr style=\"text-align: right;\">\n",
       "      <th></th>\n",
       "      <th>item_id</th>\n",
       "      <th>content_type</th>\n",
       "      <th>title</th>\n",
       "      <th>title_orig</th>\n",
       "      <th>release_year</th>\n",
       "      <th>genres</th>\n",
       "      <th>countries</th>\n",
       "      <th>for_kids</th>\n",
       "      <th>age_rating</th>\n",
       "      <th>studios</th>\n",
       "      <th>directors</th>\n",
       "      <th>actors</th>\n",
       "      <th>description</th>\n",
       "      <th>keywords</th>\n",
       "    </tr>\n",
       "  </thead>\n",
       "  <tbody>\n",
       "    <tr>\n",
       "      <th>767</th>\n",
       "      <td>15297</td>\n",
       "      <td>series</td>\n",
       "      <td>Клиника счастья</td>\n",
       "      <td>Klinika schast'ya</td>\n",
       "      <td>2021.0</td>\n",
       "      <td>драмы, мелодрамы</td>\n",
       "      <td>Россия</td>\n",
       "      <td>NaN</td>\n",
       "      <td>18.0</td>\n",
       "      <td>NaN</td>\n",
       "      <td>Александр Кириенко</td>\n",
       "      <td>Дарья Мороз, Анатолий Белый, Данил Акутин, Мар...</td>\n",
       "      <td>Успешный сексолог Алена уверена, что нашла фор...</td>\n",
       "      <td>Клиника счастья, Клиника, Счастье, Клиника сча...</td>\n",
       "    </tr>\n",
       "    <tr>\n",
       "      <th>1882</th>\n",
       "      <td>10440</td>\n",
       "      <td>series</td>\n",
       "      <td>Хрустальный</td>\n",
       "      <td>Khrustal'nyy</td>\n",
       "      <td>2021.0</td>\n",
       "      <td>триллеры, детективы</td>\n",
       "      <td>Россия</td>\n",
       "      <td>NaN</td>\n",
       "      <td>18.0</td>\n",
       "      <td>NaN</td>\n",
       "      <td>Душан Глигоров</td>\n",
       "      <td>Антон Васильев, Николай Шрайбер, Екатерина Оль...</td>\n",
       "      <td>Сергей Смирнов — один из лучших «охотников на ...</td>\n",
       "      <td>хруст, хрусталь, хруста, хрус, полицейский, пе...</td>\n",
       "    </tr>\n",
       "    <tr>\n",
       "      <th>3875</th>\n",
       "      <td>6809</td>\n",
       "      <td>film</td>\n",
       "      <td>Дуров</td>\n",
       "      <td>NaN</td>\n",
       "      <td>2021.0</td>\n",
       "      <td>документальное</td>\n",
       "      <td>Россия</td>\n",
       "      <td>NaN</td>\n",
       "      <td>16.0</td>\n",
       "      <td>NaN</td>\n",
       "      <td>Родион Чепель</td>\n",
       "      <td>NaN</td>\n",
       "      <td>Уникальная история о лидере нового поколения, ...</td>\n",
       "      <td>Компьютер, Монитор, Гений, Интервью, Предприни...</td>\n",
       "    </tr>\n",
       "    <tr>\n",
       "      <th>6346</th>\n",
       "      <td>9728</td>\n",
       "      <td>film</td>\n",
       "      <td>Гнев человеческий</td>\n",
       "      <td>Wrath of Man</td>\n",
       "      <td>2021.0</td>\n",
       "      <td>боевики, триллеры</td>\n",
       "      <td>Великобритания, США</td>\n",
       "      <td>NaN</td>\n",
       "      <td>18.0</td>\n",
       "      <td>NaN</td>\n",
       "      <td>Гай Ричи</td>\n",
       "      <td>Джейсон Стэйтем, Холт МакКэллани, Джеффри Доно...</td>\n",
       "      <td>Грузовики лос-анджелесской инкассаторской комп...</td>\n",
       "      <td>ограбление, криминальный авторитет, месть, пер...</td>\n",
       "    </tr>\n",
       "    <tr>\n",
       "      <th>6501</th>\n",
       "      <td>13865</td>\n",
       "      <td>film</td>\n",
       "      <td>Девятаев</td>\n",
       "      <td>V2. Escape from Hell</td>\n",
       "      <td>2021.0</td>\n",
       "      <td>драмы, военные, приключения</td>\n",
       "      <td>Россия</td>\n",
       "      <td>NaN</td>\n",
       "      <td>12.0</td>\n",
       "      <td>NaN</td>\n",
       "      <td>Тимур Бекмамбетов</td>\n",
       "      <td>Павел Прилучный, Павел Чинарёв, Тимофей Трибун...</td>\n",
       "      <td>Военно-исторический блокбастер от режиссёров Т...</td>\n",
       "      <td>Девятаев, Девятаева, Девят, Девя, Девята, Девя...</td>\n",
       "    </tr>\n",
       "    <tr>\n",
       "      <th>6689</th>\n",
       "      <td>4151</td>\n",
       "      <td>series</td>\n",
       "      <td>Секреты семейной жизни</td>\n",
       "      <td>NaN</td>\n",
       "      <td>2021.0</td>\n",
       "      <td>комедии</td>\n",
       "      <td>Россия</td>\n",
       "      <td>NaN</td>\n",
       "      <td>18.0</td>\n",
       "      <td>NaN</td>\n",
       "      <td>Шота Гамисония</td>\n",
       "      <td>Петр Скворцов, Алена Михайлова, Федор Лавров, ...</td>\n",
       "      <td>У Никиты и Полины всё начиналось прекрасно: об...</td>\n",
       "      <td>брызги крови, кровь, жестокое обращение с живо...</td>\n",
       "    </tr>\n",
       "    <tr>\n",
       "      <th>7486</th>\n",
       "      <td>8636</td>\n",
       "      <td>film</td>\n",
       "      <td>Белый снег</td>\n",
       "      <td>Belyy sneg</td>\n",
       "      <td>2021.0</td>\n",
       "      <td>драмы, спорт</td>\n",
       "      <td>Россия</td>\n",
       "      <td>NaN</td>\n",
       "      <td>6.0</td>\n",
       "      <td>NaN</td>\n",
       "      <td>Николай Хомерики</td>\n",
       "      <td>Ольга Лерман, Федор Добронравов, Надежда Марки...</td>\n",
       "      <td>Отечественная спортивная драма про лыжницу и о...</td>\n",
       "      <td>биография, занятие спортом, байопик, чемпионат...</td>\n",
       "    </tr>\n",
       "    <tr>\n",
       "      <th>9253</th>\n",
       "      <td>1844</td>\n",
       "      <td>film</td>\n",
       "      <td>Аферистка</td>\n",
       "      <td>I Care A Lot</td>\n",
       "      <td>2020.0</td>\n",
       "      <td>триллеры, комедии</td>\n",
       "      <td>Великобритания</td>\n",
       "      <td>NaN</td>\n",
       "      <td>18.0</td>\n",
       "      <td>NaN</td>\n",
       "      <td>Джей Блейксон</td>\n",
       "      <td>Розамунд Пайк, Питер Динклэйдж, Эйса Гонсалес,...</td>\n",
       "      <td>Марла руководствуется принципом «побеждает сил...</td>\n",
       "      <td>опекун, аферист, чёрная комедия, мошенник, 202...</td>\n",
       "    </tr>\n",
       "    <tr>\n",
       "      <th>12050</th>\n",
       "      <td>3734</td>\n",
       "      <td>film</td>\n",
       "      <td>Прабабушка легкого поведения</td>\n",
       "      <td>Prababushka lyogkogo povedeniya</td>\n",
       "      <td>2021.0</td>\n",
       "      <td>комедии</td>\n",
       "      <td>Россия</td>\n",
       "      <td>NaN</td>\n",
       "      <td>16.0</td>\n",
       "      <td>NaN</td>\n",
       "      <td>Марюс Вайсберг</td>\n",
       "      <td>Александр Ревва, Глюкоза, Дмитрий Нагиев, Миха...</td>\n",
       "      <td>1980 год, вся страна следит за событиями моско...</td>\n",
       "      <td>, 2021, россия, прабабушка, легкого, поведения</td>\n",
       "    </tr>\n",
       "    <tr>\n",
       "      <th>15234</th>\n",
       "      <td>142</td>\n",
       "      <td>film</td>\n",
       "      <td>Маша</td>\n",
       "      <td>Masha</td>\n",
       "      <td>2020.0</td>\n",
       "      <td>драмы, триллеры</td>\n",
       "      <td>Россия</td>\n",
       "      <td>NaN</td>\n",
       "      <td>16.0</td>\n",
       "      <td>NaN</td>\n",
       "      <td>Анастасия Пальчикова</td>\n",
       "      <td>Максим Суханов, Аня Чиповская, Полина Гухман, ...</td>\n",
       "      <td>13-летняя Маша растёт между боксёрским рингом ...</td>\n",
       "      <td>Фильм Маша, Маша фильм 2021, Смотреть фильм Ма...</td>\n",
       "    </tr>\n",
       "  </tbody>\n",
       "</table>\n",
       "</div>\n",
       "      <button class=\"colab-df-convert\" onclick=\"convertToInteractive('df-63a49b22-0c82-4a03-8475-8faf5c65c3f2')\"\n",
       "              title=\"Convert this dataframe to an interactive table.\"\n",
       "              style=\"display:none;\">\n",
       "        \n",
       "  <svg xmlns=\"http://www.w3.org/2000/svg\" height=\"24px\"viewBox=\"0 0 24 24\"\n",
       "       width=\"24px\">\n",
       "    <path d=\"M0 0h24v24H0V0z\" fill=\"none\"/>\n",
       "    <path d=\"M18.56 5.44l.94 2.06.94-2.06 2.06-.94-2.06-.94-.94-2.06-.94 2.06-2.06.94zm-11 1L8.5 8.5l.94-2.06 2.06-.94-2.06-.94L8.5 2.5l-.94 2.06-2.06.94zm10 10l.94 2.06.94-2.06 2.06-.94-2.06-.94-.94-2.06-.94 2.06-2.06.94z\"/><path d=\"M17.41 7.96l-1.37-1.37c-.4-.4-.92-.59-1.43-.59-.52 0-1.04.2-1.43.59L10.3 9.45l-7.72 7.72c-.78.78-.78 2.05 0 2.83L4 21.41c.39.39.9.59 1.41.59.51 0 1.02-.2 1.41-.59l7.78-7.78 2.81-2.81c.8-.78.8-2.07 0-2.86zM5.41 20L4 18.59l7.72-7.72 1.47 1.35L5.41 20z\"/>\n",
       "  </svg>\n",
       "      </button>\n",
       "      \n",
       "  <style>\n",
       "    .colab-df-container {\n",
       "      display:flex;\n",
       "      flex-wrap:wrap;\n",
       "      gap: 12px;\n",
       "    }\n",
       "\n",
       "    .colab-df-convert {\n",
       "      background-color: #E8F0FE;\n",
       "      border: none;\n",
       "      border-radius: 50%;\n",
       "      cursor: pointer;\n",
       "      display: none;\n",
       "      fill: #1967D2;\n",
       "      height: 32px;\n",
       "      padding: 0 0 0 0;\n",
       "      width: 32px;\n",
       "    }\n",
       "\n",
       "    .colab-df-convert:hover {\n",
       "      background-color: #E2EBFA;\n",
       "      box-shadow: 0px 1px 2px rgba(60, 64, 67, 0.3), 0px 1px 3px 1px rgba(60, 64, 67, 0.15);\n",
       "      fill: #174EA6;\n",
       "    }\n",
       "\n",
       "    [theme=dark] .colab-df-convert {\n",
       "      background-color: #3B4455;\n",
       "      fill: #D2E3FC;\n",
       "    }\n",
       "\n",
       "    [theme=dark] .colab-df-convert:hover {\n",
       "      background-color: #434B5C;\n",
       "      box-shadow: 0px 1px 3px 1px rgba(0, 0, 0, 0.15);\n",
       "      filter: drop-shadow(0px 1px 2px rgba(0, 0, 0, 0.3));\n",
       "      fill: #FFFFFF;\n",
       "    }\n",
       "  </style>\n",
       "\n",
       "      <script>\n",
       "        const buttonEl =\n",
       "          document.querySelector('#df-63a49b22-0c82-4a03-8475-8faf5c65c3f2 button.colab-df-convert');\n",
       "        buttonEl.style.display =\n",
       "          google.colab.kernel.accessAllowed ? 'block' : 'none';\n",
       "\n",
       "        async function convertToInteractive(key) {\n",
       "          const element = document.querySelector('#df-63a49b22-0c82-4a03-8475-8faf5c65c3f2');\n",
       "          const dataTable =\n",
       "            await google.colab.kernel.invokeFunction('convertToInteractive',\n",
       "                                                     [key], {});\n",
       "          if (!dataTable) return;\n",
       "\n",
       "          const docLinkHtml = 'Like what you see? Visit the ' +\n",
       "            '<a target=\"_blank\" href=https://colab.research.google.com/notebooks/data_table.ipynb>data table notebook</a>'\n",
       "            + ' to learn more about interactive tables.';\n",
       "          element.innerHTML = '';\n",
       "          dataTable['output_type'] = 'display_data';\n",
       "          await google.colab.output.renderOutput(dataTable, element);\n",
       "          const docLink = document.createElement('div');\n",
       "          docLink.innerHTML = docLinkHtml;\n",
       "          element.appendChild(docLink);\n",
       "        }\n",
       "      </script>\n",
       "    </div>\n",
       "  </div>\n",
       "  "
      ]
     },
     "metadata": {},
     "execution_count": 33
    }
   ],
   "source": [
    "ann_recs_dramma_queen"
   ]
  },
  {
   "cell_type": "code",
   "source": [
    "recoms"
   ],
   "metadata": {
    "id": "0rN9mV0FwfQ9"
   },
   "execution_count": null,
   "outputs": []
  },
  {
   "cell_type": "markdown",
   "metadata": {
    "collapsed": false,
    "pycharm": {
     "name": "#%% md\n"
    },
    "id": "MhrT4YQUjsje"
   },
   "source": [
    "## Аниме-тян\n",
    "Отличные рекомендации, 4 аниме"
   ]
  },
  {
   "cell_type": "code",
   "execution_count": null,
   "metadata": {
    "pycharm": {
     "name": "#%%\n"
    },
    "id": "1zaQckl3jsjf"
   },
   "outputs": [],
   "source": [
    "lightfm_recs_anime_tyan = recoms[10:20]\n",
    "ann_recs_anime_tyan = items[items.item_id.isin(ann.predict(user_id=avatar_ids[1]))]"
   ]
  },
  {
   "cell_type": "code",
   "execution_count": null,
   "metadata": {
    "pycharm": {
     "name": "#%%\n"
    },
    "colab": {
     "base_uri": "https://localhost:8080/",
     "height": 1000
    },
    "id": "05Hwyw8Gjsjf",
    "outputId": "c6568015-45d3-465d-889d-7ddcc0f903f9"
   },
   "outputs": [
    {
     "output_type": "execute_result",
     "data": {
      "text/plain": [
       "       item_id content_type                               title  \\\n",
       "1274      5411         film  Монстры на каникулах 3: Море зовёт   \n",
       "1554     16270         film                          Тайна Коко   \n",
       "1849      7571         film                           100% волк   \n",
       "3951      3182         film              Ральф против Интернета   \n",
       "5206     13159         film                             Рататуй   \n",
       "8275      2954         film                             Миньоны   \n",
       "9698     16166         film                          Зверополис   \n",
       "11254    11749         film                      Суперсемейка 2   \n",
       "12471    14942         film      История игрушек: Большой побег   \n",
       "12620    13243         film                         Головоломка   \n",
       "\n",
       "                                  title_orig  release_year  \\\n",
       "1274   Hotel Transylvania 3: Summer Vacation        2018.0   \n",
       "1554                                    Coco        2017.0   \n",
       "1849                               100% Wolf        2020.0   \n",
       "3951               Ralph Breaks the Internet        2018.0   \n",
       "5206                             Ratatouille        2007.0   \n",
       "8275                                 Minions        2015.0   \n",
       "9698                                Zootopia        2016.0   \n",
       "11254                          Incredibles 2        2018.0   \n",
       "12471                            Toy Story 3        2010.0   \n",
       "12620                             Inside Out        2015.0   \n",
       "\n",
       "                                                  genres           countries  \\\n",
       "1274           мультфильм, фэнтези, приключения, комедии                 США   \n",
       "1554                    мультфильм, фэнтези, приключения                 США   \n",
       "1849   мультфильм, приключения, семейное, фэнтези, ко...  Австралия, Бельгия   \n",
       "3951   мультфильм, приключения, фантастика, семейное,...                 США   \n",
       "5206    мультфильм, приключения, драмы, фэнтези, комедии                 США   \n",
       "8275        фантастика, мультфильм, приключения, комедии                 США   \n",
       "9698         приключения, мультфильм, детективы, комедии                 США   \n",
       "11254                фантастика, мультфильм, приключения                 США   \n",
       "12471                       мультфильм, фэнтези, комедии                 США   \n",
       "12620                    фантастика, мультфильм, комедии                 США   \n",
       "\n",
       "       for_kids  age_rating studios                           directors  \\\n",
       "1274        NaN         6.0     NaN                Генндий Тартаковский   \n",
       "1554        NaN        12.0     NaN            Ли Анкрич, Эдриан Молина   \n",
       "1849        NaN         6.0     NaN                    Алекс Стадерманн   \n",
       "3951        NaN         6.0     NaN               Рич Мур, Фил Джонстон   \n",
       "5206        NaN         0.0     NaN               Брэд Бёрд, Ян Пинкава   \n",
       "8275        NaN         6.0     NaN             Кайл Балда, Пьер Коффан   \n",
       "9698        NaN         6.0     NaN  Байрон Ховард, Рич Мур, Джаред Буш   \n",
       "11254       NaN         6.0     NaN                           Брэд Бёрд   \n",
       "12471       NaN         6.0     NaN                           Ли Анкрич   \n",
       "12620       NaN         6.0     NaN     Пит Доктер, Роналдо Дель Кармен   \n",
       "\n",
       "                                                  actors  \\\n",
       "1274   Энди Сэмберг, Селена Гомес, Кевин Джеймс, Стив...   \n",
       "1554   Энтони Гонсалес, Гаэль Гарсиа Берналь, Бенджам...   \n",
       "1849   Илай Суинделлс, Самара Уивинг, Джай Кортни, Ру...   \n",
       "3951   Джон Си Райли, Сара Силверман, Галь Гадот, Тар...   \n",
       "5206   Пэттон Освальт, Иэн Холм, Лу Романо, Брайан Де...   \n",
       "8275   Сандра Буллок, Джон Хэмм, Майкл Китон, Эллисон...   \n",
       "9698   Джиннифер Гудвин, Джейсон Бейтман, Идрис Эльба...   \n",
       "11254  Крэйг Т. Нельсон, Холли Хантер, Сара Вауэлл, Х...   \n",
       "12471  Том Хэнкс, Тим Аллен, Джоан Кьюсак, Нед Битти,...   \n",
       "12620  Эми Полер, Филлис Смит, Ричард Кайнд, Билл Хей...   \n",
       "\n",
       "                                             description  \\\n",
       "1274   На этот раз Дракула вместе со своими друзьями ...   \n",
       "1554   Мексиканский юноша Мигель живёт в семье сапожн...   \n",
       "1849   Наследник семьи оборотней Фредди Люпин отчаянн...   \n",
       "3951   На этот раз Ральф и Ванилопа фон Кекс выйдут з...   \n",
       "5206   Крыс Реми обладает уникальным вкусом. Он готов...   \n",
       "8275   Миньоны живут на планете гораздо дольше нас. У...   \n",
       "9698   Добро пожаловать в Зверополис — современный го...   \n",
       "11254  После событий первой части суперсемейка пользу...   \n",
       "12471  Энди почти 18 лет, ему остаётся 3 дня до отпра...   \n",
       "12620  11-летняя девочка Райли переезжает с семьёй из...   \n",
       "\n",
       "                                                keywords  \n",
       "1274   третья часть, круизное судно, персонаж Дракула...  \n",
       "1554   Мексика, гитара, музыкант, скелет, музыка, заг...  \n",
       "1849   пудель, подростковая тревога, оборотень, приня...  \n",
       "3951   видеоигра, мультфильм, продолжение, интернет, ...  \n",
       "5206   Париж, Франция, родственные отношения, дорогой...  \n",
       "8275   помощник, сцена после титров, сцена во время т...  \n",
       "9698   аллегория, лев, бегемот, лиса, слон, овца, бел...  \n",
       "11254  семейная пара, продолжение, супергерой, дети, ...  \n",
       "12471  заложник, колледж, игрушка, побег, детский сад...  \n",
       "12620  мечта, мультфильм, воображаемый друг, начальна...  "
      ],
      "text/html": [
       "\n",
       "  <div id=\"df-440e45e2-03cc-44e5-babf-510e605e79e3\">\n",
       "    <div class=\"colab-df-container\">\n",
       "      <div>\n",
       "<style scoped>\n",
       "    .dataframe tbody tr th:only-of-type {\n",
       "        vertical-align: middle;\n",
       "    }\n",
       "\n",
       "    .dataframe tbody tr th {\n",
       "        vertical-align: top;\n",
       "    }\n",
       "\n",
       "    .dataframe thead th {\n",
       "        text-align: right;\n",
       "    }\n",
       "</style>\n",
       "<table border=\"1\" class=\"dataframe\">\n",
       "  <thead>\n",
       "    <tr style=\"text-align: right;\">\n",
       "      <th></th>\n",
       "      <th>item_id</th>\n",
       "      <th>content_type</th>\n",
       "      <th>title</th>\n",
       "      <th>title_orig</th>\n",
       "      <th>release_year</th>\n",
       "      <th>genres</th>\n",
       "      <th>countries</th>\n",
       "      <th>for_kids</th>\n",
       "      <th>age_rating</th>\n",
       "      <th>studios</th>\n",
       "      <th>directors</th>\n",
       "      <th>actors</th>\n",
       "      <th>description</th>\n",
       "      <th>keywords</th>\n",
       "    </tr>\n",
       "  </thead>\n",
       "  <tbody>\n",
       "    <tr>\n",
       "      <th>1274</th>\n",
       "      <td>5411</td>\n",
       "      <td>film</td>\n",
       "      <td>Монстры на каникулах 3: Море зовёт</td>\n",
       "      <td>Hotel Transylvania 3: Summer Vacation</td>\n",
       "      <td>2018.0</td>\n",
       "      <td>мультфильм, фэнтези, приключения, комедии</td>\n",
       "      <td>США</td>\n",
       "      <td>NaN</td>\n",
       "      <td>6.0</td>\n",
       "      <td>NaN</td>\n",
       "      <td>Генндий Тартаковский</td>\n",
       "      <td>Энди Сэмберг, Селена Гомес, Кевин Джеймс, Стив...</td>\n",
       "      <td>На этот раз Дракула вместе со своими друзьями ...</td>\n",
       "      <td>третья часть, круизное судно, персонаж Дракула...</td>\n",
       "    </tr>\n",
       "    <tr>\n",
       "      <th>1554</th>\n",
       "      <td>16270</td>\n",
       "      <td>film</td>\n",
       "      <td>Тайна Коко</td>\n",
       "      <td>Coco</td>\n",
       "      <td>2017.0</td>\n",
       "      <td>мультфильм, фэнтези, приключения</td>\n",
       "      <td>США</td>\n",
       "      <td>NaN</td>\n",
       "      <td>12.0</td>\n",
       "      <td>NaN</td>\n",
       "      <td>Ли Анкрич, Эдриан Молина</td>\n",
       "      <td>Энтони Гонсалес, Гаэль Гарсиа Берналь, Бенджам...</td>\n",
       "      <td>Мексиканский юноша Мигель живёт в семье сапожн...</td>\n",
       "      <td>Мексика, гитара, музыкант, скелет, музыка, заг...</td>\n",
       "    </tr>\n",
       "    <tr>\n",
       "      <th>1849</th>\n",
       "      <td>7571</td>\n",
       "      <td>film</td>\n",
       "      <td>100% волк</td>\n",
       "      <td>100% Wolf</td>\n",
       "      <td>2020.0</td>\n",
       "      <td>мультфильм, приключения, семейное, фэнтези, ко...</td>\n",
       "      <td>Австралия, Бельгия</td>\n",
       "      <td>NaN</td>\n",
       "      <td>6.0</td>\n",
       "      <td>NaN</td>\n",
       "      <td>Алекс Стадерманн</td>\n",
       "      <td>Илай Суинделлс, Самара Уивинг, Джай Кортни, Ру...</td>\n",
       "      <td>Наследник семьи оборотней Фредди Люпин отчаянн...</td>\n",
       "      <td>пудель, подростковая тревога, оборотень, приня...</td>\n",
       "    </tr>\n",
       "    <tr>\n",
       "      <th>3951</th>\n",
       "      <td>3182</td>\n",
       "      <td>film</td>\n",
       "      <td>Ральф против Интернета</td>\n",
       "      <td>Ralph Breaks the Internet</td>\n",
       "      <td>2018.0</td>\n",
       "      <td>мультфильм, приключения, фантастика, семейное,...</td>\n",
       "      <td>США</td>\n",
       "      <td>NaN</td>\n",
       "      <td>6.0</td>\n",
       "      <td>NaN</td>\n",
       "      <td>Рич Мур, Фил Джонстон</td>\n",
       "      <td>Джон Си Райли, Сара Силверман, Галь Гадот, Тар...</td>\n",
       "      <td>На этот раз Ральф и Ванилопа фон Кекс выйдут з...</td>\n",
       "      <td>видеоигра, мультфильм, продолжение, интернет, ...</td>\n",
       "    </tr>\n",
       "    <tr>\n",
       "      <th>5206</th>\n",
       "      <td>13159</td>\n",
       "      <td>film</td>\n",
       "      <td>Рататуй</td>\n",
       "      <td>Ratatouille</td>\n",
       "      <td>2007.0</td>\n",
       "      <td>мультфильм, приключения, драмы, фэнтези, комедии</td>\n",
       "      <td>США</td>\n",
       "      <td>NaN</td>\n",
       "      <td>0.0</td>\n",
       "      <td>NaN</td>\n",
       "      <td>Брэд Бёрд, Ян Пинкава</td>\n",
       "      <td>Пэттон Освальт, Иэн Холм, Лу Романо, Брайан Де...</td>\n",
       "      <td>Крыс Реми обладает уникальным вкусом. Он готов...</td>\n",
       "      <td>Париж, Франция, родственные отношения, дорогой...</td>\n",
       "    </tr>\n",
       "    <tr>\n",
       "      <th>8275</th>\n",
       "      <td>2954</td>\n",
       "      <td>film</td>\n",
       "      <td>Миньоны</td>\n",
       "      <td>Minions</td>\n",
       "      <td>2015.0</td>\n",
       "      <td>фантастика, мультфильм, приключения, комедии</td>\n",
       "      <td>США</td>\n",
       "      <td>NaN</td>\n",
       "      <td>6.0</td>\n",
       "      <td>NaN</td>\n",
       "      <td>Кайл Балда, Пьер Коффан</td>\n",
       "      <td>Сандра Буллок, Джон Хэмм, Майкл Китон, Эллисон...</td>\n",
       "      <td>Миньоны живут на планете гораздо дольше нас. У...</td>\n",
       "      <td>помощник, сцена после титров, сцена во время т...</td>\n",
       "    </tr>\n",
       "    <tr>\n",
       "      <th>9698</th>\n",
       "      <td>16166</td>\n",
       "      <td>film</td>\n",
       "      <td>Зверополис</td>\n",
       "      <td>Zootopia</td>\n",
       "      <td>2016.0</td>\n",
       "      <td>приключения, мультфильм, детективы, комедии</td>\n",
       "      <td>США</td>\n",
       "      <td>NaN</td>\n",
       "      <td>6.0</td>\n",
       "      <td>NaN</td>\n",
       "      <td>Байрон Ховард, Рич Мур, Джаред Буш</td>\n",
       "      <td>Джиннифер Гудвин, Джейсон Бейтман, Идрис Эльба...</td>\n",
       "      <td>Добро пожаловать в Зверополис — современный го...</td>\n",
       "      <td>аллегория, лев, бегемот, лиса, слон, овца, бел...</td>\n",
       "    </tr>\n",
       "    <tr>\n",
       "      <th>11254</th>\n",
       "      <td>11749</td>\n",
       "      <td>film</td>\n",
       "      <td>Суперсемейка 2</td>\n",
       "      <td>Incredibles 2</td>\n",
       "      <td>2018.0</td>\n",
       "      <td>фантастика, мультфильм, приключения</td>\n",
       "      <td>США</td>\n",
       "      <td>NaN</td>\n",
       "      <td>6.0</td>\n",
       "      <td>NaN</td>\n",
       "      <td>Брэд Бёрд</td>\n",
       "      <td>Крэйг Т. Нельсон, Холли Хантер, Сара Вауэлл, Х...</td>\n",
       "      <td>После событий первой части суперсемейка пользу...</td>\n",
       "      <td>семейная пара, продолжение, супергерой, дети, ...</td>\n",
       "    </tr>\n",
       "    <tr>\n",
       "      <th>12471</th>\n",
       "      <td>14942</td>\n",
       "      <td>film</td>\n",
       "      <td>История игрушек: Большой побег</td>\n",
       "      <td>Toy Story 3</td>\n",
       "      <td>2010.0</td>\n",
       "      <td>мультфильм, фэнтези, комедии</td>\n",
       "      <td>США</td>\n",
       "      <td>NaN</td>\n",
       "      <td>6.0</td>\n",
       "      <td>NaN</td>\n",
       "      <td>Ли Анкрич</td>\n",
       "      <td>Том Хэнкс, Тим Аллен, Джоан Кьюсак, Нед Битти,...</td>\n",
       "      <td>Энди почти 18 лет, ему остаётся 3 дня до отпра...</td>\n",
       "      <td>заложник, колледж, игрушка, побег, детский сад...</td>\n",
       "    </tr>\n",
       "    <tr>\n",
       "      <th>12620</th>\n",
       "      <td>13243</td>\n",
       "      <td>film</td>\n",
       "      <td>Головоломка</td>\n",
       "      <td>Inside Out</td>\n",
       "      <td>2015.0</td>\n",
       "      <td>фантастика, мультфильм, комедии</td>\n",
       "      <td>США</td>\n",
       "      <td>NaN</td>\n",
       "      <td>6.0</td>\n",
       "      <td>NaN</td>\n",
       "      <td>Пит Доктер, Роналдо Дель Кармен</td>\n",
       "      <td>Эми Полер, Филлис Смит, Ричард Кайнд, Билл Хей...</td>\n",
       "      <td>11-летняя девочка Райли переезжает с семьёй из...</td>\n",
       "      <td>мечта, мультфильм, воображаемый друг, начальна...</td>\n",
       "    </tr>\n",
       "  </tbody>\n",
       "</table>\n",
       "</div>\n",
       "      <button class=\"colab-df-convert\" onclick=\"convertToInteractive('df-440e45e2-03cc-44e5-babf-510e605e79e3')\"\n",
       "              title=\"Convert this dataframe to an interactive table.\"\n",
       "              style=\"display:none;\">\n",
       "        \n",
       "  <svg xmlns=\"http://www.w3.org/2000/svg\" height=\"24px\"viewBox=\"0 0 24 24\"\n",
       "       width=\"24px\">\n",
       "    <path d=\"M0 0h24v24H0V0z\" fill=\"none\"/>\n",
       "    <path d=\"M18.56 5.44l.94 2.06.94-2.06 2.06-.94-2.06-.94-.94-2.06-.94 2.06-2.06.94zm-11 1L8.5 8.5l.94-2.06 2.06-.94-2.06-.94L8.5 2.5l-.94 2.06-2.06.94zm10 10l.94 2.06.94-2.06 2.06-.94-2.06-.94-.94-2.06-.94 2.06-2.06.94z\"/><path d=\"M17.41 7.96l-1.37-1.37c-.4-.4-.92-.59-1.43-.59-.52 0-1.04.2-1.43.59L10.3 9.45l-7.72 7.72c-.78.78-.78 2.05 0 2.83L4 21.41c.39.39.9.59 1.41.59.51 0 1.02-.2 1.41-.59l7.78-7.78 2.81-2.81c.8-.78.8-2.07 0-2.86zM5.41 20L4 18.59l7.72-7.72 1.47 1.35L5.41 20z\"/>\n",
       "  </svg>\n",
       "      </button>\n",
       "      \n",
       "  <style>\n",
       "    .colab-df-container {\n",
       "      display:flex;\n",
       "      flex-wrap:wrap;\n",
       "      gap: 12px;\n",
       "    }\n",
       "\n",
       "    .colab-df-convert {\n",
       "      background-color: #E8F0FE;\n",
       "      border: none;\n",
       "      border-radius: 50%;\n",
       "      cursor: pointer;\n",
       "      display: none;\n",
       "      fill: #1967D2;\n",
       "      height: 32px;\n",
       "      padding: 0 0 0 0;\n",
       "      width: 32px;\n",
       "    }\n",
       "\n",
       "    .colab-df-convert:hover {\n",
       "      background-color: #E2EBFA;\n",
       "      box-shadow: 0px 1px 2px rgba(60, 64, 67, 0.3), 0px 1px 3px 1px rgba(60, 64, 67, 0.15);\n",
       "      fill: #174EA6;\n",
       "    }\n",
       "\n",
       "    [theme=dark] .colab-df-convert {\n",
       "      background-color: #3B4455;\n",
       "      fill: #D2E3FC;\n",
       "    }\n",
       "\n",
       "    [theme=dark] .colab-df-convert:hover {\n",
       "      background-color: #434B5C;\n",
       "      box-shadow: 0px 1px 3px 1px rgba(0, 0, 0, 0.15);\n",
       "      filter: drop-shadow(0px 1px 2px rgba(0, 0, 0, 0.3));\n",
       "      fill: #FFFFFF;\n",
       "    }\n",
       "  </style>\n",
       "\n",
       "      <script>\n",
       "        const buttonEl =\n",
       "          document.querySelector('#df-440e45e2-03cc-44e5-babf-510e605e79e3 button.colab-df-convert');\n",
       "        buttonEl.style.display =\n",
       "          google.colab.kernel.accessAllowed ? 'block' : 'none';\n",
       "\n",
       "        async function convertToInteractive(key) {\n",
       "          const element = document.querySelector('#df-440e45e2-03cc-44e5-babf-510e605e79e3');\n",
       "          const dataTable =\n",
       "            await google.colab.kernel.invokeFunction('convertToInteractive',\n",
       "                                                     [key], {});\n",
       "          if (!dataTable) return;\n",
       "\n",
       "          const docLinkHtml = 'Like what you see? Visit the ' +\n",
       "            '<a target=\"_blank\" href=https://colab.research.google.com/notebooks/data_table.ipynb>data table notebook</a>'\n",
       "            + ' to learn more about interactive tables.';\n",
       "          element.innerHTML = '';\n",
       "          dataTable['output_type'] = 'display_data';\n",
       "          await google.colab.output.renderOutput(dataTable, element);\n",
       "          const docLink = document.createElement('div');\n",
       "          docLink.innerHTML = docLinkHtml;\n",
       "          element.appendChild(docLink);\n",
       "        }\n",
       "      </script>\n",
       "    </div>\n",
       "  </div>\n",
       "  "
      ]
     },
     "metadata": {},
     "execution_count": 35
    }
   ],
   "source": [
    "ann_recs_anime_tyan"
   ]
  },
  {
   "cell_type": "markdown",
   "metadata": {
    "collapsed": false,
    "pycharm": {
     "name": "#%% md\n"
    },
    "id": "2Cxlfzlyjsjg"
   },
   "source": [
    "## Фанат Райана Гослинга\n",
    "В рекомендациях ни 1 фильма с Райаном гослингом. Но что-то схожее с жанром было рекомендовано. Практически нет зарубежных фильмов."
   ]
  },
  {
   "cell_type": "code",
   "execution_count": null,
   "metadata": {
    "pycharm": {
     "name": "#%%\n"
    },
    "id": "LxRnInwsjsjg"
   },
   "outputs": [],
   "source": [
    "lightfm_recs_gosling_fan = recoms[20:30]\n",
    "ann_recs_gosling_fan = items[items.item_id.isin(ann.predict(user_id=avatar_ids[2]))]"
   ]
  },
  {
   "cell_type": "code",
   "execution_count": null,
   "metadata": {
    "pycharm": {
     "name": "#%%\n"
    },
    "colab": {
     "base_uri": "https://localhost:8080/",
     "height": 1000
    },
    "id": "BfpT-N_fjsjh",
    "outputId": "7b7eb071-66d6-483b-e1e1-929f1cb1a611"
   },
   "outputs": [
    {
     "output_type": "execute_result",
     "data": {
      "text/plain": [
       "       item_id content_type                         title  \\\n",
       "767      15297       series               Клиника счастья   \n",
       "927      11778         film             Простые сложности   \n",
       "1882     10440       series                   Хрустальный   \n",
       "3875      6809         film                         Дуров   \n",
       "6346      9728         film             Гнев человеческий   \n",
       "6501     13865         film                      Девятаев   \n",
       "6689      4151       series        Секреты семейной жизни   \n",
       "9253      1844         film                     Аферистка   \n",
       "12050     3734         film  Прабабушка легкого поведения   \n",
       "14889     4740         film            Сахаров. Две жизни   \n",
       "\n",
       "                            title_orig  release_year  \\\n",
       "767                  Klinika schast'ya        2021.0   \n",
       "927                   It's Complicated        2009.0   \n",
       "1882                      Khrustal'nyy        2021.0   \n",
       "3875                               NaN        2021.0   \n",
       "6346                      Wrath of Man        2021.0   \n",
       "6501              V2. Escape from Hell        2021.0   \n",
       "6689                               NaN        2021.0   \n",
       "9253                      I Care A Lot        2020.0   \n",
       "12050  Prababushka lyogkogo povedeniya        2021.0   \n",
       "14889                              NaN        2021.0   \n",
       "\n",
       "                            genres            countries  for_kids  age_rating  \\\n",
       "767               драмы, мелодрамы               Россия       NaN        18.0   \n",
       "927      драмы, мелодрамы, комедии          США, Япония       NaN        16.0   \n",
       "1882           триллеры, детективы               Россия       NaN        18.0   \n",
       "3875                документальное               Россия       NaN        16.0   \n",
       "6346             боевики, триллеры  Великобритания, США       NaN        18.0   \n",
       "6501   драмы, военные, приключения               Россия       NaN        12.0   \n",
       "6689                       комедии               Россия       NaN        18.0   \n",
       "9253             триллеры, комедии       Великобритания       NaN        18.0   \n",
       "12050                      комедии               Россия       NaN        16.0   \n",
       "14889               документальное               Россия       NaN        16.0   \n",
       "\n",
       "      studios           directors  \\\n",
       "767       NaN  Александр Кириенко   \n",
       "927       NaN        Нэнси Майэрс   \n",
       "1882      NaN      Душан Глигоров   \n",
       "3875      NaN       Родион Чепель   \n",
       "6346      NaN            Гай Ричи   \n",
       "6501      NaN   Тимур Бекмамбетов   \n",
       "6689      NaN      Шота Гамисония   \n",
       "9253      NaN       Джей Блейксон   \n",
       "12050     NaN      Марюс Вайсберг   \n",
       "14889     NaN    Иван Проскуряков   \n",
       "\n",
       "                                                  actors  \\\n",
       "767    Дарья Мороз, Анатолий Белый, Данил Акутин, Мар...   \n",
       "927    Мэрил Стрип, Алек Болдуин, Стив Мартин, Джон К...   \n",
       "1882   Антон Васильев, Николай Шрайбер, Екатерина Оль...   \n",
       "3875                                                 NaN   \n",
       "6346   Джейсон Стэйтем, Холт МакКэллани, Джеффри Доно...   \n",
       "6501   Павел Прилучный, Павел Чинарёв, Тимофей Трибун...   \n",
       "6689   Петр Скворцов, Алена Михайлова, Федор Лавров, ...   \n",
       "9253   Розамунд Пайк, Питер Динклэйдж, Эйса Гонсалес,...   \n",
       "12050  Александр Ревва, Глюкоза, Дмитрий Нагиев, Миха...   \n",
       "14889     Алексей Усольцев, Чулпан Хаматова, Агата Супер   \n",
       "\n",
       "                                             description  \\\n",
       "767    Успешный сексолог Алена уверена, что нашла фор...   \n",
       "927    Режиссёрка Нэнси Майерс, известная благодаря ф...   \n",
       "1882   Сергей Смирнов — один из лучших «охотников на ...   \n",
       "3875   Уникальная история о лидере нового поколения, ...   \n",
       "6346   Грузовики лос-анджелесской инкассаторской комп...   \n",
       "6501   Военно-исторический блокбастер от режиссёров Т...   \n",
       "6689   У Никиты и Полины всё начиналось прекрасно: об...   \n",
       "9253   Марла руководствуется принципом «побеждает сил...   \n",
       "12050  1980 год, вся страна следит за событиями моско...   \n",
       "14889  Его имя носят проспект, университет и даже аст...   \n",
       "\n",
       "                                                keywords  \n",
       "767    Клиника счастья, Клиника, Счастье, Клиника сча...  \n",
       "927    Нью-Йорк, отель, жених, выпускной, бывший муж,...  \n",
       "1882   хруст, хрусталь, хруста, хрус, полицейский, пе...  \n",
       "3875   Компьютер, Монитор, Гений, Интервью, Предприни...  \n",
       "6346   ограбление, криминальный авторитет, месть, пер...  \n",
       "6501   Девятаев, Девятаева, Девят, Девя, Девята, Девя...  \n",
       "6689   брызги крови, кровь, жестокое обращение с живо...  \n",
       "9253   опекун, аферист, чёрная комедия, мошенник, 202...  \n",
       "12050     , 2021, россия, прабабушка, легкого, поведения  \n",
       "14889  Сахаров, Сахарок, Сахар, Сахар сахаров, Сахаро...  "
      ],
      "text/html": [
       "\n",
       "  <div id=\"df-5e88fe4e-0db8-4a2a-b113-0af425d17bbc\">\n",
       "    <div class=\"colab-df-container\">\n",
       "      <div>\n",
       "<style scoped>\n",
       "    .dataframe tbody tr th:only-of-type {\n",
       "        vertical-align: middle;\n",
       "    }\n",
       "\n",
       "    .dataframe tbody tr th {\n",
       "        vertical-align: top;\n",
       "    }\n",
       "\n",
       "    .dataframe thead th {\n",
       "        text-align: right;\n",
       "    }\n",
       "</style>\n",
       "<table border=\"1\" class=\"dataframe\">\n",
       "  <thead>\n",
       "    <tr style=\"text-align: right;\">\n",
       "      <th></th>\n",
       "      <th>item_id</th>\n",
       "      <th>content_type</th>\n",
       "      <th>title</th>\n",
       "      <th>title_orig</th>\n",
       "      <th>release_year</th>\n",
       "      <th>genres</th>\n",
       "      <th>countries</th>\n",
       "      <th>for_kids</th>\n",
       "      <th>age_rating</th>\n",
       "      <th>studios</th>\n",
       "      <th>directors</th>\n",
       "      <th>actors</th>\n",
       "      <th>description</th>\n",
       "      <th>keywords</th>\n",
       "    </tr>\n",
       "  </thead>\n",
       "  <tbody>\n",
       "    <tr>\n",
       "      <th>767</th>\n",
       "      <td>15297</td>\n",
       "      <td>series</td>\n",
       "      <td>Клиника счастья</td>\n",
       "      <td>Klinika schast'ya</td>\n",
       "      <td>2021.0</td>\n",
       "      <td>драмы, мелодрамы</td>\n",
       "      <td>Россия</td>\n",
       "      <td>NaN</td>\n",
       "      <td>18.0</td>\n",
       "      <td>NaN</td>\n",
       "      <td>Александр Кириенко</td>\n",
       "      <td>Дарья Мороз, Анатолий Белый, Данил Акутин, Мар...</td>\n",
       "      <td>Успешный сексолог Алена уверена, что нашла фор...</td>\n",
       "      <td>Клиника счастья, Клиника, Счастье, Клиника сча...</td>\n",
       "    </tr>\n",
       "    <tr>\n",
       "      <th>927</th>\n",
       "      <td>11778</td>\n",
       "      <td>film</td>\n",
       "      <td>Простые сложности</td>\n",
       "      <td>It's Complicated</td>\n",
       "      <td>2009.0</td>\n",
       "      <td>драмы, мелодрамы, комедии</td>\n",
       "      <td>США, Япония</td>\n",
       "      <td>NaN</td>\n",
       "      <td>16.0</td>\n",
       "      <td>NaN</td>\n",
       "      <td>Нэнси Майэрс</td>\n",
       "      <td>Мэрил Стрип, Алек Болдуин, Стив Мартин, Джон К...</td>\n",
       "      <td>Режиссёрка Нэнси Майерс, известная благодаря ф...</td>\n",
       "      <td>Нью-Йорк, отель, жених, выпускной, бывший муж,...</td>\n",
       "    </tr>\n",
       "    <tr>\n",
       "      <th>1882</th>\n",
       "      <td>10440</td>\n",
       "      <td>series</td>\n",
       "      <td>Хрустальный</td>\n",
       "      <td>Khrustal'nyy</td>\n",
       "      <td>2021.0</td>\n",
       "      <td>триллеры, детективы</td>\n",
       "      <td>Россия</td>\n",
       "      <td>NaN</td>\n",
       "      <td>18.0</td>\n",
       "      <td>NaN</td>\n",
       "      <td>Душан Глигоров</td>\n",
       "      <td>Антон Васильев, Николай Шрайбер, Екатерина Оль...</td>\n",
       "      <td>Сергей Смирнов — один из лучших «охотников на ...</td>\n",
       "      <td>хруст, хрусталь, хруста, хрус, полицейский, пе...</td>\n",
       "    </tr>\n",
       "    <tr>\n",
       "      <th>3875</th>\n",
       "      <td>6809</td>\n",
       "      <td>film</td>\n",
       "      <td>Дуров</td>\n",
       "      <td>NaN</td>\n",
       "      <td>2021.0</td>\n",
       "      <td>документальное</td>\n",
       "      <td>Россия</td>\n",
       "      <td>NaN</td>\n",
       "      <td>16.0</td>\n",
       "      <td>NaN</td>\n",
       "      <td>Родион Чепель</td>\n",
       "      <td>NaN</td>\n",
       "      <td>Уникальная история о лидере нового поколения, ...</td>\n",
       "      <td>Компьютер, Монитор, Гений, Интервью, Предприни...</td>\n",
       "    </tr>\n",
       "    <tr>\n",
       "      <th>6346</th>\n",
       "      <td>9728</td>\n",
       "      <td>film</td>\n",
       "      <td>Гнев человеческий</td>\n",
       "      <td>Wrath of Man</td>\n",
       "      <td>2021.0</td>\n",
       "      <td>боевики, триллеры</td>\n",
       "      <td>Великобритания, США</td>\n",
       "      <td>NaN</td>\n",
       "      <td>18.0</td>\n",
       "      <td>NaN</td>\n",
       "      <td>Гай Ричи</td>\n",
       "      <td>Джейсон Стэйтем, Холт МакКэллани, Джеффри Доно...</td>\n",
       "      <td>Грузовики лос-анджелесской инкассаторской комп...</td>\n",
       "      <td>ограбление, криминальный авторитет, месть, пер...</td>\n",
       "    </tr>\n",
       "    <tr>\n",
       "      <th>6501</th>\n",
       "      <td>13865</td>\n",
       "      <td>film</td>\n",
       "      <td>Девятаев</td>\n",
       "      <td>V2. Escape from Hell</td>\n",
       "      <td>2021.0</td>\n",
       "      <td>драмы, военные, приключения</td>\n",
       "      <td>Россия</td>\n",
       "      <td>NaN</td>\n",
       "      <td>12.0</td>\n",
       "      <td>NaN</td>\n",
       "      <td>Тимур Бекмамбетов</td>\n",
       "      <td>Павел Прилучный, Павел Чинарёв, Тимофей Трибун...</td>\n",
       "      <td>Военно-исторический блокбастер от режиссёров Т...</td>\n",
       "      <td>Девятаев, Девятаева, Девят, Девя, Девята, Девя...</td>\n",
       "    </tr>\n",
       "    <tr>\n",
       "      <th>6689</th>\n",
       "      <td>4151</td>\n",
       "      <td>series</td>\n",
       "      <td>Секреты семейной жизни</td>\n",
       "      <td>NaN</td>\n",
       "      <td>2021.0</td>\n",
       "      <td>комедии</td>\n",
       "      <td>Россия</td>\n",
       "      <td>NaN</td>\n",
       "      <td>18.0</td>\n",
       "      <td>NaN</td>\n",
       "      <td>Шота Гамисония</td>\n",
       "      <td>Петр Скворцов, Алена Михайлова, Федор Лавров, ...</td>\n",
       "      <td>У Никиты и Полины всё начиналось прекрасно: об...</td>\n",
       "      <td>брызги крови, кровь, жестокое обращение с живо...</td>\n",
       "    </tr>\n",
       "    <tr>\n",
       "      <th>9253</th>\n",
       "      <td>1844</td>\n",
       "      <td>film</td>\n",
       "      <td>Аферистка</td>\n",
       "      <td>I Care A Lot</td>\n",
       "      <td>2020.0</td>\n",
       "      <td>триллеры, комедии</td>\n",
       "      <td>Великобритания</td>\n",
       "      <td>NaN</td>\n",
       "      <td>18.0</td>\n",
       "      <td>NaN</td>\n",
       "      <td>Джей Блейксон</td>\n",
       "      <td>Розамунд Пайк, Питер Динклэйдж, Эйса Гонсалес,...</td>\n",
       "      <td>Марла руководствуется принципом «побеждает сил...</td>\n",
       "      <td>опекун, аферист, чёрная комедия, мошенник, 202...</td>\n",
       "    </tr>\n",
       "    <tr>\n",
       "      <th>12050</th>\n",
       "      <td>3734</td>\n",
       "      <td>film</td>\n",
       "      <td>Прабабушка легкого поведения</td>\n",
       "      <td>Prababushka lyogkogo povedeniya</td>\n",
       "      <td>2021.0</td>\n",
       "      <td>комедии</td>\n",
       "      <td>Россия</td>\n",
       "      <td>NaN</td>\n",
       "      <td>16.0</td>\n",
       "      <td>NaN</td>\n",
       "      <td>Марюс Вайсберг</td>\n",
       "      <td>Александр Ревва, Глюкоза, Дмитрий Нагиев, Миха...</td>\n",
       "      <td>1980 год, вся страна следит за событиями моско...</td>\n",
       "      <td>, 2021, россия, прабабушка, легкого, поведения</td>\n",
       "    </tr>\n",
       "    <tr>\n",
       "      <th>14889</th>\n",
       "      <td>4740</td>\n",
       "      <td>film</td>\n",
       "      <td>Сахаров. Две жизни</td>\n",
       "      <td>NaN</td>\n",
       "      <td>2021.0</td>\n",
       "      <td>документальное</td>\n",
       "      <td>Россия</td>\n",
       "      <td>NaN</td>\n",
       "      <td>16.0</td>\n",
       "      <td>NaN</td>\n",
       "      <td>Иван Проскуряков</td>\n",
       "      <td>Алексей Усольцев, Чулпан Хаматова, Агата Супер</td>\n",
       "      <td>Его имя носят проспект, университет и даже аст...</td>\n",
       "      <td>Сахаров, Сахарок, Сахар, Сахар сахаров, Сахаро...</td>\n",
       "    </tr>\n",
       "  </tbody>\n",
       "</table>\n",
       "</div>\n",
       "      <button class=\"colab-df-convert\" onclick=\"convertToInteractive('df-5e88fe4e-0db8-4a2a-b113-0af425d17bbc')\"\n",
       "              title=\"Convert this dataframe to an interactive table.\"\n",
       "              style=\"display:none;\">\n",
       "        \n",
       "  <svg xmlns=\"http://www.w3.org/2000/svg\" height=\"24px\"viewBox=\"0 0 24 24\"\n",
       "       width=\"24px\">\n",
       "    <path d=\"M0 0h24v24H0V0z\" fill=\"none\"/>\n",
       "    <path d=\"M18.56 5.44l.94 2.06.94-2.06 2.06-.94-2.06-.94-.94-2.06-.94 2.06-2.06.94zm-11 1L8.5 8.5l.94-2.06 2.06-.94-2.06-.94L8.5 2.5l-.94 2.06-2.06.94zm10 10l.94 2.06.94-2.06 2.06-.94-2.06-.94-.94-2.06-.94 2.06-2.06.94z\"/><path d=\"M17.41 7.96l-1.37-1.37c-.4-.4-.92-.59-1.43-.59-.52 0-1.04.2-1.43.59L10.3 9.45l-7.72 7.72c-.78.78-.78 2.05 0 2.83L4 21.41c.39.39.9.59 1.41.59.51 0 1.02-.2 1.41-.59l7.78-7.78 2.81-2.81c.8-.78.8-2.07 0-2.86zM5.41 20L4 18.59l7.72-7.72 1.47 1.35L5.41 20z\"/>\n",
       "  </svg>\n",
       "      </button>\n",
       "      \n",
       "  <style>\n",
       "    .colab-df-container {\n",
       "      display:flex;\n",
       "      flex-wrap:wrap;\n",
       "      gap: 12px;\n",
       "    }\n",
       "\n",
       "    .colab-df-convert {\n",
       "      background-color: #E8F0FE;\n",
       "      border: none;\n",
       "      border-radius: 50%;\n",
       "      cursor: pointer;\n",
       "      display: none;\n",
       "      fill: #1967D2;\n",
       "      height: 32px;\n",
       "      padding: 0 0 0 0;\n",
       "      width: 32px;\n",
       "    }\n",
       "\n",
       "    .colab-df-convert:hover {\n",
       "      background-color: #E2EBFA;\n",
       "      box-shadow: 0px 1px 2px rgba(60, 64, 67, 0.3), 0px 1px 3px 1px rgba(60, 64, 67, 0.15);\n",
       "      fill: #174EA6;\n",
       "    }\n",
       "\n",
       "    [theme=dark] .colab-df-convert {\n",
       "      background-color: #3B4455;\n",
       "      fill: #D2E3FC;\n",
       "    }\n",
       "\n",
       "    [theme=dark] .colab-df-convert:hover {\n",
       "      background-color: #434B5C;\n",
       "      box-shadow: 0px 1px 3px 1px rgba(0, 0, 0, 0.15);\n",
       "      filter: drop-shadow(0px 1px 2px rgba(0, 0, 0, 0.3));\n",
       "      fill: #FFFFFF;\n",
       "    }\n",
       "  </style>\n",
       "\n",
       "      <script>\n",
       "        const buttonEl =\n",
       "          document.querySelector('#df-5e88fe4e-0db8-4a2a-b113-0af425d17bbc button.colab-df-convert');\n",
       "        buttonEl.style.display =\n",
       "          google.colab.kernel.accessAllowed ? 'block' : 'none';\n",
       "\n",
       "        async function convertToInteractive(key) {\n",
       "          const element = document.querySelector('#df-5e88fe4e-0db8-4a2a-b113-0af425d17bbc');\n",
       "          const dataTable =\n",
       "            await google.colab.kernel.invokeFunction('convertToInteractive',\n",
       "                                                     [key], {});\n",
       "          if (!dataTable) return;\n",
       "\n",
       "          const docLinkHtml = 'Like what you see? Visit the ' +\n",
       "            '<a target=\"_blank\" href=https://colab.research.google.com/notebooks/data_table.ipynb>data table notebook</a>'\n",
       "            + ' to learn more about interactive tables.';\n",
       "          element.innerHTML = '';\n",
       "          dataTable['output_type'] = 'display_data';\n",
       "          await google.colab.output.renderOutput(dataTable, element);\n",
       "          const docLink = document.createElement('div');\n",
       "          docLink.innerHTML = docLinkHtml;\n",
       "          element.appendChild(docLink);\n",
       "        }\n",
       "      </script>\n",
       "    </div>\n",
       "  </div>\n",
       "  "
      ]
     },
     "metadata": {},
     "execution_count": 37
    }
   ],
   "source": [
    "ann_recs_gosling_fan"
   ]
  },
  {
   "cell_type": "markdown",
   "metadata": {
    "collapsed": false,
    "pycharm": {
     "name": "#%% md\n"
    },
    "id": "hJgMR1BSjsjh"
   },
   "source": [
    "ВЫВОД: Получили быстрее работающие предикты, без потери качества предсказаний, модель можно использовать для онлайн подхода"
   ]
  }
 ],
 "metadata": {
  "colab": {
   "provenance": [],
   "gpuType": "T4"
  },
  "kernelspec": {
   "display_name": "Python 3.8.15 ('recsys')",
   "language": "python",
   "name": "python3"
  },
  "language_info": {
   "codemirror_mode": {
    "name": "ipython",
    "version": 3
   },
   "file_extension": ".py",
   "mimetype": "text/x-python",
   "name": "python",
   "nbconvert_exporter": "python",
   "pygments_lexer": "ipython3",
   "version": "3.8.15"
  },
  "vscode": {
   "interpreter": {
    "hash": "852d72309fcd915d879bb97ef099e5da3b2b556faafd877ee9c0f5dca92e6019"
   }
  },
  "accelerator": "GPU",
  "gpuClass": "standard"
 },
 "nbformat": 4,
 "nbformat_minor": 0
}
