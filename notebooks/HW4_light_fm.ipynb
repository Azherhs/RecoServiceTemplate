{
  "cells": [
    {
      "cell_type": "code",
      "execution_count": 1,
      "metadata": {
        "id": "nTcwT3Y9all9"
      },
      "outputs": [],
      "source": [
        "import os"
      ]
    },
    {
      "cell_type": "code",
      "execution_count": 2,
      "metadata": {
        "id": "97-xZsBrall_"
      },
      "outputs": [],
      "source": [
        "os.environ[\"OPENBLAS_NUM_THREADS\"] = \"1\"  # For implicit ALS"
      ]
    },
    {
      "cell_type": "code",
      "source": [
        "!pip install rectools"
      ],
      "metadata": {
        "colab": {
          "base_uri": "https://localhost:8080/"
        },
        "id": "vLyPaH7PbEfM",
        "outputId": "57ba64ae-68a0-4773-949b-0115d6daa6c6"
      },
      "execution_count": 3,
      "outputs": [
        {
          "output_type": "stream",
          "name": "stdout",
          "text": [
            "Looking in indexes: https://pypi.org/simple, https://us-python.pkg.dev/colab-wheels/public/simple/\n",
            "Collecting rectools\n",
            "  Downloading RecTools-0.3.0-py3-none-any.whl (89 kB)\n",
            "\u001b[2K     \u001b[90m━━━━━━━━━━━━━━━━━━━━━━━━━━━━━━━━━━━━━━━━\u001b[0m \u001b[32m89.0/89.0 kB\u001b[0m \u001b[31m7.2 MB/s\u001b[0m eta \u001b[36m0:00:00\u001b[0m\n",
            "\u001b[?25hRequirement already satisfied: numpy<2.0.0,>=1.19.5 in /usr/local/lib/python3.9/dist-packages (from rectools) (1.22.4)\n",
            "Collecting nmslib<3.0.0,>=2.0.4\n",
            "  Downloading nmslib-2.1.1-cp39-cp39-manylinux2010_x86_64.whl (13.3 MB)\n",
            "\u001b[2K     \u001b[90m━━━━━━━━━━━━━━━━━━━━━━━━━━━━━━━━━━━━━━━━\u001b[0m \u001b[32m13.3/13.3 MB\u001b[0m \u001b[31m25.9 MB/s\u001b[0m eta \u001b[36m0:00:00\u001b[0m\n",
            "\u001b[?25hCollecting Markdown<3.3,>=3.2\n",
            "  Downloading Markdown-3.2.2-py3-none-any.whl (88 kB)\n",
            "\u001b[2K     \u001b[90m━━━━━━━━━━━━━━━━━━━━━━━━━━━━━━━━━━━━━━━━\u001b[0m \u001b[32m89.0/89.0 kB\u001b[0m \u001b[31m12.8 MB/s\u001b[0m eta \u001b[36m0:00:00\u001b[0m\n",
            "\u001b[?25hCollecting typeguard<3.0.0,>=2.0.1\n",
            "  Downloading typeguard-2.13.3-py3-none-any.whl (17 kB)\n",
            "Collecting implicit==0.4.4\n",
            "  Downloading implicit-0.4.4.tar.gz (1.1 MB)\n",
            "\u001b[2K     \u001b[90m━━━━━━━━━━━━━━━━━━━━━━━━━━━━━━━━━━━━━━━━\u001b[0m \u001b[32m1.1/1.1 MB\u001b[0m \u001b[31m71.7 MB/s\u001b[0m eta \u001b[36m0:00:00\u001b[0m\n",
            "\u001b[?25h  Preparing metadata (setup.py) ... \u001b[?25l\u001b[?25hdone\n",
            "Requirement already satisfied: pandas<2.0.0,>=0.25.3 in /usr/local/lib/python3.9/dist-packages (from rectools) (1.5.3)\n",
            "Requirement already satisfied: tqdm<5.0.0,>=4.27.0 in /usr/local/lib/python3.9/dist-packages (from rectools) (4.65.0)\n",
            "Requirement already satisfied: scipy<2.0.0,>=1.5.4 in /usr/local/lib/python3.9/dist-packages (from rectools) (1.10.1)\n",
            "Collecting lightfm<2.0,>=1.16\n",
            "  Downloading lightfm-1.17.tar.gz (316 kB)\n",
            "\u001b[2K     \u001b[90m━━━━━━━━━━━━━━━━━━━━━━━━━━━━━━━━━━━━━━\u001b[0m \u001b[32m316.4/316.4 kB\u001b[0m \u001b[31m40.0 MB/s\u001b[0m eta \u001b[36m0:00:00\u001b[0m\n",
            "\u001b[?25h  Preparing metadata (setup.py) ... \u001b[?25l\u001b[?25hdone\n",
            "Collecting attrs<22.0.0,>=19.1.0\n",
            "  Downloading attrs-21.4.0-py2.py3-none-any.whl (60 kB)\n",
            "\u001b[2K     \u001b[90m━━━━━━━━━━━━━━━━━━━━━━━━━━━━━━━━━━━━━━━━\u001b[0m \u001b[32m60.6/60.6 kB\u001b[0m \u001b[31m9.7 MB/s\u001b[0m eta \u001b[36m0:00:00\u001b[0m\n",
            "\u001b[?25hRequirement already satisfied: requests in /usr/local/lib/python3.9/dist-packages (from lightfm<2.0,>=1.16->rectools) (2.27.1)\n",
            "Requirement already satisfied: scikit-learn in /usr/local/lib/python3.9/dist-packages (from lightfm<2.0,>=1.16->rectools) (1.2.2)\n",
            "Requirement already satisfied: psutil in /usr/local/lib/python3.9/dist-packages (from nmslib<3.0.0,>=2.0.4->rectools) (5.9.5)\n",
            "Collecting pybind11<2.6.2\n",
            "  Downloading pybind11-2.6.1-py2.py3-none-any.whl (188 kB)\n",
            "\u001b[2K     \u001b[90m━━━━━━━━━━━━━━━━━━━━━━━━━━━━━━━━━━━━━━\u001b[0m \u001b[32m188.5/188.5 kB\u001b[0m \u001b[31m25.9 MB/s\u001b[0m eta \u001b[36m0:00:00\u001b[0m\n",
            "\u001b[?25hRequirement already satisfied: python-dateutil>=2.8.1 in /usr/local/lib/python3.9/dist-packages (from pandas<2.0.0,>=0.25.3->rectools) (2.8.2)\n",
            "Requirement already satisfied: pytz>=2020.1 in /usr/local/lib/python3.9/dist-packages (from pandas<2.0.0,>=0.25.3->rectools) (2022.7.1)\n",
            "Requirement already satisfied: six>=1.5 in /usr/local/lib/python3.9/dist-packages (from python-dateutil>=2.8.1->pandas<2.0.0,>=0.25.3->rectools) (1.16.0)\n",
            "Requirement already satisfied: idna<4,>=2.5 in /usr/local/lib/python3.9/dist-packages (from requests->lightfm<2.0,>=1.16->rectools) (3.4)\n",
            "Requirement already satisfied: certifi>=2017.4.17 in /usr/local/lib/python3.9/dist-packages (from requests->lightfm<2.0,>=1.16->rectools) (2022.12.7)\n",
            "Requirement already satisfied: charset-normalizer~=2.0.0 in /usr/local/lib/python3.9/dist-packages (from requests->lightfm<2.0,>=1.16->rectools) (2.0.12)\n",
            "Requirement already satisfied: urllib3<1.27,>=1.21.1 in /usr/local/lib/python3.9/dist-packages (from requests->lightfm<2.0,>=1.16->rectools) (1.26.15)\n",
            "Requirement already satisfied: threadpoolctl>=2.0.0 in /usr/local/lib/python3.9/dist-packages (from scikit-learn->lightfm<2.0,>=1.16->rectools) (3.1.0)\n",
            "Requirement already satisfied: joblib>=1.1.1 in /usr/local/lib/python3.9/dist-packages (from scikit-learn->lightfm<2.0,>=1.16->rectools) (1.2.0)\n",
            "Building wheels for collected packages: implicit, lightfm\n",
            "  Building wheel for implicit (setup.py) ... \u001b[?25l\u001b[?25hdone\n",
            "  Created wheel for implicit: filename=implicit-0.4.4-cp39-cp39-linux_x86_64.whl size=5054334 sha256=5295fdf4e405999f2445d448f98ba38ef24ec3a2b0f844923aeef7c86be82d78\n",
            "  Stored in directory: /root/.cache/pip/wheels/05/d3/5d/ab371b92ddb01183c3997751ad3bed6e6a4dd3c4c8699120a3\n",
            "  Building wheel for lightfm (setup.py) ... \u001b[?25l\u001b[?25hdone\n",
            "  Created wheel for lightfm: filename=lightfm-1.17-cp39-cp39-linux_x86_64.whl size=889062 sha256=0c0b28d6e84e7183c20db15fb9e1c9a21caa42e2da899a0b57824a9bd888811e\n",
            "  Stored in directory: /root/.cache/pip/wheels/d8/65/93/6ac8180274dc2e8f86ff326be62da1dfa55dc158fd45faba7d\n",
            "Successfully built implicit lightfm\n",
            "Installing collected packages: typeguard, pybind11, Markdown, attrs, nmslib, implicit, lightfm, rectools\n",
            "  Attempting uninstall: Markdown\n",
            "    Found existing installation: Markdown 3.4.3\n",
            "    Uninstalling Markdown-3.4.3:\n",
            "      Successfully uninstalled Markdown-3.4.3\n",
            "  Attempting uninstall: attrs\n",
            "    Found existing installation: attrs 23.1.0\n",
            "    Uninstalling attrs-23.1.0:\n",
            "      Successfully uninstalled attrs-23.1.0\n",
            "Successfully installed Markdown-3.2.2 attrs-21.4.0 implicit-0.4.4 lightfm-1.17 nmslib-2.1.1 pybind11-2.6.1 rectools-0.3.0 typeguard-2.13.3\n"
          ]
        }
      ]
    },
    {
      "cell_type": "code",
      "source": [
        "!pip install implicit"
      ],
      "metadata": {
        "colab": {
          "base_uri": "https://localhost:8080/"
        },
        "id": "kNIdReZAbEot",
        "outputId": "ee454b6b-2618-41c5-b05d-4fac58cec2ac"
      },
      "execution_count": 4,
      "outputs": [
        {
          "output_type": "stream",
          "name": "stdout",
          "text": [
            "Looking in indexes: https://pypi.org/simple, https://us-python.pkg.dev/colab-wheels/public/simple/\n",
            "Requirement already satisfied: implicit in /usr/local/lib/python3.9/dist-packages (0.4.4)\n",
            "Requirement already satisfied: scipy>=0.16 in /usr/local/lib/python3.9/dist-packages (from implicit) (1.10.1)\n",
            "Requirement already satisfied: numpy in /usr/local/lib/python3.9/dist-packages (from implicit) (1.22.4)\n",
            "Requirement already satisfied: tqdm>=4.27 in /usr/local/lib/python3.9/dist-packages (from implicit) (4.65.0)\n"
          ]
        }
      ]
    },
    {
      "cell_type": "code",
      "source": [
        "!pip install lightfm"
      ],
      "metadata": {
        "colab": {
          "base_uri": "https://localhost:8080/"
        },
        "id": "GOJ4LrjSbLGY",
        "outputId": "3503e540-75b8-40ab-8819-11a3117c2145"
      },
      "execution_count": 5,
      "outputs": [
        {
          "output_type": "stream",
          "name": "stdout",
          "text": [
            "Looking in indexes: https://pypi.org/simple, https://us-python.pkg.dev/colab-wheels/public/simple/\n",
            "Requirement already satisfied: lightfm in /usr/local/lib/python3.9/dist-packages (1.17)\n",
            "Requirement already satisfied: numpy in /usr/local/lib/python3.9/dist-packages (from lightfm) (1.22.4)\n",
            "Requirement already satisfied: requests in /usr/local/lib/python3.9/dist-packages (from lightfm) (2.27.1)\n",
            "Requirement already satisfied: scikit-learn in /usr/local/lib/python3.9/dist-packages (from lightfm) (1.2.2)\n",
            "Requirement already satisfied: scipy>=0.17.0 in /usr/local/lib/python3.9/dist-packages (from lightfm) (1.10.1)\n",
            "Requirement already satisfied: urllib3<1.27,>=1.21.1 in /usr/local/lib/python3.9/dist-packages (from requests->lightfm) (1.26.15)\n",
            "Requirement already satisfied: charset-normalizer~=2.0.0 in /usr/local/lib/python3.9/dist-packages (from requests->lightfm) (2.0.12)\n",
            "Requirement already satisfied: idna<4,>=2.5 in /usr/local/lib/python3.9/dist-packages (from requests->lightfm) (3.4)\n",
            "Requirement already satisfied: certifi>=2017.4.17 in /usr/local/lib/python3.9/dist-packages (from requests->lightfm) (2022.12.7)\n",
            "Requirement already satisfied: threadpoolctl>=2.0.0 in /usr/local/lib/python3.9/dist-packages (from scikit-learn->lightfm) (3.1.0)\n",
            "Requirement already satisfied: joblib>=1.1.1 in /usr/local/lib/python3.9/dist-packages (from scikit-learn->lightfm) (1.2.0)\n"
          ]
        }
      ]
    },
    {
      "cell_type": "code",
      "source": [
        "!pip install hyperopt"
      ],
      "metadata": {
        "colab": {
          "base_uri": "https://localhost:8080/"
        },
        "id": "ah-hai8Zl3O-",
        "outputId": "e644f589-c80b-471c-92cc-782e835b70c9"
      },
      "execution_count": 6,
      "outputs": [
        {
          "output_type": "stream",
          "name": "stdout",
          "text": [
            "Looking in indexes: https://pypi.org/simple, https://us-python.pkg.dev/colab-wheels/public/simple/\n",
            "Requirement already satisfied: hyperopt in /usr/local/lib/python3.9/dist-packages (0.2.7)\n",
            "Requirement already satisfied: cloudpickle in /usr/local/lib/python3.9/dist-packages (from hyperopt) (2.2.1)\n",
            "Requirement already satisfied: scipy in /usr/local/lib/python3.9/dist-packages (from hyperopt) (1.10.1)\n",
            "Requirement already satisfied: six in /usr/local/lib/python3.9/dist-packages (from hyperopt) (1.16.0)\n",
            "Requirement already satisfied: future in /usr/local/lib/python3.9/dist-packages (from hyperopt) (0.18.3)\n",
            "Requirement already satisfied: networkx>=2.2 in /usr/local/lib/python3.9/dist-packages (from hyperopt) (3.1)\n",
            "Requirement already satisfied: numpy in /usr/local/lib/python3.9/dist-packages (from hyperopt) (1.22.4)\n",
            "Requirement already satisfied: tqdm in /usr/local/lib/python3.9/dist-packages (from hyperopt) (4.65.0)\n",
            "Requirement already satisfied: py4j in /usr/local/lib/python3.9/dist-packages (from hyperopt) (0.10.9.7)\n"
          ]
        }
      ]
    },
    {
      "cell_type": "code",
      "source": [
        "!python3 --version"
      ],
      "metadata": {
        "colab": {
          "base_uri": "https://localhost:8080/"
        },
        "id": "xXIVJD7hu69x",
        "outputId": "7a7e8b2a-be9b-4167-bf63-600c8a1c42f2"
      },
      "execution_count": 7,
      "outputs": [
        {
          "output_type": "stream",
          "name": "stdout",
          "text": [
            "Python 3.9.16\n"
          ]
        }
      ]
    },
    {
      "cell_type": "code",
      "execution_count": 8,
      "metadata": {
        "pycharm": {
          "name": "#%%\n"
        },
        "id": "usSeJL5EalmC"
      },
      "outputs": [],
      "source": [
        "from random import randint\n",
        "\n",
        "import pandas as pd\n",
        "import numpy as np\n",
        "\n",
        "from rectools.metrics import Precision, Recall, MAP, calc_metrics\n",
        "from rectools.models import ImplicitALSWrapperModel, LightFMWrapperModel\n",
        "from rectools import Columns\n",
        "from rectools.dataset import Dataset\n",
        "from implicit.als import AlternatingLeastSquares\n",
        "\n",
        "from lightfm import LightFM"
      ]
    },
    {
      "cell_type": "code",
      "source": [
        "!wget https://storage.yandexcloud.net/itmo-recsys-public-data/kion_train.zip"
      ],
      "metadata": {
        "colab": {
          "base_uri": "https://localhost:8080/"
        },
        "id": "Ok5VgC5GbtuO",
        "outputId": "a783302c-68e2-411f-f5c5-a37e2c81104c"
      },
      "execution_count": 9,
      "outputs": [
        {
          "output_type": "stream",
          "name": "stdout",
          "text": [
            "--2023-04-24 18:54:44--  https://storage.yandexcloud.net/itmo-recsys-public-data/kion_train.zip\n",
            "Resolving storage.yandexcloud.net (storage.yandexcloud.net)... 213.180.193.243, 2a02:6b8::1d9\n",
            "Connecting to storage.yandexcloud.net (storage.yandexcloud.net)|213.180.193.243|:443... connected.\n",
            "HTTP request sent, awaiting response... 200 OK\n",
            "Length: 78795385 (75M) [application/zip]\n",
            "Saving to: ‘kion_train.zip’\n",
            "\n",
            "kion_train.zip      100%[===================>]  75.14M  10.6MB/s    in 8.9s    \n",
            "\n",
            "2023-04-24 18:54:55 (8.45 MB/s) - ‘kion_train.zip’ saved [78795385/78795385]\n",
            "\n"
          ]
        }
      ]
    },
    {
      "cell_type": "code",
      "source": [
        "!unzip kion_train.zip"
      ],
      "metadata": {
        "colab": {
          "base_uri": "https://localhost:8080/"
        },
        "id": "eSBRbr3YbvHQ",
        "outputId": "e60dfde4-abad-490e-8ff8-631344dd4083"
      },
      "execution_count": 10,
      "outputs": [
        {
          "output_type": "stream",
          "name": "stdout",
          "text": [
            "Archive:  kion_train.zip\n",
            "   creating: kion_train/\n",
            "  inflating: kion_train/interactions.csv  \n",
            "  inflating: __MACOSX/kion_train/._interactions.csv  \n",
            "  inflating: kion_train/users.csv    \n",
            "  inflating: __MACOSX/kion_train/._users.csv  \n",
            "  inflating: kion_train/items.csv    \n",
            "  inflating: __MACOSX/kion_train/._items.csv  \n"
          ]
        }
      ]
    },
    {
      "cell_type": "markdown",
      "metadata": {
        "collapsed": false,
        "pycharm": {
          "name": "#%% md\n"
        },
        "id": "R0h1xmqYalmF"
      },
      "source": [
        "# LOAD DATA"
      ]
    },
    {
      "cell_type": "code",
      "source": [
        "interactions = pd.read_csv('kion_train/interactions.csv')\n",
        "users = pd.read_csv('kion_train/users.csv')\n",
        "items = pd.read_csv('kion_train/items.csv')"
      ],
      "metadata": {
        "id": "rB3xnGpfb0IC"
      },
      "execution_count": 11,
      "outputs": []
    },
    {
      "cell_type": "code",
      "execution_count": 12,
      "metadata": {
        "pycharm": {
          "name": "#%%\n"
        },
        "id": "J_agHuNSalmI"
      },
      "outputs": [],
      "source": [
        "YEAR_FROM = 1990\n",
        "STEP_SIZE = 5\n",
        "bins = [year for year in range(YEAR_FROM, int(items['release_year'].max()) + STEP_SIZE, STEP_SIZE)]\n",
        "\n",
        "bins = [int(items['release_year'].min())] + bins\n",
        "\n",
        "items['year_bin'] = pd.cut(items['release_year'],\n",
        "                           bins=bins, include_lowest=True)"
      ]
    },
    {
      "cell_type": "code",
      "execution_count": 13,
      "metadata": {
        "pycharm": {
          "name": "#%%\n"
        },
        "id": "CGOTXBlMalmJ"
      },
      "outputs": [],
      "source": [
        "Columns.Datetime = 'last_watch_dt'"
      ]
    },
    {
      "cell_type": "code",
      "execution_count": 14,
      "metadata": {
        "pycharm": {
          "name": "#%%\n"
        },
        "id": "ACqIMAGzalmK"
      },
      "outputs": [],
      "source": [
        "interactions.drop(interactions[interactions[Columns.Datetime].str.len() != 10].index, inplace=True)"
      ]
    },
    {
      "cell_type": "code",
      "source": [
        "items.head(10)"
      ],
      "metadata": {
        "colab": {
          "base_uri": "https://localhost:8080/",
          "height": 1000
        },
        "id": "ELjAsHTwgJwf",
        "outputId": "03661897-e9a3-45fe-ecdc-83b280eee6b4"
      },
      "execution_count": 15,
      "outputs": [
        {
          "output_type": "execute_result",
          "data": {
            "text/plain": [
              "   item_id content_type                                  title  \\\n",
              "0    10711         film                         Поговори с ней   \n",
              "1     2508         film                            Голые перцы   \n",
              "2    10716         film                       Тактическая сила   \n",
              "3     7868         film                                 45 лет   \n",
              "4    16268         film                   Все решает мгновение   \n",
              "5      854         film                              Северо-Юг   \n",
              "6     1468         film                        Марья-искусница   \n",
              "7    11114         film  Принцесса Лебедь: Пират или принцесса   \n",
              "8     9853         film                     Лабиринты прошлого   \n",
              "9     8604         film                         Третья попытка   \n",
              "\n",
              "                                          title_orig  release_year  \\\n",
              "0                                     Hable con ella        2002.0   \n",
              "1                                       Search Party        2014.0   \n",
              "2                                     Tactical Force        2011.0   \n",
              "3                                           45 Years        2015.0   \n",
              "4                                                NaN        1978.0   \n",
              "5                                                NaN        2015.0   \n",
              "6                                                NaN        1960.0   \n",
              "7  The Swan Princess: Princess Tomorrow, Pirate T...        2016.0   \n",
              "8                                     Todos lo saben        2018.0   \n",
              "9                                                NaN        2013.0   \n",
              "\n",
              "                                              genres       countries  \\\n",
              "0            драмы, зарубежные, детективы, мелодрамы         Испания   \n",
              "1                   зарубежные, приключения, комедии             США   \n",
              "2   криминал, зарубежные, триллеры, боевики, комедии          Канада   \n",
              "3                       драмы, зарубежные, мелодрамы  Великобритания   \n",
              "4                 драмы, спорт, советские, мелодрамы            СССР   \n",
              "5                                     драмы, русские          Россия   \n",
              "6  фильмы, сказки, приключения, советские, семейн...            СССР   \n",
              "7  для детей, сказки, полнометражные, зарубежные,...             США   \n",
              "8   криминал, детективы, драмы, зарубежные, триллеры         Испания   \n",
              "9                                 русские, мелодрамы          Россия   \n",
              "\n",
              "   for_kids  age_rating        studios         directors  \\\n",
              "0       NaN        16.0            NaN  Педро Альмодовар   \n",
              "1       NaN        16.0            NaN    Скот Армстронг   \n",
              "2       NaN        16.0            NaN  Адам П. Калтраро   \n",
              "3       NaN        16.0            NaN         Эндрю Хэй   \n",
              "4       NaN        12.0       Ленфильм  Виктор Садовский   \n",
              "5       NaN        16.0            NaN      Юрий Грубник   \n",
              "6       NaN         6.0            NaN     Александр Роу   \n",
              "7       NaN         6.0  Sony Pictures        Ричард Рич   \n",
              "8       NaN        16.0            NaN     Асгар Фархади   \n",
              "9       NaN        12.0            NaN    Игорь Мужжухин   \n",
              "\n",
              "                                              actors  \\\n",
              "0  Адольфо Фернандес, Ана Фернандес, Дарио Гранди...   \n",
              "1  Адам Палли, Брайан Хаски, Дж.Б. Смув, Джейсон ...   \n",
              "2  Адриан Холмс, Даррен Шалави, Джерри Вассерман,...   \n",
              "3  Александра Риддлстон-Барретт, Джеральдин Джейм...   \n",
              "4  Александр Абдулов, Александр Демьяненко, Алекс...   \n",
              "5  Алексей Воронин, Алексей Мурашов, Алена Алинин...   \n",
              "6  Александр Баранов, Александр Хвыля, Анатолий К...   \n",
              "7  Брайан Ниссен, Гарднер Джаэс, Грант Дураззо, Д...   \n",
              "8  Барбара Ленни, Инма Куэста, Карла Кампра, Пене...   \n",
              "9  Александр Асташенок, Александр Пашков, Андрей ...   \n",
              "\n",
              "                                         description  \\\n",
              "0  Мелодрама легендарного Педро Альмодовара «Пого...   \n",
              "1  Уморительная современная комедия на популярную...   \n",
              "2  Профессиональный рестлер Стив Остин («Все или ...   \n",
              "3  Шарлотта Рэмплинг, Том Кортни, Джеральдин Джей...   \n",
              "4  Расчетливая чаровница из советского кинохита «...   \n",
              "5  Авторский фильм молодого режиссера Юрия Грубни...   \n",
              "6  Два прославленных советских сказочника – писат...   \n",
              "7  Анимационная сказка о непоседливой принцессе Э...   \n",
              "8  Испанка Лаура, давно переехавшая в Буэнос-Айре...   \n",
              "9  Екатерина Рябова, Александр Асташенок и Алекса...   \n",
              "\n",
              "                                            keywords            year_bin  \n",
              "0  Поговори, ней, 2002, Испания, друзья, любовь, ...    (2000.0, 2005.0]  \n",
              "1  Голые, перцы, 2014, США, друзья, свадьбы, прео...    (2010.0, 2015.0]  \n",
              "2  Тактическая, сила, 2011, Канада, бандиты, ганг...    (2010.0, 2015.0]  \n",
              "3  45, лет, 2015, Великобритания, брак, жизнь, лю...    (2010.0, 2015.0]  \n",
              "4  Все, решает, мгновение, 1978, СССР, сильные, ж...  (1896.999, 1990.0]  \n",
              "5  Северо-Юг, 2015, Россия, бандиты, гангстеры, б...    (2010.0, 2015.0]  \n",
              "6  Марья-искусница, 1960, СССР, преодоление, труд...  (1896.999, 1990.0]  \n",
              "7  Принцесса, Лебедь, Пират, или, принцесса, 2016...    (2015.0, 2020.0]  \n",
              "8  Лабиринты, прошлого, 2018, Испания, семейные, ...    (2015.0, 2020.0]  \n",
              "9  Третья, попытка, 2013, Россия, любовь, измена,...    (2010.0, 2015.0]  "
            ],
            "text/html": [
              "\n",
              "  <div id=\"df-9308ed8e-fb77-489b-952a-1860c615dae1\">\n",
              "    <div class=\"colab-df-container\">\n",
              "      <div>\n",
              "<style scoped>\n",
              "    .dataframe tbody tr th:only-of-type {\n",
              "        vertical-align: middle;\n",
              "    }\n",
              "\n",
              "    .dataframe tbody tr th {\n",
              "        vertical-align: top;\n",
              "    }\n",
              "\n",
              "    .dataframe thead th {\n",
              "        text-align: right;\n",
              "    }\n",
              "</style>\n",
              "<table border=\"1\" class=\"dataframe\">\n",
              "  <thead>\n",
              "    <tr style=\"text-align: right;\">\n",
              "      <th></th>\n",
              "      <th>item_id</th>\n",
              "      <th>content_type</th>\n",
              "      <th>title</th>\n",
              "      <th>title_orig</th>\n",
              "      <th>release_year</th>\n",
              "      <th>genres</th>\n",
              "      <th>countries</th>\n",
              "      <th>for_kids</th>\n",
              "      <th>age_rating</th>\n",
              "      <th>studios</th>\n",
              "      <th>directors</th>\n",
              "      <th>actors</th>\n",
              "      <th>description</th>\n",
              "      <th>keywords</th>\n",
              "      <th>year_bin</th>\n",
              "    </tr>\n",
              "  </thead>\n",
              "  <tbody>\n",
              "    <tr>\n",
              "      <th>0</th>\n",
              "      <td>10711</td>\n",
              "      <td>film</td>\n",
              "      <td>Поговори с ней</td>\n",
              "      <td>Hable con ella</td>\n",
              "      <td>2002.0</td>\n",
              "      <td>драмы, зарубежные, детективы, мелодрамы</td>\n",
              "      <td>Испания</td>\n",
              "      <td>NaN</td>\n",
              "      <td>16.0</td>\n",
              "      <td>NaN</td>\n",
              "      <td>Педро Альмодовар</td>\n",
              "      <td>Адольфо Фернандес, Ана Фернандес, Дарио Гранди...</td>\n",
              "      <td>Мелодрама легендарного Педро Альмодовара «Пого...</td>\n",
              "      <td>Поговори, ней, 2002, Испания, друзья, любовь, ...</td>\n",
              "      <td>(2000.0, 2005.0]</td>\n",
              "    </tr>\n",
              "    <tr>\n",
              "      <th>1</th>\n",
              "      <td>2508</td>\n",
              "      <td>film</td>\n",
              "      <td>Голые перцы</td>\n",
              "      <td>Search Party</td>\n",
              "      <td>2014.0</td>\n",
              "      <td>зарубежные, приключения, комедии</td>\n",
              "      <td>США</td>\n",
              "      <td>NaN</td>\n",
              "      <td>16.0</td>\n",
              "      <td>NaN</td>\n",
              "      <td>Скот Армстронг</td>\n",
              "      <td>Адам Палли, Брайан Хаски, Дж.Б. Смув, Джейсон ...</td>\n",
              "      <td>Уморительная современная комедия на популярную...</td>\n",
              "      <td>Голые, перцы, 2014, США, друзья, свадьбы, прео...</td>\n",
              "      <td>(2010.0, 2015.0]</td>\n",
              "    </tr>\n",
              "    <tr>\n",
              "      <th>2</th>\n",
              "      <td>10716</td>\n",
              "      <td>film</td>\n",
              "      <td>Тактическая сила</td>\n",
              "      <td>Tactical Force</td>\n",
              "      <td>2011.0</td>\n",
              "      <td>криминал, зарубежные, триллеры, боевики, комедии</td>\n",
              "      <td>Канада</td>\n",
              "      <td>NaN</td>\n",
              "      <td>16.0</td>\n",
              "      <td>NaN</td>\n",
              "      <td>Адам П. Калтраро</td>\n",
              "      <td>Адриан Холмс, Даррен Шалави, Джерри Вассерман,...</td>\n",
              "      <td>Профессиональный рестлер Стив Остин («Все или ...</td>\n",
              "      <td>Тактическая, сила, 2011, Канада, бандиты, ганг...</td>\n",
              "      <td>(2010.0, 2015.0]</td>\n",
              "    </tr>\n",
              "    <tr>\n",
              "      <th>3</th>\n",
              "      <td>7868</td>\n",
              "      <td>film</td>\n",
              "      <td>45 лет</td>\n",
              "      <td>45 Years</td>\n",
              "      <td>2015.0</td>\n",
              "      <td>драмы, зарубежные, мелодрамы</td>\n",
              "      <td>Великобритания</td>\n",
              "      <td>NaN</td>\n",
              "      <td>16.0</td>\n",
              "      <td>NaN</td>\n",
              "      <td>Эндрю Хэй</td>\n",
              "      <td>Александра Риддлстон-Барретт, Джеральдин Джейм...</td>\n",
              "      <td>Шарлотта Рэмплинг, Том Кортни, Джеральдин Джей...</td>\n",
              "      <td>45, лет, 2015, Великобритания, брак, жизнь, лю...</td>\n",
              "      <td>(2010.0, 2015.0]</td>\n",
              "    </tr>\n",
              "    <tr>\n",
              "      <th>4</th>\n",
              "      <td>16268</td>\n",
              "      <td>film</td>\n",
              "      <td>Все решает мгновение</td>\n",
              "      <td>NaN</td>\n",
              "      <td>1978.0</td>\n",
              "      <td>драмы, спорт, советские, мелодрамы</td>\n",
              "      <td>СССР</td>\n",
              "      <td>NaN</td>\n",
              "      <td>12.0</td>\n",
              "      <td>Ленфильм</td>\n",
              "      <td>Виктор Садовский</td>\n",
              "      <td>Александр Абдулов, Александр Демьяненко, Алекс...</td>\n",
              "      <td>Расчетливая чаровница из советского кинохита «...</td>\n",
              "      <td>Все, решает, мгновение, 1978, СССР, сильные, ж...</td>\n",
              "      <td>(1896.999, 1990.0]</td>\n",
              "    </tr>\n",
              "    <tr>\n",
              "      <th>5</th>\n",
              "      <td>854</td>\n",
              "      <td>film</td>\n",
              "      <td>Северо-Юг</td>\n",
              "      <td>NaN</td>\n",
              "      <td>2015.0</td>\n",
              "      <td>драмы, русские</td>\n",
              "      <td>Россия</td>\n",
              "      <td>NaN</td>\n",
              "      <td>16.0</td>\n",
              "      <td>NaN</td>\n",
              "      <td>Юрий Грубник</td>\n",
              "      <td>Алексей Воронин, Алексей Мурашов, Алена Алинин...</td>\n",
              "      <td>Авторский фильм молодого режиссера Юрия Грубни...</td>\n",
              "      <td>Северо-Юг, 2015, Россия, бандиты, гангстеры, б...</td>\n",
              "      <td>(2010.0, 2015.0]</td>\n",
              "    </tr>\n",
              "    <tr>\n",
              "      <th>6</th>\n",
              "      <td>1468</td>\n",
              "      <td>film</td>\n",
              "      <td>Марья-искусница</td>\n",
              "      <td>NaN</td>\n",
              "      <td>1960.0</td>\n",
              "      <td>фильмы, сказки, приключения, советские, семейн...</td>\n",
              "      <td>СССР</td>\n",
              "      <td>NaN</td>\n",
              "      <td>6.0</td>\n",
              "      <td>NaN</td>\n",
              "      <td>Александр Роу</td>\n",
              "      <td>Александр Баранов, Александр Хвыля, Анатолий К...</td>\n",
              "      <td>Два прославленных советских сказочника – писат...</td>\n",
              "      <td>Марья-искусница, 1960, СССР, преодоление, труд...</td>\n",
              "      <td>(1896.999, 1990.0]</td>\n",
              "    </tr>\n",
              "    <tr>\n",
              "      <th>7</th>\n",
              "      <td>11114</td>\n",
              "      <td>film</td>\n",
              "      <td>Принцесса Лебедь: Пират или принцесса</td>\n",
              "      <td>The Swan Princess: Princess Tomorrow, Pirate T...</td>\n",
              "      <td>2016.0</td>\n",
              "      <td>для детей, сказки, полнометражные, зарубежные,...</td>\n",
              "      <td>США</td>\n",
              "      <td>NaN</td>\n",
              "      <td>6.0</td>\n",
              "      <td>Sony Pictures</td>\n",
              "      <td>Ричард Рич</td>\n",
              "      <td>Брайан Ниссен, Гарднер Джаэс, Грант Дураззо, Д...</td>\n",
              "      <td>Анимационная сказка о непоседливой принцессе Э...</td>\n",
              "      <td>Принцесса, Лебедь, Пират, или, принцесса, 2016...</td>\n",
              "      <td>(2015.0, 2020.0]</td>\n",
              "    </tr>\n",
              "    <tr>\n",
              "      <th>8</th>\n",
              "      <td>9853</td>\n",
              "      <td>film</td>\n",
              "      <td>Лабиринты прошлого</td>\n",
              "      <td>Todos lo saben</td>\n",
              "      <td>2018.0</td>\n",
              "      <td>криминал, детективы, драмы, зарубежные, триллеры</td>\n",
              "      <td>Испания</td>\n",
              "      <td>NaN</td>\n",
              "      <td>16.0</td>\n",
              "      <td>NaN</td>\n",
              "      <td>Асгар Фархади</td>\n",
              "      <td>Барбара Ленни, Инма Куэста, Карла Кампра, Пене...</td>\n",
              "      <td>Испанка Лаура, давно переехавшая в Буэнос-Айре...</td>\n",
              "      <td>Лабиринты, прошлого, 2018, Испания, семейные, ...</td>\n",
              "      <td>(2015.0, 2020.0]</td>\n",
              "    </tr>\n",
              "    <tr>\n",
              "      <th>9</th>\n",
              "      <td>8604</td>\n",
              "      <td>film</td>\n",
              "      <td>Третья попытка</td>\n",
              "      <td>NaN</td>\n",
              "      <td>2013.0</td>\n",
              "      <td>русские, мелодрамы</td>\n",
              "      <td>Россия</td>\n",
              "      <td>NaN</td>\n",
              "      <td>12.0</td>\n",
              "      <td>NaN</td>\n",
              "      <td>Игорь Мужжухин</td>\n",
              "      <td>Александр Асташенок, Александр Пашков, Андрей ...</td>\n",
              "      <td>Екатерина Рябова, Александр Асташенок и Алекса...</td>\n",
              "      <td>Третья, попытка, 2013, Россия, любовь, измена,...</td>\n",
              "      <td>(2010.0, 2015.0]</td>\n",
              "    </tr>\n",
              "  </tbody>\n",
              "</table>\n",
              "</div>\n",
              "      <button class=\"colab-df-convert\" onclick=\"convertToInteractive('df-9308ed8e-fb77-489b-952a-1860c615dae1')\"\n",
              "              title=\"Convert this dataframe to an interactive table.\"\n",
              "              style=\"display:none;\">\n",
              "        \n",
              "  <svg xmlns=\"http://www.w3.org/2000/svg\" height=\"24px\"viewBox=\"0 0 24 24\"\n",
              "       width=\"24px\">\n",
              "    <path d=\"M0 0h24v24H0V0z\" fill=\"none\"/>\n",
              "    <path d=\"M18.56 5.44l.94 2.06.94-2.06 2.06-.94-2.06-.94-.94-2.06-.94 2.06-2.06.94zm-11 1L8.5 8.5l.94-2.06 2.06-.94-2.06-.94L8.5 2.5l-.94 2.06-2.06.94zm10 10l.94 2.06.94-2.06 2.06-.94-2.06-.94-.94-2.06-.94 2.06-2.06.94z\"/><path d=\"M17.41 7.96l-1.37-1.37c-.4-.4-.92-.59-1.43-.59-.52 0-1.04.2-1.43.59L10.3 9.45l-7.72 7.72c-.78.78-.78 2.05 0 2.83L4 21.41c.39.39.9.59 1.41.59.51 0 1.02-.2 1.41-.59l7.78-7.78 2.81-2.81c.8-.78.8-2.07 0-2.86zM5.41 20L4 18.59l7.72-7.72 1.47 1.35L5.41 20z\"/>\n",
              "  </svg>\n",
              "      </button>\n",
              "      \n",
              "  <style>\n",
              "    .colab-df-container {\n",
              "      display:flex;\n",
              "      flex-wrap:wrap;\n",
              "      gap: 12px;\n",
              "    }\n",
              "\n",
              "    .colab-df-convert {\n",
              "      background-color: #E8F0FE;\n",
              "      border: none;\n",
              "      border-radius: 50%;\n",
              "      cursor: pointer;\n",
              "      display: none;\n",
              "      fill: #1967D2;\n",
              "      height: 32px;\n",
              "      padding: 0 0 0 0;\n",
              "      width: 32px;\n",
              "    }\n",
              "\n",
              "    .colab-df-convert:hover {\n",
              "      background-color: #E2EBFA;\n",
              "      box-shadow: 0px 1px 2px rgba(60, 64, 67, 0.3), 0px 1px 3px 1px rgba(60, 64, 67, 0.15);\n",
              "      fill: #174EA6;\n",
              "    }\n",
              "\n",
              "    [theme=dark] .colab-df-convert {\n",
              "      background-color: #3B4455;\n",
              "      fill: #D2E3FC;\n",
              "    }\n",
              "\n",
              "    [theme=dark] .colab-df-convert:hover {\n",
              "      background-color: #434B5C;\n",
              "      box-shadow: 0px 1px 3px 1px rgba(0, 0, 0, 0.15);\n",
              "      filter: drop-shadow(0px 1px 2px rgba(0, 0, 0, 0.3));\n",
              "      fill: #FFFFFF;\n",
              "    }\n",
              "  </style>\n",
              "\n",
              "      <script>\n",
              "        const buttonEl =\n",
              "          document.querySelector('#df-9308ed8e-fb77-489b-952a-1860c615dae1 button.colab-df-convert');\n",
              "        buttonEl.style.display =\n",
              "          google.colab.kernel.accessAllowed ? 'block' : 'none';\n",
              "\n",
              "        async function convertToInteractive(key) {\n",
              "          const element = document.querySelector('#df-9308ed8e-fb77-489b-952a-1860c615dae1');\n",
              "          const dataTable =\n",
              "            await google.colab.kernel.invokeFunction('convertToInteractive',\n",
              "                                                     [key], {});\n",
              "          if (!dataTable) return;\n",
              "\n",
              "          const docLinkHtml = 'Like what you see? Visit the ' +\n",
              "            '<a target=\"_blank\" href=https://colab.research.google.com/notebooks/data_table.ipynb>data table notebook</a>'\n",
              "            + ' to learn more about interactive tables.';\n",
              "          element.innerHTML = '';\n",
              "          dataTable['output_type'] = 'display_data';\n",
              "          await google.colab.output.renderOutput(dataTable, element);\n",
              "          const docLink = document.createElement('div');\n",
              "          docLink.innerHTML = docLinkHtml;\n",
              "          element.appendChild(docLink);\n",
              "        }\n",
              "      </script>\n",
              "    </div>\n",
              "  </div>\n",
              "  "
            ]
          },
          "metadata": {},
          "execution_count": 15
        }
      ]
    },
    {
      "cell_type": "markdown",
      "metadata": {
        "collapsed": false,
        "pycharm": {
          "name": "#%% md\n"
        },
        "id": "BszTllz5almL"
      },
      "source": [
        "# Train/Test split"
      ]
    },
    {
      "cell_type": "code",
      "execution_count": 16,
      "metadata": {
        "pycharm": {
          "name": "#%%\n"
        },
        "id": "yIVq5pa9almM"
      },
      "outputs": [],
      "source": [
        "interactions[Columns.Datetime] = pd.to_datetime(interactions[Columns.Datetime], format='%Y-%m-%d')"
      ]
    },
    {
      "cell_type": "code",
      "execution_count": 17,
      "metadata": {
        "pycharm": {
          "name": "#%%\n"
        },
        "id": "mg-1mR18almN"
      },
      "outputs": [],
      "source": [
        "max_date = interactions[Columns.Datetime].max()"
      ]
    },
    {
      "cell_type": "code",
      "execution_count": 18,
      "metadata": {
        "pycharm": {
          "name": "#%%\n"
        },
        "id": "kfgBGHq9almN"
      },
      "outputs": [],
      "source": [
        "interactions[Columns.Weight] = np.where(interactions['watched_pct'] > 10, 3, 1)"
      ]
    },
    {
      "cell_type": "code",
      "execution_count": 19,
      "metadata": {
        "pycharm": {
          "name": "#%%\n"
        },
        "colab": {
          "base_uri": "https://localhost:8080/"
        },
        "id": "kVEgYvAoalmN",
        "outputId": "0059ce99-f25b-4028-948a-563ea1ceabf4"
      },
      "outputs": [
        {
          "output_type": "stream",
          "name": "stdout",
          "text": [
            "train: (4985269, 6)\n",
            "test: (490982, 6)\n"
          ]
        }
      ],
      "source": [
        "train = interactions[interactions[Columns.Datetime] < max_date - pd.Timedelta(days=7)].copy()\n",
        "test = interactions[interactions[Columns.Datetime] >= max_date - pd.Timedelta(days=7)].copy()\n",
        "\n",
        "print(f\"train: {train.shape}\")\n",
        "print(f\"test: {test.shape}\")"
      ]
    },
    {
      "cell_type": "code",
      "execution_count": 20,
      "metadata": {
        "pycharm": {
          "name": "#%%\n"
        },
        "id": "ntw-xHPqalmP"
      },
      "outputs": [],
      "source": [
        "train.drop(train.query(\"total_dur < 300\").index, inplace=True)"
      ]
    },
    {
      "cell_type": "code",
      "execution_count": 21,
      "metadata": {
        "pycharm": {
          "name": "#%%\n"
        },
        "id": "z6tywR2_almQ"
      },
      "outputs": [],
      "source": [
        "# отфильтруем холодных пользователей из теста\n",
        "cold_users = set(test[Columns.User]) - set(train[Columns.User])"
      ]
    },
    {
      "cell_type": "code",
      "execution_count": 22,
      "metadata": {
        "pycharm": {
          "name": "#%%\n"
        },
        "id": "eacY9DtjalmR"
      },
      "outputs": [],
      "source": [
        "test.drop(test[test[Columns.User].isin(cold_users)].index, inplace=True)"
      ]
    },
    {
      "cell_type": "markdown",
      "metadata": {
        "collapsed": false,
        "pycharm": {
          "name": "#%% md\n"
        },
        "id": "5GjqaGMSalmR"
      },
      "source": [
        "# Добавляем аватаров в обучающую выборку\n",
        "\n",
        "1. Девушка, которая смотрит только мелодрамы\n",
        "2. Девочка, смотрит только аниме, хочет уехать в Японию.\n",
        "3. Фанат Райана Гослинга"
      ]
    },
    {
      "cell_type": "code",
      "execution_count": 23,
      "metadata": {
        "pycharm": {
          "name": "#%%\n"
        },
        "id": "FdPm9yaAalmR"
      },
      "outputs": [],
      "source": [
        "dramma_queen = items[(items.genres.isna() == False) & (items.genres.str.contains('мелодрамы'))][:10]\n",
        "anime_tyan = items[(items.age_rating <= 12) & (items.keywords.str.contains('аниме', case=False))][:15]\n",
        "gosling_fan = items[(items.actors.isna() == False) & (items.actors.str.contains('Райан Гослинг'))][:10]\n",
        "\n",
        "new_items = [dramma_queen, anime_tyan, gosling_fan]"
      ]
    },
    {
      "cell_type": "code",
      "execution_count": 24,
      "metadata": {
        "pycharm": {
          "name": "#%%\n"
        },
        "colab": {
          "base_uri": "https://localhost:8080/"
        },
        "id": "gCQEhiyTalmS",
        "outputId": "86c35bc5-9dba-4277-ca33-314808423280"
      },
      "outputs": [
        {
          "output_type": "stream",
          "name": "stderr",
          "text": [
            "<ipython-input-24-3fb76f32fe70>:10: FutureWarning: The frame.append method is deprecated and will be removed from pandas in a future version. Use pandas.concat instead.\n",
            "  train = train.append({\n",
            "<ipython-input-24-3fb76f32fe70>:10: FutureWarning: The frame.append method is deprecated and will be removed from pandas in a future version. Use pandas.concat instead.\n",
            "  train = train.append({\n",
            "<ipython-input-24-3fb76f32fe70>:10: FutureWarning: The frame.append method is deprecated and will be removed from pandas in a future version. Use pandas.concat instead.\n",
            "  train = train.append({\n",
            "<ipython-input-24-3fb76f32fe70>:10: FutureWarning: The frame.append method is deprecated and will be removed from pandas in a future version. Use pandas.concat instead.\n",
            "  train = train.append({\n",
            "<ipython-input-24-3fb76f32fe70>:10: FutureWarning: The frame.append method is deprecated and will be removed from pandas in a future version. Use pandas.concat instead.\n",
            "  train = train.append({\n",
            "<ipython-input-24-3fb76f32fe70>:10: FutureWarning: The frame.append method is deprecated and will be removed from pandas in a future version. Use pandas.concat instead.\n",
            "  train = train.append({\n",
            "<ipython-input-24-3fb76f32fe70>:10: FutureWarning: The frame.append method is deprecated and will be removed from pandas in a future version. Use pandas.concat instead.\n",
            "  train = train.append({\n",
            "<ipython-input-24-3fb76f32fe70>:10: FutureWarning: The frame.append method is deprecated and will be removed from pandas in a future version. Use pandas.concat instead.\n",
            "  train = train.append({\n",
            "<ipython-input-24-3fb76f32fe70>:10: FutureWarning: The frame.append method is deprecated and will be removed from pandas in a future version. Use pandas.concat instead.\n",
            "  train = train.append({\n",
            "<ipython-input-24-3fb76f32fe70>:10: FutureWarning: The frame.append method is deprecated and will be removed from pandas in a future version. Use pandas.concat instead.\n",
            "  train = train.append({\n",
            "<ipython-input-24-3fb76f32fe70>:10: FutureWarning: The frame.append method is deprecated and will be removed from pandas in a future version. Use pandas.concat instead.\n",
            "  train = train.append({\n",
            "<ipython-input-24-3fb76f32fe70>:10: FutureWarning: The frame.append method is deprecated and will be removed from pandas in a future version. Use pandas.concat instead.\n",
            "  train = train.append({\n",
            "<ipython-input-24-3fb76f32fe70>:10: FutureWarning: The frame.append method is deprecated and will be removed from pandas in a future version. Use pandas.concat instead.\n",
            "  train = train.append({\n",
            "<ipython-input-24-3fb76f32fe70>:10: FutureWarning: The frame.append method is deprecated and will be removed from pandas in a future version. Use pandas.concat instead.\n",
            "  train = train.append({\n",
            "<ipython-input-24-3fb76f32fe70>:10: FutureWarning: The frame.append method is deprecated and will be removed from pandas in a future version. Use pandas.concat instead.\n",
            "  train = train.append({\n",
            "<ipython-input-24-3fb76f32fe70>:10: FutureWarning: The frame.append method is deprecated and will be removed from pandas in a future version. Use pandas.concat instead.\n",
            "  train = train.append({\n",
            "<ipython-input-24-3fb76f32fe70>:10: FutureWarning: The frame.append method is deprecated and will be removed from pandas in a future version. Use pandas.concat instead.\n",
            "  train = train.append({\n",
            "<ipython-input-24-3fb76f32fe70>:10: FutureWarning: The frame.append method is deprecated and will be removed from pandas in a future version. Use pandas.concat instead.\n",
            "  train = train.append({\n",
            "<ipython-input-24-3fb76f32fe70>:10: FutureWarning: The frame.append method is deprecated and will be removed from pandas in a future version. Use pandas.concat instead.\n",
            "  train = train.append({\n",
            "<ipython-input-24-3fb76f32fe70>:10: FutureWarning: The frame.append method is deprecated and will be removed from pandas in a future version. Use pandas.concat instead.\n",
            "  train = train.append({\n",
            "<ipython-input-24-3fb76f32fe70>:10: FutureWarning: The frame.append method is deprecated and will be removed from pandas in a future version. Use pandas.concat instead.\n",
            "  train = train.append({\n",
            "<ipython-input-24-3fb76f32fe70>:10: FutureWarning: The frame.append method is deprecated and will be removed from pandas in a future version. Use pandas.concat instead.\n",
            "  train = train.append({\n",
            "<ipython-input-24-3fb76f32fe70>:10: FutureWarning: The frame.append method is deprecated and will be removed from pandas in a future version. Use pandas.concat instead.\n",
            "  train = train.append({\n",
            "<ipython-input-24-3fb76f32fe70>:10: FutureWarning: The frame.append method is deprecated and will be removed from pandas in a future version. Use pandas.concat instead.\n",
            "  train = train.append({\n",
            "<ipython-input-24-3fb76f32fe70>:10: FutureWarning: The frame.append method is deprecated and will be removed from pandas in a future version. Use pandas.concat instead.\n",
            "  train = train.append({\n",
            "<ipython-input-24-3fb76f32fe70>:10: FutureWarning: The frame.append method is deprecated and will be removed from pandas in a future version. Use pandas.concat instead.\n",
            "  train = train.append({\n",
            "<ipython-input-24-3fb76f32fe70>:10: FutureWarning: The frame.append method is deprecated and will be removed from pandas in a future version. Use pandas.concat instead.\n",
            "  train = train.append({\n",
            "<ipython-input-24-3fb76f32fe70>:10: FutureWarning: The frame.append method is deprecated and will be removed from pandas in a future version. Use pandas.concat instead.\n",
            "  train = train.append({\n",
            "<ipython-input-24-3fb76f32fe70>:10: FutureWarning: The frame.append method is deprecated and will be removed from pandas in a future version. Use pandas.concat instead.\n",
            "  train = train.append({\n",
            "<ipython-input-24-3fb76f32fe70>:10: FutureWarning: The frame.append method is deprecated and will be removed from pandas in a future version. Use pandas.concat instead.\n",
            "  train = train.append({\n",
            "<ipython-input-24-3fb76f32fe70>:10: FutureWarning: The frame.append method is deprecated and will be removed from pandas in a future version. Use pandas.concat instead.\n",
            "  train = train.append({\n",
            "<ipython-input-24-3fb76f32fe70>:10: FutureWarning: The frame.append method is deprecated and will be removed from pandas in a future version. Use pandas.concat instead.\n",
            "  train = train.append({\n",
            "<ipython-input-24-3fb76f32fe70>:10: FutureWarning: The frame.append method is deprecated and will be removed from pandas in a future version. Use pandas.concat instead.\n",
            "  train = train.append({\n",
            "<ipython-input-24-3fb76f32fe70>:10: FutureWarning: The frame.append method is deprecated and will be removed from pandas in a future version. Use pandas.concat instead.\n",
            "  train = train.append({\n",
            "<ipython-input-24-3fb76f32fe70>:10: FutureWarning: The frame.append method is deprecated and will be removed from pandas in a future version. Use pandas.concat instead.\n",
            "  train = train.append({\n"
          ]
        }
      ],
      "source": [
        "max_user_id = train.user_id.max()\n",
        "avatar_ids = list()\n",
        "\n",
        "for user_items in new_items:\n",
        "    max_user_id += 1\n",
        "    for item_id in user_items.item_id:\n",
        "        last_watch_dt = f'2022-{str(randint(1,12)).zfill(2)}-{str(randint(1,28)).zfill(2)}'\n",
        "        if max_user_id not in avatar_ids:\n",
        "            avatar_ids.append(max_user_id)\n",
        "        train = train.append({\n",
        "            'user_id': max_user_id,\n",
        "            'item_id': item_id,\n",
        "            'last_watch_dt': last_watch_dt,\n",
        "            'watched_pct': randint(70, 100),\n",
        "            'weight': 3\n",
        "        }, ignore_index=True)"
      ]
    },
    {
      "cell_type": "code",
      "execution_count": 25,
      "metadata": {
        "pycharm": {
          "name": "#%%\n"
        },
        "id": "WWbjEvJFalmS"
      },
      "outputs": [],
      "source": [
        "avatar_map = pd.DataFrame({\"user_id\": avatar_ids, \"name\": ['dramma_queen', 'anime_tyan', 'gosling_fan']})"
      ]
    },
    {
      "cell_type": "code",
      "source": [
        "avatar_map "
      ],
      "metadata": {
        "colab": {
          "base_uri": "https://localhost:8080/",
          "height": 143
        },
        "id": "d6_sZNIrkO3H",
        "outputId": "b68d7e72-0030-4ef1-9b24-c57b03d47da3"
      },
      "execution_count": 26,
      "outputs": [
        {
          "output_type": "execute_result",
          "data": {
            "text/plain": [
              "   user_id          name\n",
              "0  1097558  dramma_queen\n",
              "1  1097559    anime_tyan\n",
              "2  1097560   gosling_fan"
            ],
            "text/html": [
              "\n",
              "  <div id=\"df-b6a36ad3-c77a-465c-9cd9-c26aebe9b433\">\n",
              "    <div class=\"colab-df-container\">\n",
              "      <div>\n",
              "<style scoped>\n",
              "    .dataframe tbody tr th:only-of-type {\n",
              "        vertical-align: middle;\n",
              "    }\n",
              "\n",
              "    .dataframe tbody tr th {\n",
              "        vertical-align: top;\n",
              "    }\n",
              "\n",
              "    .dataframe thead th {\n",
              "        text-align: right;\n",
              "    }\n",
              "</style>\n",
              "<table border=\"1\" class=\"dataframe\">\n",
              "  <thead>\n",
              "    <tr style=\"text-align: right;\">\n",
              "      <th></th>\n",
              "      <th>user_id</th>\n",
              "      <th>name</th>\n",
              "    </tr>\n",
              "  </thead>\n",
              "  <tbody>\n",
              "    <tr>\n",
              "      <th>0</th>\n",
              "      <td>1097558</td>\n",
              "      <td>dramma_queen</td>\n",
              "    </tr>\n",
              "    <tr>\n",
              "      <th>1</th>\n",
              "      <td>1097559</td>\n",
              "      <td>anime_tyan</td>\n",
              "    </tr>\n",
              "    <tr>\n",
              "      <th>2</th>\n",
              "      <td>1097560</td>\n",
              "      <td>gosling_fan</td>\n",
              "    </tr>\n",
              "  </tbody>\n",
              "</table>\n",
              "</div>\n",
              "      <button class=\"colab-df-convert\" onclick=\"convertToInteractive('df-b6a36ad3-c77a-465c-9cd9-c26aebe9b433')\"\n",
              "              title=\"Convert this dataframe to an interactive table.\"\n",
              "              style=\"display:none;\">\n",
              "        \n",
              "  <svg xmlns=\"http://www.w3.org/2000/svg\" height=\"24px\"viewBox=\"0 0 24 24\"\n",
              "       width=\"24px\">\n",
              "    <path d=\"M0 0h24v24H0V0z\" fill=\"none\"/>\n",
              "    <path d=\"M18.56 5.44l.94 2.06.94-2.06 2.06-.94-2.06-.94-.94-2.06-.94 2.06-2.06.94zm-11 1L8.5 8.5l.94-2.06 2.06-.94-2.06-.94L8.5 2.5l-.94 2.06-2.06.94zm10 10l.94 2.06.94-2.06 2.06-.94-2.06-.94-.94-2.06-.94 2.06-2.06.94z\"/><path d=\"M17.41 7.96l-1.37-1.37c-.4-.4-.92-.59-1.43-.59-.52 0-1.04.2-1.43.59L10.3 9.45l-7.72 7.72c-.78.78-.78 2.05 0 2.83L4 21.41c.39.39.9.59 1.41.59.51 0 1.02-.2 1.41-.59l7.78-7.78 2.81-2.81c.8-.78.8-2.07 0-2.86zM5.41 20L4 18.59l7.72-7.72 1.47 1.35L5.41 20z\"/>\n",
              "  </svg>\n",
              "      </button>\n",
              "      \n",
              "  <style>\n",
              "    .colab-df-container {\n",
              "      display:flex;\n",
              "      flex-wrap:wrap;\n",
              "      gap: 12px;\n",
              "    }\n",
              "\n",
              "    .colab-df-convert {\n",
              "      background-color: #E8F0FE;\n",
              "      border: none;\n",
              "      border-radius: 50%;\n",
              "      cursor: pointer;\n",
              "      display: none;\n",
              "      fill: #1967D2;\n",
              "      height: 32px;\n",
              "      padding: 0 0 0 0;\n",
              "      width: 32px;\n",
              "    }\n",
              "\n",
              "    .colab-df-convert:hover {\n",
              "      background-color: #E2EBFA;\n",
              "      box-shadow: 0px 1px 2px rgba(60, 64, 67, 0.3), 0px 1px 3px 1px rgba(60, 64, 67, 0.15);\n",
              "      fill: #174EA6;\n",
              "    }\n",
              "\n",
              "    [theme=dark] .colab-df-convert {\n",
              "      background-color: #3B4455;\n",
              "      fill: #D2E3FC;\n",
              "    }\n",
              "\n",
              "    [theme=dark] .colab-df-convert:hover {\n",
              "      background-color: #434B5C;\n",
              "      box-shadow: 0px 1px 3px 1px rgba(0, 0, 0, 0.15);\n",
              "      filter: drop-shadow(0px 1px 2px rgba(0, 0, 0, 0.3));\n",
              "      fill: #FFFFFF;\n",
              "    }\n",
              "  </style>\n",
              "\n",
              "      <script>\n",
              "        const buttonEl =\n",
              "          document.querySelector('#df-b6a36ad3-c77a-465c-9cd9-c26aebe9b433 button.colab-df-convert');\n",
              "        buttonEl.style.display =\n",
              "          google.colab.kernel.accessAllowed ? 'block' : 'none';\n",
              "\n",
              "        async function convertToInteractive(key) {\n",
              "          const element = document.querySelector('#df-b6a36ad3-c77a-465c-9cd9-c26aebe9b433');\n",
              "          const dataTable =\n",
              "            await google.colab.kernel.invokeFunction('convertToInteractive',\n",
              "                                                     [key], {});\n",
              "          if (!dataTable) return;\n",
              "\n",
              "          const docLinkHtml = 'Like what you see? Visit the ' +\n",
              "            '<a target=\"_blank\" href=https://colab.research.google.com/notebooks/data_table.ipynb>data table notebook</a>'\n",
              "            + ' to learn more about interactive tables.';\n",
              "          element.innerHTML = '';\n",
              "          dataTable['output_type'] = 'display_data';\n",
              "          await google.colab.output.renderOutput(dataTable, element);\n",
              "          const docLink = document.createElement('div');\n",
              "          docLink.innerHTML = docLinkHtml;\n",
              "          element.appendChild(docLink);\n",
              "        }\n",
              "      </script>\n",
              "    </div>\n",
              "  </div>\n",
              "  "
            ]
          },
          "metadata": {},
          "execution_count": 26
        }
      ]
    },
    {
      "cell_type": "markdown",
      "metadata": {
        "collapsed": false,
        "pycharm": {
          "name": "#%% md\n"
        },
        "id": "HSYOQQchalmX"
      },
      "source": [
        "# Обучение моделей"
      ]
    },
    {
      "cell_type": "code",
      "execution_count": 27,
      "metadata": {
        "pycharm": {
          "name": "#%%\n"
        },
        "id": "Kuk-knpAalmX"
      },
      "outputs": [],
      "source": [
        "K_RECS = 10\n",
        "RANDOM_STATE = 1234\n",
        "NUM_THREADS = 6"
      ]
    },
    {
      "cell_type": "code",
      "execution_count": 28,
      "metadata": {
        "pycharm": {
          "name": "#%%\n"
        },
        "colab": {
          "base_uri": "https://localhost:8080/"
        },
        "id": "Cgdzefk1almY",
        "outputId": "46cefed2-94c3-4f55-ea9d-447fdfac9c89"
      },
      "outputs": [
        {
          "output_type": "stream",
          "name": "stderr",
          "text": [
            "/usr/local/lib/python3.9/dist-packages/rectools/dataset/interactions.py:62: FutureWarning: Inferring datetime64[ns] from data containing strings is deprecated and will be removed in a future version. To retain the old behavior explicitly pass Series(data, dtype=datetime64[ns])\n",
            "  df[Columns.Datetime] = df[Columns.Datetime].astype(\"datetime64[ns]\")\n"
          ]
        }
      ],
      "source": [
        "dataset = Dataset.construct(\n",
        "    interactions_df=train\n",
        ")"
      ]
    },
    {
      "cell_type": "markdown",
      "metadata": {
        "collapsed": false,
        "pycharm": {
          "name": "#%% md\n"
        },
        "id": "2Pk2qc58almY"
      },
      "source": [
        "## Подбор гиперпараметров"
      ]
    },
    {
      "cell_type": "code",
      "execution_count": 29,
      "metadata": {
        "pycharm": {
          "name": "#%%\n"
        },
        "id": "-otEEjC3almY"
      },
      "outputs": [],
      "source": [
        "models = {}"
      ]
    },
    {
      "cell_type": "code",
      "execution_count": 30,
      "metadata": {
        "id": "eRxDQ5kaalmZ"
      },
      "outputs": [],
      "source": [
        "def get_model(model_name, params, n_factors, epochs):\n",
        "    if model_name == 'light_fm':\n",
        "        model = LightFMWrapperModel(\n",
        "            LightFM(\n",
        "                no_components=n_factors,\n",
        "                random_state=RANDOM_STATE,\n",
        "                **params\n",
        "            ),\n",
        "            epochs=epochs,\n",
        "            num_threads=NUM_THREADS,\n",
        "        )\n",
        "    elif model_name == 'implicit_als':\n",
        "        model = ImplicitALSWrapperModel(\n",
        "            model=AlternatingLeastSquares(\n",
        "                factors=n_factors,\n",
        "                random_state=RANDOM_STATE, \n",
        "                num_threads=NUM_THREADS,\n",
        "            ),\n",
        "            **params\n",
        "        )\n",
        "    return model"
      ]
    },
    {
      "cell_type": "code",
      "execution_count": 31,
      "metadata": {
        "pycharm": {
          "name": "#%%\n"
        },
        "colab": {
          "base_uri": "https://localhost:8080/"
        },
        "id": "q5EwsVTpalmZ",
        "outputId": "5801085c-5500-482c-8107-a0351ffaafd8"
      },
      "outputs": [
        {
          "output_type": "stream",
          "name": "stdout",
          "text": [
            "\r  0%|          | 0/6 [00:00<?, ?trial/s, best loss=?]"
          ]
        },
        {
          "output_type": "stream",
          "name": "stderr",
          "text": [
            "WARNING:implicit:GPU training requires factor size to be a multiple of 32. Increasing factors from 12 to 32.\n"
          ]
        },
        {
          "output_type": "stream",
          "name": "stdout",
          "text": [
            " 83%|████████▎ | 5/6 [07:58<01:38, 98.41s/trial, best loss: -0.07881307866987335]"
          ]
        },
        {
          "output_type": "stream",
          "name": "stderr",
          "text": [
            "WARNING:implicit:GPU training requires factor size to be a multiple of 32. Increasing factors from 4 to 32.\n"
          ]
        },
        {
          "output_type": "stream",
          "name": "stdout",
          "text": [
            "100%|██████████| 6/6 [09:18<00:00, 93.08s/trial, best loss: -0.07881307866987335]\n"
          ]
        }
      ],
      "source": [
        "from hyperopt import fmin, tpe, hp, STATUS_OK, Trials\n",
        "\n",
        "\n",
        "models_data = [\n",
        "    {'name': 'light_fm', 'params': {'loss': 'logistic'}},\n",
        "    {'name': 'light_fm', 'params': {'loss': 'warp'}},\n",
        "    {'name': 'implicit_als', 'params': {'fit_features_together': True}},\n",
        "]\n",
        "n_factors_var = list(N for N in [4,8,12])\n",
        "\n",
        "fspace = {\n",
        "    'model_data': hp.choice('model_data', models_data),\n",
        "    'n_factors': hp.choice('n_factors', n_factors_var)\n",
        "}\n",
        "def train_and_eval(params):\n",
        "    model_data = params['model_data']\n",
        "    n_factors = params['n_factors']\n",
        "    model = get_model(model_data['name'], model_data['params'], n_factors, 10)\n",
        "    metrics = {f'MAP@{K_RECS}': MAP(k=K_RECS)}\n",
        "\n",
        "    model.fit(dataset)\n",
        "    recos = model.recommend(\n",
        "        users=test[Columns.User].unique(),\n",
        "        dataset=dataset,\n",
        "        k=K_RECS,\n",
        "        filter_viewed=True,\n",
        "    )\n",
        "    metric_values = calc_metrics(metrics, recos, test, train)\n",
        "    suffix = '__'.join([f'{k}_{v}' for k, v in model_data[\"params\"].items()])\n",
        "    models[f'{model_data[\"name\"]}__{suffix}__n_{n_factors}'] = model\n",
        "\n",
        "    return {'loss': -metric_values[f'MAP@{K_RECS}'], 'status': STATUS_OK}\n",
        "\n",
        "\n",
        "trials = Trials()\n",
        "\n",
        "best = fmin(fn=train_and_eval, space=fspace, algo=tpe.suggest, max_evals=6, trials=trials)"
      ]
    },
    {
      "cell_type": "code",
      "execution_count": 32,
      "metadata": {
        "id": "tcFlETWMalma",
        "colab": {
          "base_uri": "https://localhost:8080/"
        },
        "outputId": "9d7534b7-f07b-447b-b55b-4c901e9a4cc3"
      },
      "outputs": [
        {
          "output_type": "stream",
          "name": "stdout",
          "text": [
            "light_fm__loss_warp__n_4\n"
          ]
        }
      ],
      "source": [
        "model_data = models_data[best['model_data']]\n",
        "suffix = '__'.join([f'{k}_{v}' for k, v in model_data[\"params\"].items()])\n",
        "model_key = f'{model_data[\"name\"]}__{suffix}__n_{n_factors_var[best[\"n_factors\"]]}'\n",
        "print(model_key)"
      ]
    },
    {
      "cell_type": "code",
      "execution_count": 33,
      "metadata": {
        "id": "9F7Li5Q-alma"
      },
      "outputs": [],
      "source": [
        "metrics_name = {\n",
        "    'Precision': Precision,\n",
        "    'Recall': Recall,\n",
        "    'MAP': MAP,\n",
        "}\n",
        "\n",
        "metrics = {}\n",
        "for metric_name, metric in metrics_name.items():\n",
        "    for k in [1, 5, 10]:\n",
        "        metrics[f'{metric_name}@{k}'] = metric(k=k)"
      ]
    },
    {
      "cell_type": "code",
      "execution_count": 34,
      "metadata": {
        "id": "Wcln0wmqalma",
        "colab": {
          "base_uri": "https://localhost:8080/"
        },
        "outputId": "4ad95817-3a46-414e-d95f-072dab76d0a1"
      },
      "outputs": [
        {
          "output_type": "execute_result",
          "data": {
            "text/plain": [
              "{'Precision@1': 0.08301689724457191,\n",
              " 'Recall@1': 0.04224905041931861,\n",
              " 'Precision@5': 0.051952167255282046,\n",
              " 'Recall@5': 0.12348164968067045,\n",
              " 'Precision@10': 0.035181497118882604,\n",
              " 'Recall@10': 0.16094359114263734,\n",
              " 'MAP@1': 0.04224905041931861,\n",
              " 'MAP@5': 0.07286028993904584,\n",
              " 'MAP@10': 0.07881307866987335}"
            ]
          },
          "metadata": {},
          "execution_count": 34
        }
      ],
      "source": [
        "recos = models[model_key].recommend(\n",
        "    users=test[Columns.User].unique(),\n",
        "    dataset=dataset,\n",
        "    k=K_RECS,\n",
        "    filter_viewed=True,\n",
        ")\n",
        "calc_metrics(metrics, recos, test, train)"
      ]
    },
    {
      "cell_type": "markdown",
      "metadata": {
        "id": "y1yMPT0Malmb"
      },
      "source": [
        "# Оценка моделей на аватарах"
      ]
    },
    {
      "cell_type": "code",
      "execution_count": 35,
      "metadata": {
        "id": "xtJCFLIoalmc"
      },
      "outputs": [],
      "source": [
        "recoms = models[model_key].recommend(\n",
        "    users=avatar_ids,\n",
        "    dataset=dataset,\n",
        "    k=K_RECS,\n",
        "    filter_viewed=True,\n",
        ")\n",
        "recoms = pd.merge(recoms, items, on='item_id')\n",
        "recoms = pd.merge(recoms, avatar_map, on='user_id')[['name', 'countries', 'title', 'genres', 'age_rating', 'actors', 'keywords']]\n"
      ]
    },
    {
      "cell_type": "markdown",
      "metadata": {
        "id": "aorqMaOBalmc"
      },
      "source": [
        "## Драма квинн\n",
        "Модель не так уж плохо справилась, в плане предсказания фильмов, всего 1 мелодрама и 4 драмы"
      ]
    },
    {
      "cell_type": "code",
      "execution_count": 36,
      "metadata": {
        "id": "ayLXpUjoalmc",
        "colab": {
          "base_uri": "https://localhost:8080/",
          "height": 581
        },
        "outputId": "27778ed6-d538-4d02-90e9-9916ef2d19d2"
      },
      "outputs": [
        {
          "output_type": "execute_result",
          "data": {
            "text/plain": [
              "           name            countries                         title  \\\n",
              "0  dramma_queen               Россия               Клиника счастья   \n",
              "1  dramma_queen               Россия                   Хрустальный   \n",
              "2  dramma_queen               Россия                      Девятаев   \n",
              "3  dramma_queen  Великобритания, США             Гнев человеческий   \n",
              "4  dramma_queen               Россия        Секреты семейной жизни   \n",
              "5  dramma_queen               Россия  Прабабушка легкого поведения   \n",
              "6  dramma_queen               Россия                    Подслушано   \n",
              "7  dramma_queen               Россия                          Маша   \n",
              "8  dramma_queen               Россия                         Афера   \n",
              "9  dramma_queen               Россия                    Белый снег   \n",
              "\n",
              "                        genres  age_rating  \\\n",
              "0             драмы, мелодрамы        18.0   \n",
              "1          триллеры, детективы        18.0   \n",
              "2  драмы, военные, приключения        12.0   \n",
              "3            боевики, триллеры        18.0   \n",
              "4                      комедии        18.0   \n",
              "5                      комедии        16.0   \n",
              "6              драмы, триллеры        16.0   \n",
              "7              драмы, триллеры        16.0   \n",
              "8                      комедии        18.0   \n",
              "9                 драмы, спорт         6.0   \n",
              "\n",
              "                                              actors  \\\n",
              "0  Дарья Мороз, Анатолий Белый, Данил Акутин, Мар...   \n",
              "1  Антон Васильев, Николай Шрайбер, Екатерина Оль...   \n",
              "2  Павел Прилучный, Павел Чинарёв, Тимофей Трибун...   \n",
              "3  Джейсон Стэйтем, Холт МакКэллани, Джеффри Доно...   \n",
              "4  Петр Скворцов, Алена Михайлова, Федор Лавров, ...   \n",
              "5  Александр Ревва, Глюкоза, Дмитрий Нагиев, Миха...   \n",
              "6  Александр Hовиков, Валентина Ляпина, Никита Па...   \n",
              "7  Максим Суханов, Аня Чиповская, Полина Гухман, ...   \n",
              "8  Сергей Степин, Игорь Царегородцев, Татьяна Лял...   \n",
              "9  Ольга Лерман, Федор Добронравов, Надежда Марки...   \n",
              "\n",
              "                                            keywords  \n",
              "0  Клиника счастья, Клиника, Счастье, Клиника сча...  \n",
              "1  хруст, хрусталь, хруста, хрус, полицейский, пе...  \n",
              "2  Девятаев, Девятаева, Девят, Девя, Девята, Девя...  \n",
              "3  ограбление, криминальный авторитет, месть, пер...  \n",
              "4  брызги крови, кровь, жестокое обращение с живо...  \n",
              "5     , 2021, россия, прабабушка, легкого, поведения  \n",
              "6  подслушано, подслушано в контакте, социальная ...  \n",
              "7  Фильм Маша, Маша фильм 2021, Смотреть фильм Ма...  \n",
              "8  Афера, Аферисты, Карантин, Пандемия, Карантин ...  \n",
              "9  биография, занятие спортом, байопик, чемпионат...  "
            ],
            "text/html": [
              "\n",
              "  <div id=\"df-68930e23-b9b8-4990-9504-63ba3747dec1\">\n",
              "    <div class=\"colab-df-container\">\n",
              "      <div>\n",
              "<style scoped>\n",
              "    .dataframe tbody tr th:only-of-type {\n",
              "        vertical-align: middle;\n",
              "    }\n",
              "\n",
              "    .dataframe tbody tr th {\n",
              "        vertical-align: top;\n",
              "    }\n",
              "\n",
              "    .dataframe thead th {\n",
              "        text-align: right;\n",
              "    }\n",
              "</style>\n",
              "<table border=\"1\" class=\"dataframe\">\n",
              "  <thead>\n",
              "    <tr style=\"text-align: right;\">\n",
              "      <th></th>\n",
              "      <th>name</th>\n",
              "      <th>countries</th>\n",
              "      <th>title</th>\n",
              "      <th>genres</th>\n",
              "      <th>age_rating</th>\n",
              "      <th>actors</th>\n",
              "      <th>keywords</th>\n",
              "    </tr>\n",
              "  </thead>\n",
              "  <tbody>\n",
              "    <tr>\n",
              "      <th>0</th>\n",
              "      <td>dramma_queen</td>\n",
              "      <td>Россия</td>\n",
              "      <td>Клиника счастья</td>\n",
              "      <td>драмы, мелодрамы</td>\n",
              "      <td>18.0</td>\n",
              "      <td>Дарья Мороз, Анатолий Белый, Данил Акутин, Мар...</td>\n",
              "      <td>Клиника счастья, Клиника, Счастье, Клиника сча...</td>\n",
              "    </tr>\n",
              "    <tr>\n",
              "      <th>1</th>\n",
              "      <td>dramma_queen</td>\n",
              "      <td>Россия</td>\n",
              "      <td>Хрустальный</td>\n",
              "      <td>триллеры, детективы</td>\n",
              "      <td>18.0</td>\n",
              "      <td>Антон Васильев, Николай Шрайбер, Екатерина Оль...</td>\n",
              "      <td>хруст, хрусталь, хруста, хрус, полицейский, пе...</td>\n",
              "    </tr>\n",
              "    <tr>\n",
              "      <th>2</th>\n",
              "      <td>dramma_queen</td>\n",
              "      <td>Россия</td>\n",
              "      <td>Девятаев</td>\n",
              "      <td>драмы, военные, приключения</td>\n",
              "      <td>12.0</td>\n",
              "      <td>Павел Прилучный, Павел Чинарёв, Тимофей Трибун...</td>\n",
              "      <td>Девятаев, Девятаева, Девят, Девя, Девята, Девя...</td>\n",
              "    </tr>\n",
              "    <tr>\n",
              "      <th>3</th>\n",
              "      <td>dramma_queen</td>\n",
              "      <td>Великобритания, США</td>\n",
              "      <td>Гнев человеческий</td>\n",
              "      <td>боевики, триллеры</td>\n",
              "      <td>18.0</td>\n",
              "      <td>Джейсон Стэйтем, Холт МакКэллани, Джеффри Доно...</td>\n",
              "      <td>ограбление, криминальный авторитет, месть, пер...</td>\n",
              "    </tr>\n",
              "    <tr>\n",
              "      <th>4</th>\n",
              "      <td>dramma_queen</td>\n",
              "      <td>Россия</td>\n",
              "      <td>Секреты семейной жизни</td>\n",
              "      <td>комедии</td>\n",
              "      <td>18.0</td>\n",
              "      <td>Петр Скворцов, Алена Михайлова, Федор Лавров, ...</td>\n",
              "      <td>брызги крови, кровь, жестокое обращение с живо...</td>\n",
              "    </tr>\n",
              "    <tr>\n",
              "      <th>5</th>\n",
              "      <td>dramma_queen</td>\n",
              "      <td>Россия</td>\n",
              "      <td>Прабабушка легкого поведения</td>\n",
              "      <td>комедии</td>\n",
              "      <td>16.0</td>\n",
              "      <td>Александр Ревва, Глюкоза, Дмитрий Нагиев, Миха...</td>\n",
              "      <td>, 2021, россия, прабабушка, легкого, поведения</td>\n",
              "    </tr>\n",
              "    <tr>\n",
              "      <th>6</th>\n",
              "      <td>dramma_queen</td>\n",
              "      <td>Россия</td>\n",
              "      <td>Подслушано</td>\n",
              "      <td>драмы, триллеры</td>\n",
              "      <td>16.0</td>\n",
              "      <td>Александр Hовиков, Валентина Ляпина, Никита Па...</td>\n",
              "      <td>подслушано, подслушано в контакте, социальная ...</td>\n",
              "    </tr>\n",
              "    <tr>\n",
              "      <th>7</th>\n",
              "      <td>dramma_queen</td>\n",
              "      <td>Россия</td>\n",
              "      <td>Маша</td>\n",
              "      <td>драмы, триллеры</td>\n",
              "      <td>16.0</td>\n",
              "      <td>Максим Суханов, Аня Чиповская, Полина Гухман, ...</td>\n",
              "      <td>Фильм Маша, Маша фильм 2021, Смотреть фильм Ма...</td>\n",
              "    </tr>\n",
              "    <tr>\n",
              "      <th>8</th>\n",
              "      <td>dramma_queen</td>\n",
              "      <td>Россия</td>\n",
              "      <td>Афера</td>\n",
              "      <td>комедии</td>\n",
              "      <td>18.0</td>\n",
              "      <td>Сергей Степин, Игорь Царегородцев, Татьяна Лял...</td>\n",
              "      <td>Афера, Аферисты, Карантин, Пандемия, Карантин ...</td>\n",
              "    </tr>\n",
              "    <tr>\n",
              "      <th>9</th>\n",
              "      <td>dramma_queen</td>\n",
              "      <td>Россия</td>\n",
              "      <td>Белый снег</td>\n",
              "      <td>драмы, спорт</td>\n",
              "      <td>6.0</td>\n",
              "      <td>Ольга Лерман, Федор Добронравов, Надежда Марки...</td>\n",
              "      <td>биография, занятие спортом, байопик, чемпионат...</td>\n",
              "    </tr>\n",
              "  </tbody>\n",
              "</table>\n",
              "</div>\n",
              "      <button class=\"colab-df-convert\" onclick=\"convertToInteractive('df-68930e23-b9b8-4990-9504-63ba3747dec1')\"\n",
              "              title=\"Convert this dataframe to an interactive table.\"\n",
              "              style=\"display:none;\">\n",
              "        \n",
              "  <svg xmlns=\"http://www.w3.org/2000/svg\" height=\"24px\"viewBox=\"0 0 24 24\"\n",
              "       width=\"24px\">\n",
              "    <path d=\"M0 0h24v24H0V0z\" fill=\"none\"/>\n",
              "    <path d=\"M18.56 5.44l.94 2.06.94-2.06 2.06-.94-2.06-.94-.94-2.06-.94 2.06-2.06.94zm-11 1L8.5 8.5l.94-2.06 2.06-.94-2.06-.94L8.5 2.5l-.94 2.06-2.06.94zm10 10l.94 2.06.94-2.06 2.06-.94-2.06-.94-.94-2.06-.94 2.06-2.06.94z\"/><path d=\"M17.41 7.96l-1.37-1.37c-.4-.4-.92-.59-1.43-.59-.52 0-1.04.2-1.43.59L10.3 9.45l-7.72 7.72c-.78.78-.78 2.05 0 2.83L4 21.41c.39.39.9.59 1.41.59.51 0 1.02-.2 1.41-.59l7.78-7.78 2.81-2.81c.8-.78.8-2.07 0-2.86zM5.41 20L4 18.59l7.72-7.72 1.47 1.35L5.41 20z\"/>\n",
              "  </svg>\n",
              "      </button>\n",
              "      \n",
              "  <style>\n",
              "    .colab-df-container {\n",
              "      display:flex;\n",
              "      flex-wrap:wrap;\n",
              "      gap: 12px;\n",
              "    }\n",
              "\n",
              "    .colab-df-convert {\n",
              "      background-color: #E8F0FE;\n",
              "      border: none;\n",
              "      border-radius: 50%;\n",
              "      cursor: pointer;\n",
              "      display: none;\n",
              "      fill: #1967D2;\n",
              "      height: 32px;\n",
              "      padding: 0 0 0 0;\n",
              "      width: 32px;\n",
              "    }\n",
              "\n",
              "    .colab-df-convert:hover {\n",
              "      background-color: #E2EBFA;\n",
              "      box-shadow: 0px 1px 2px rgba(60, 64, 67, 0.3), 0px 1px 3px 1px rgba(60, 64, 67, 0.15);\n",
              "      fill: #174EA6;\n",
              "    }\n",
              "\n",
              "    [theme=dark] .colab-df-convert {\n",
              "      background-color: #3B4455;\n",
              "      fill: #D2E3FC;\n",
              "    }\n",
              "\n",
              "    [theme=dark] .colab-df-convert:hover {\n",
              "      background-color: #434B5C;\n",
              "      box-shadow: 0px 1px 3px 1px rgba(0, 0, 0, 0.15);\n",
              "      filter: drop-shadow(0px 1px 2px rgba(0, 0, 0, 0.3));\n",
              "      fill: #FFFFFF;\n",
              "    }\n",
              "  </style>\n",
              "\n",
              "      <script>\n",
              "        const buttonEl =\n",
              "          document.querySelector('#df-68930e23-b9b8-4990-9504-63ba3747dec1 button.colab-df-convert');\n",
              "        buttonEl.style.display =\n",
              "          google.colab.kernel.accessAllowed ? 'block' : 'none';\n",
              "\n",
              "        async function convertToInteractive(key) {\n",
              "          const element = document.querySelector('#df-68930e23-b9b8-4990-9504-63ba3747dec1');\n",
              "          const dataTable =\n",
              "            await google.colab.kernel.invokeFunction('convertToInteractive',\n",
              "                                                     [key], {});\n",
              "          if (!dataTable) return;\n",
              "\n",
              "          const docLinkHtml = 'Like what you see? Visit the ' +\n",
              "            '<a target=\"_blank\" href=https://colab.research.google.com/notebooks/data_table.ipynb>data table notebook</a>'\n",
              "            + ' to learn more about interactive tables.';\n",
              "          element.innerHTML = '';\n",
              "          dataTable['output_type'] = 'display_data';\n",
              "          await google.colab.output.renderOutput(dataTable, element);\n",
              "          const docLink = document.createElement('div');\n",
              "          docLink.innerHTML = docLinkHtml;\n",
              "          element.appendChild(docLink);\n",
              "        }\n",
              "      </script>\n",
              "    </div>\n",
              "  </div>\n",
              "  "
            ]
          },
          "metadata": {},
          "execution_count": 36
        }
      ],
      "source": [
        "recoms[:10]"
      ]
    },
    {
      "cell_type": "markdown",
      "metadata": {
        "id": "1br6yUzcalmc"
      },
      "source": [
        "## Аниме-тян\n",
        "Всего 1 аниме и 7 мультфильмов. Хотелось бы побольше аниме.\n"
      ]
    },
    {
      "cell_type": "code",
      "execution_count": 37,
      "metadata": {
        "id": "CW36QXnKalmd",
        "colab": {
          "base_uri": "https://localhost:8080/",
          "height": 581
        },
        "outputId": "63a40718-58f0-4daa-abdd-e5042464d3a0"
      },
      "outputs": [
        {
          "output_type": "execute_result",
          "data": {
            "text/plain": [
              "           name            countries                         title  \\\n",
              "10  gosling_fan               Россия               Клиника счастья   \n",
              "11  gosling_fan               Россия                   Хрустальный   \n",
              "12  gosling_fan               Россия                      Девятаев   \n",
              "13  gosling_fan  Великобритания, США             Гнев человеческий   \n",
              "14  gosling_fan               Россия        Секреты семейной жизни   \n",
              "15  gosling_fan               Россия  Прабабушка легкого поведения   \n",
              "16  gosling_fan               Россия                    Подслушано   \n",
              "17  gosling_fan               Россия                         Афера   \n",
              "18  gosling_fan               Россия                         Дуров   \n",
              "19  gosling_fan               Россия            Сахаров. Две жизни   \n",
              "\n",
              "                         genres  age_rating  \\\n",
              "10             драмы, мелодрамы        18.0   \n",
              "11          триллеры, детективы        18.0   \n",
              "12  драмы, военные, приключения        12.0   \n",
              "13            боевики, триллеры        18.0   \n",
              "14                      комедии        18.0   \n",
              "15                      комедии        16.0   \n",
              "16              драмы, триллеры        16.0   \n",
              "17                      комедии        18.0   \n",
              "18               документальное        16.0   \n",
              "19               документальное        16.0   \n",
              "\n",
              "                                               actors  \\\n",
              "10  Дарья Мороз, Анатолий Белый, Данил Акутин, Мар...   \n",
              "11  Антон Васильев, Николай Шрайбер, Екатерина Оль...   \n",
              "12  Павел Прилучный, Павел Чинарёв, Тимофей Трибун...   \n",
              "13  Джейсон Стэйтем, Холт МакКэллани, Джеффри Доно...   \n",
              "14  Петр Скворцов, Алена Михайлова, Федор Лавров, ...   \n",
              "15  Александр Ревва, Глюкоза, Дмитрий Нагиев, Миха...   \n",
              "16  Александр Hовиков, Валентина Ляпина, Никита Па...   \n",
              "17  Сергей Степин, Игорь Царегородцев, Татьяна Лял...   \n",
              "18                                                NaN   \n",
              "19     Алексей Усольцев, Чулпан Хаматова, Агата Супер   \n",
              "\n",
              "                                             keywords  \n",
              "10  Клиника счастья, Клиника, Счастье, Клиника сча...  \n",
              "11  хруст, хрусталь, хруста, хрус, полицейский, пе...  \n",
              "12  Девятаев, Девятаева, Девят, Девя, Девята, Девя...  \n",
              "13  ограбление, криминальный авторитет, месть, пер...  \n",
              "14  брызги крови, кровь, жестокое обращение с живо...  \n",
              "15     , 2021, россия, прабабушка, легкого, поведения  \n",
              "16  подслушано, подслушано в контакте, социальная ...  \n",
              "17  Афера, Аферисты, Карантин, Пандемия, Карантин ...  \n",
              "18  Компьютер, Монитор, Гений, Интервью, Предприни...  \n",
              "19  Сахаров, Сахарок, Сахар, Сахар сахаров, Сахаро...  "
            ],
            "text/html": [
              "\n",
              "  <div id=\"df-39f3e4e9-6d4c-4549-844d-8419fcfab270\">\n",
              "    <div class=\"colab-df-container\">\n",
              "      <div>\n",
              "<style scoped>\n",
              "    .dataframe tbody tr th:only-of-type {\n",
              "        vertical-align: middle;\n",
              "    }\n",
              "\n",
              "    .dataframe tbody tr th {\n",
              "        vertical-align: top;\n",
              "    }\n",
              "\n",
              "    .dataframe thead th {\n",
              "        text-align: right;\n",
              "    }\n",
              "</style>\n",
              "<table border=\"1\" class=\"dataframe\">\n",
              "  <thead>\n",
              "    <tr style=\"text-align: right;\">\n",
              "      <th></th>\n",
              "      <th>name</th>\n",
              "      <th>countries</th>\n",
              "      <th>title</th>\n",
              "      <th>genres</th>\n",
              "      <th>age_rating</th>\n",
              "      <th>actors</th>\n",
              "      <th>keywords</th>\n",
              "    </tr>\n",
              "  </thead>\n",
              "  <tbody>\n",
              "    <tr>\n",
              "      <th>10</th>\n",
              "      <td>gosling_fan</td>\n",
              "      <td>Россия</td>\n",
              "      <td>Клиника счастья</td>\n",
              "      <td>драмы, мелодрамы</td>\n",
              "      <td>18.0</td>\n",
              "      <td>Дарья Мороз, Анатолий Белый, Данил Акутин, Мар...</td>\n",
              "      <td>Клиника счастья, Клиника, Счастье, Клиника сча...</td>\n",
              "    </tr>\n",
              "    <tr>\n",
              "      <th>11</th>\n",
              "      <td>gosling_fan</td>\n",
              "      <td>Россия</td>\n",
              "      <td>Хрустальный</td>\n",
              "      <td>триллеры, детективы</td>\n",
              "      <td>18.0</td>\n",
              "      <td>Антон Васильев, Николай Шрайбер, Екатерина Оль...</td>\n",
              "      <td>хруст, хрусталь, хруста, хрус, полицейский, пе...</td>\n",
              "    </tr>\n",
              "    <tr>\n",
              "      <th>12</th>\n",
              "      <td>gosling_fan</td>\n",
              "      <td>Россия</td>\n",
              "      <td>Девятаев</td>\n",
              "      <td>драмы, военные, приключения</td>\n",
              "      <td>12.0</td>\n",
              "      <td>Павел Прилучный, Павел Чинарёв, Тимофей Трибун...</td>\n",
              "      <td>Девятаев, Девятаева, Девят, Девя, Девята, Девя...</td>\n",
              "    </tr>\n",
              "    <tr>\n",
              "      <th>13</th>\n",
              "      <td>gosling_fan</td>\n",
              "      <td>Великобритания, США</td>\n",
              "      <td>Гнев человеческий</td>\n",
              "      <td>боевики, триллеры</td>\n",
              "      <td>18.0</td>\n",
              "      <td>Джейсон Стэйтем, Холт МакКэллани, Джеффри Доно...</td>\n",
              "      <td>ограбление, криминальный авторитет, месть, пер...</td>\n",
              "    </tr>\n",
              "    <tr>\n",
              "      <th>14</th>\n",
              "      <td>gosling_fan</td>\n",
              "      <td>Россия</td>\n",
              "      <td>Секреты семейной жизни</td>\n",
              "      <td>комедии</td>\n",
              "      <td>18.0</td>\n",
              "      <td>Петр Скворцов, Алена Михайлова, Федор Лавров, ...</td>\n",
              "      <td>брызги крови, кровь, жестокое обращение с живо...</td>\n",
              "    </tr>\n",
              "    <tr>\n",
              "      <th>15</th>\n",
              "      <td>gosling_fan</td>\n",
              "      <td>Россия</td>\n",
              "      <td>Прабабушка легкого поведения</td>\n",
              "      <td>комедии</td>\n",
              "      <td>16.0</td>\n",
              "      <td>Александр Ревва, Глюкоза, Дмитрий Нагиев, Миха...</td>\n",
              "      <td>, 2021, россия, прабабушка, легкого, поведения</td>\n",
              "    </tr>\n",
              "    <tr>\n",
              "      <th>16</th>\n",
              "      <td>gosling_fan</td>\n",
              "      <td>Россия</td>\n",
              "      <td>Подслушано</td>\n",
              "      <td>драмы, триллеры</td>\n",
              "      <td>16.0</td>\n",
              "      <td>Александр Hовиков, Валентина Ляпина, Никита Па...</td>\n",
              "      <td>подслушано, подслушано в контакте, социальная ...</td>\n",
              "    </tr>\n",
              "    <tr>\n",
              "      <th>17</th>\n",
              "      <td>gosling_fan</td>\n",
              "      <td>Россия</td>\n",
              "      <td>Афера</td>\n",
              "      <td>комедии</td>\n",
              "      <td>18.0</td>\n",
              "      <td>Сергей Степин, Игорь Царегородцев, Татьяна Лял...</td>\n",
              "      <td>Афера, Аферисты, Карантин, Пандемия, Карантин ...</td>\n",
              "    </tr>\n",
              "    <tr>\n",
              "      <th>18</th>\n",
              "      <td>gosling_fan</td>\n",
              "      <td>Россия</td>\n",
              "      <td>Дуров</td>\n",
              "      <td>документальное</td>\n",
              "      <td>16.0</td>\n",
              "      <td>NaN</td>\n",
              "      <td>Компьютер, Монитор, Гений, Интервью, Предприни...</td>\n",
              "    </tr>\n",
              "    <tr>\n",
              "      <th>19</th>\n",
              "      <td>gosling_fan</td>\n",
              "      <td>Россия</td>\n",
              "      <td>Сахаров. Две жизни</td>\n",
              "      <td>документальное</td>\n",
              "      <td>16.0</td>\n",
              "      <td>Алексей Усольцев, Чулпан Хаматова, Агата Супер</td>\n",
              "      <td>Сахаров, Сахарок, Сахар, Сахар сахаров, Сахаро...</td>\n",
              "    </tr>\n",
              "  </tbody>\n",
              "</table>\n",
              "</div>\n",
              "      <button class=\"colab-df-convert\" onclick=\"convertToInteractive('df-39f3e4e9-6d4c-4549-844d-8419fcfab270')\"\n",
              "              title=\"Convert this dataframe to an interactive table.\"\n",
              "              style=\"display:none;\">\n",
              "        \n",
              "  <svg xmlns=\"http://www.w3.org/2000/svg\" height=\"24px\"viewBox=\"0 0 24 24\"\n",
              "       width=\"24px\">\n",
              "    <path d=\"M0 0h24v24H0V0z\" fill=\"none\"/>\n",
              "    <path d=\"M18.56 5.44l.94 2.06.94-2.06 2.06-.94-2.06-.94-.94-2.06-.94 2.06-2.06.94zm-11 1L8.5 8.5l.94-2.06 2.06-.94-2.06-.94L8.5 2.5l-.94 2.06-2.06.94zm10 10l.94 2.06.94-2.06 2.06-.94-2.06-.94-.94-2.06-.94 2.06-2.06.94z\"/><path d=\"M17.41 7.96l-1.37-1.37c-.4-.4-.92-.59-1.43-.59-.52 0-1.04.2-1.43.59L10.3 9.45l-7.72 7.72c-.78.78-.78 2.05 0 2.83L4 21.41c.39.39.9.59 1.41.59.51 0 1.02-.2 1.41-.59l7.78-7.78 2.81-2.81c.8-.78.8-2.07 0-2.86zM5.41 20L4 18.59l7.72-7.72 1.47 1.35L5.41 20z\"/>\n",
              "  </svg>\n",
              "      </button>\n",
              "      \n",
              "  <style>\n",
              "    .colab-df-container {\n",
              "      display:flex;\n",
              "      flex-wrap:wrap;\n",
              "      gap: 12px;\n",
              "    }\n",
              "\n",
              "    .colab-df-convert {\n",
              "      background-color: #E8F0FE;\n",
              "      border: none;\n",
              "      border-radius: 50%;\n",
              "      cursor: pointer;\n",
              "      display: none;\n",
              "      fill: #1967D2;\n",
              "      height: 32px;\n",
              "      padding: 0 0 0 0;\n",
              "      width: 32px;\n",
              "    }\n",
              "\n",
              "    .colab-df-convert:hover {\n",
              "      background-color: #E2EBFA;\n",
              "      box-shadow: 0px 1px 2px rgba(60, 64, 67, 0.3), 0px 1px 3px 1px rgba(60, 64, 67, 0.15);\n",
              "      fill: #174EA6;\n",
              "    }\n",
              "\n",
              "    [theme=dark] .colab-df-convert {\n",
              "      background-color: #3B4455;\n",
              "      fill: #D2E3FC;\n",
              "    }\n",
              "\n",
              "    [theme=dark] .colab-df-convert:hover {\n",
              "      background-color: #434B5C;\n",
              "      box-shadow: 0px 1px 3px 1px rgba(0, 0, 0, 0.15);\n",
              "      filter: drop-shadow(0px 1px 2px rgba(0, 0, 0, 0.3));\n",
              "      fill: #FFFFFF;\n",
              "    }\n",
              "  </style>\n",
              "\n",
              "      <script>\n",
              "        const buttonEl =\n",
              "          document.querySelector('#df-39f3e4e9-6d4c-4549-844d-8419fcfab270 button.colab-df-convert');\n",
              "        buttonEl.style.display =\n",
              "          google.colab.kernel.accessAllowed ? 'block' : 'none';\n",
              "\n",
              "        async function convertToInteractive(key) {\n",
              "          const element = document.querySelector('#df-39f3e4e9-6d4c-4549-844d-8419fcfab270');\n",
              "          const dataTable =\n",
              "            await google.colab.kernel.invokeFunction('convertToInteractive',\n",
              "                                                     [key], {});\n",
              "          if (!dataTable) return;\n",
              "\n",
              "          const docLinkHtml = 'Like what you see? Visit the ' +\n",
              "            '<a target=\"_blank\" href=https://colab.research.google.com/notebooks/data_table.ipynb>data table notebook</a>'\n",
              "            + ' to learn more about interactive tables.';\n",
              "          element.innerHTML = '';\n",
              "          dataTable['output_type'] = 'display_data';\n",
              "          await google.colab.output.renderOutput(dataTable, element);\n",
              "          const docLink = document.createElement('div');\n",
              "          docLink.innerHTML = docLinkHtml;\n",
              "          element.appendChild(docLink);\n",
              "        }\n",
              "      </script>\n",
              "    </div>\n",
              "  </div>\n",
              "  "
            ]
          },
          "metadata": {},
          "execution_count": 37
        }
      ],
      "source": [
        "recoms[10:20]"
      ]
    },
    {
      "cell_type": "markdown",
      "metadata": {
        "id": "mRp9Z3lIalmd"
      },
      "source": [
        "## Фанат Райана Гослинга\n",
        "В рекомендациях ни 1 фильма с Райаном гослингом. Но что-то схожее с жанром было рекомендовано."
      ]
    },
    {
      "cell_type": "code",
      "execution_count": 38,
      "metadata": {
        "id": "Eq6EqPhbalme",
        "colab": {
          "base_uri": "https://localhost:8080/",
          "height": 581
        },
        "outputId": "7c8affa3-b187-4215-de1e-c2bfb6d0d248"
      },
      "outputs": [
        {
          "output_type": "execute_result",
          "data": {
            "text/plain": [
              "          name           countries                               title  \\\n",
              "20  anime_tyan                 США              Ральф против Интернета   \n",
              "21  anime_tyan                 США                          Тайна Коко   \n",
              "22  anime_tyan                 США                          Зверополис   \n",
              "23  anime_tyan                 США                         Головоломка   \n",
              "24  anime_tyan                 США  Монстры на каникулах 3: Море зовёт   \n",
              "25  anime_tyan                 США                  Холодное сердце II   \n",
              "26  anime_tyan                 США                               Вверх   \n",
              "27  anime_tyan  Австралия, Бельгия                           100% волк   \n",
              "28  anime_tyan                 США                      Суперсемейка 2   \n",
              "29  anime_tyan                 США                   История игрушек 4   \n",
              "\n",
              "                                               genres  age_rating  \\\n",
              "20  мультфильм, приключения, фантастика, семейное,...         6.0   \n",
              "21                   мультфильм, фэнтези, приключения        12.0   \n",
              "22        приключения, мультфильм, детективы, комедии         6.0   \n",
              "23                    фантастика, мультфильм, комедии         6.0   \n",
              "24          мультфильм, фэнтези, приключения, комедии         6.0   \n",
              "25                   фэнтези, мультфильм, музыкальные         6.0   \n",
              "26            драмы, мультфильм, приключения, комедии         0.0   \n",
              "27  мультфильм, приключения, семейное, фэнтези, ко...         6.0   \n",
              "28                фантастика, мультфильм, приключения         6.0   \n",
              "29                       мультфильм, фэнтези, комедии         6.0   \n",
              "\n",
              "                                               actors  \\\n",
              "20  Джон Си Райли, Сара Силверман, Галь Гадот, Тар...   \n",
              "21  Энтони Гонсалес, Гаэль Гарсиа Берналь, Бенджам...   \n",
              "22  Джиннифер Гудвин, Джейсон Бейтман, Идрис Эльба...   \n",
              "23  Эми Полер, Филлис Смит, Ричард Кайнд, Билл Хей...   \n",
              "24  Энди Сэмберг, Селена Гомес, Кевин Джеймс, Стив...   \n",
              "25  Идина Мензел, Кристен Белл, Джонатан Грофф, Дж...   \n",
              "26  Эдвард Эснер, Кристофер Пламмер, Джордан Нагаи...   \n",
              "27  Илай Суинделлс, Самара Уивинг, Джай Кортни, Ру...   \n",
              "28  Крэйг Т. Нельсон, Холли Хантер, Сара Вауэлл, Х...   \n",
              "29  Том Хэнкс, Тим Аллен, Энни Поттс, Тони Хейл, К...   \n",
              "\n",
              "                                             keywords  \n",
              "20  видеоигра, мультфильм, продолжение, интернет, ...  \n",
              "21  Мексика, гитара, музыкант, скелет, музыка, заг...  \n",
              "22  аллегория, лев, бегемот, лиса, слон, овца, бел...  \n",
              "23  мечта, мультфильм, воображаемый друг, начальна...  \n",
              "24  третья часть, круизное судно, персонаж Дракула...  \n",
              "25  королева, магия, королевство, плотина, дух, же...  \n",
              "26  разница в возрасте, центральная и южная америк...  \n",
              "27  пудель, подростковая тревога, оборотень, приня...  \n",
              "28  семейная пара, продолжение, супергерой, дети, ...  \n",
              "29  игрушка, дружба, ковбой, история игрушек 4, , ...  "
            ],
            "text/html": [
              "\n",
              "  <div id=\"df-7c7d2e60-ea33-442b-bc6c-1864dc7785d5\">\n",
              "    <div class=\"colab-df-container\">\n",
              "      <div>\n",
              "<style scoped>\n",
              "    .dataframe tbody tr th:only-of-type {\n",
              "        vertical-align: middle;\n",
              "    }\n",
              "\n",
              "    .dataframe tbody tr th {\n",
              "        vertical-align: top;\n",
              "    }\n",
              "\n",
              "    .dataframe thead th {\n",
              "        text-align: right;\n",
              "    }\n",
              "</style>\n",
              "<table border=\"1\" class=\"dataframe\">\n",
              "  <thead>\n",
              "    <tr style=\"text-align: right;\">\n",
              "      <th></th>\n",
              "      <th>name</th>\n",
              "      <th>countries</th>\n",
              "      <th>title</th>\n",
              "      <th>genres</th>\n",
              "      <th>age_rating</th>\n",
              "      <th>actors</th>\n",
              "      <th>keywords</th>\n",
              "    </tr>\n",
              "  </thead>\n",
              "  <tbody>\n",
              "    <tr>\n",
              "      <th>20</th>\n",
              "      <td>anime_tyan</td>\n",
              "      <td>США</td>\n",
              "      <td>Ральф против Интернета</td>\n",
              "      <td>мультфильм, приключения, фантастика, семейное,...</td>\n",
              "      <td>6.0</td>\n",
              "      <td>Джон Си Райли, Сара Силверман, Галь Гадот, Тар...</td>\n",
              "      <td>видеоигра, мультфильм, продолжение, интернет, ...</td>\n",
              "    </tr>\n",
              "    <tr>\n",
              "      <th>21</th>\n",
              "      <td>anime_tyan</td>\n",
              "      <td>США</td>\n",
              "      <td>Тайна Коко</td>\n",
              "      <td>мультфильм, фэнтези, приключения</td>\n",
              "      <td>12.0</td>\n",
              "      <td>Энтони Гонсалес, Гаэль Гарсиа Берналь, Бенджам...</td>\n",
              "      <td>Мексика, гитара, музыкант, скелет, музыка, заг...</td>\n",
              "    </tr>\n",
              "    <tr>\n",
              "      <th>22</th>\n",
              "      <td>anime_tyan</td>\n",
              "      <td>США</td>\n",
              "      <td>Зверополис</td>\n",
              "      <td>приключения, мультфильм, детективы, комедии</td>\n",
              "      <td>6.0</td>\n",
              "      <td>Джиннифер Гудвин, Джейсон Бейтман, Идрис Эльба...</td>\n",
              "      <td>аллегория, лев, бегемот, лиса, слон, овца, бел...</td>\n",
              "    </tr>\n",
              "    <tr>\n",
              "      <th>23</th>\n",
              "      <td>anime_tyan</td>\n",
              "      <td>США</td>\n",
              "      <td>Головоломка</td>\n",
              "      <td>фантастика, мультфильм, комедии</td>\n",
              "      <td>6.0</td>\n",
              "      <td>Эми Полер, Филлис Смит, Ричард Кайнд, Билл Хей...</td>\n",
              "      <td>мечта, мультфильм, воображаемый друг, начальна...</td>\n",
              "    </tr>\n",
              "    <tr>\n",
              "      <th>24</th>\n",
              "      <td>anime_tyan</td>\n",
              "      <td>США</td>\n",
              "      <td>Монстры на каникулах 3: Море зовёт</td>\n",
              "      <td>мультфильм, фэнтези, приключения, комедии</td>\n",
              "      <td>6.0</td>\n",
              "      <td>Энди Сэмберг, Селена Гомес, Кевин Джеймс, Стив...</td>\n",
              "      <td>третья часть, круизное судно, персонаж Дракула...</td>\n",
              "    </tr>\n",
              "    <tr>\n",
              "      <th>25</th>\n",
              "      <td>anime_tyan</td>\n",
              "      <td>США</td>\n",
              "      <td>Холодное сердце II</td>\n",
              "      <td>фэнтези, мультфильм, музыкальные</td>\n",
              "      <td>6.0</td>\n",
              "      <td>Идина Мензел, Кристен Белл, Джонатан Грофф, Дж...</td>\n",
              "      <td>королева, магия, королевство, плотина, дух, же...</td>\n",
              "    </tr>\n",
              "    <tr>\n",
              "      <th>26</th>\n",
              "      <td>anime_tyan</td>\n",
              "      <td>США</td>\n",
              "      <td>Вверх</td>\n",
              "      <td>драмы, мультфильм, приключения, комедии</td>\n",
              "      <td>0.0</td>\n",
              "      <td>Эдвард Эснер, Кристофер Пламмер, Джордан Нагаи...</td>\n",
              "      <td>разница в возрасте, центральная и южная америк...</td>\n",
              "    </tr>\n",
              "    <tr>\n",
              "      <th>27</th>\n",
              "      <td>anime_tyan</td>\n",
              "      <td>Австралия, Бельгия</td>\n",
              "      <td>100% волк</td>\n",
              "      <td>мультфильм, приключения, семейное, фэнтези, ко...</td>\n",
              "      <td>6.0</td>\n",
              "      <td>Илай Суинделлс, Самара Уивинг, Джай Кортни, Ру...</td>\n",
              "      <td>пудель, подростковая тревога, оборотень, приня...</td>\n",
              "    </tr>\n",
              "    <tr>\n",
              "      <th>28</th>\n",
              "      <td>anime_tyan</td>\n",
              "      <td>США</td>\n",
              "      <td>Суперсемейка 2</td>\n",
              "      <td>фантастика, мультфильм, приключения</td>\n",
              "      <td>6.0</td>\n",
              "      <td>Крэйг Т. Нельсон, Холли Хантер, Сара Вауэлл, Х...</td>\n",
              "      <td>семейная пара, продолжение, супергерой, дети, ...</td>\n",
              "    </tr>\n",
              "    <tr>\n",
              "      <th>29</th>\n",
              "      <td>anime_tyan</td>\n",
              "      <td>США</td>\n",
              "      <td>История игрушек 4</td>\n",
              "      <td>мультфильм, фэнтези, комедии</td>\n",
              "      <td>6.0</td>\n",
              "      <td>Том Хэнкс, Тим Аллен, Энни Поттс, Тони Хейл, К...</td>\n",
              "      <td>игрушка, дружба, ковбой, история игрушек 4, , ...</td>\n",
              "    </tr>\n",
              "  </tbody>\n",
              "</table>\n",
              "</div>\n",
              "      <button class=\"colab-df-convert\" onclick=\"convertToInteractive('df-7c7d2e60-ea33-442b-bc6c-1864dc7785d5')\"\n",
              "              title=\"Convert this dataframe to an interactive table.\"\n",
              "              style=\"display:none;\">\n",
              "        \n",
              "  <svg xmlns=\"http://www.w3.org/2000/svg\" height=\"24px\"viewBox=\"0 0 24 24\"\n",
              "       width=\"24px\">\n",
              "    <path d=\"M0 0h24v24H0V0z\" fill=\"none\"/>\n",
              "    <path d=\"M18.56 5.44l.94 2.06.94-2.06 2.06-.94-2.06-.94-.94-2.06-.94 2.06-2.06.94zm-11 1L8.5 8.5l.94-2.06 2.06-.94-2.06-.94L8.5 2.5l-.94 2.06-2.06.94zm10 10l.94 2.06.94-2.06 2.06-.94-2.06-.94-.94-2.06-.94 2.06-2.06.94z\"/><path d=\"M17.41 7.96l-1.37-1.37c-.4-.4-.92-.59-1.43-.59-.52 0-1.04.2-1.43.59L10.3 9.45l-7.72 7.72c-.78.78-.78 2.05 0 2.83L4 21.41c.39.39.9.59 1.41.59.51 0 1.02-.2 1.41-.59l7.78-7.78 2.81-2.81c.8-.78.8-2.07 0-2.86zM5.41 20L4 18.59l7.72-7.72 1.47 1.35L5.41 20z\"/>\n",
              "  </svg>\n",
              "      </button>\n",
              "      \n",
              "  <style>\n",
              "    .colab-df-container {\n",
              "      display:flex;\n",
              "      flex-wrap:wrap;\n",
              "      gap: 12px;\n",
              "    }\n",
              "\n",
              "    .colab-df-convert {\n",
              "      background-color: #E8F0FE;\n",
              "      border: none;\n",
              "      border-radius: 50%;\n",
              "      cursor: pointer;\n",
              "      display: none;\n",
              "      fill: #1967D2;\n",
              "      height: 32px;\n",
              "      padding: 0 0 0 0;\n",
              "      width: 32px;\n",
              "    }\n",
              "\n",
              "    .colab-df-convert:hover {\n",
              "      background-color: #E2EBFA;\n",
              "      box-shadow: 0px 1px 2px rgba(60, 64, 67, 0.3), 0px 1px 3px 1px rgba(60, 64, 67, 0.15);\n",
              "      fill: #174EA6;\n",
              "    }\n",
              "\n",
              "    [theme=dark] .colab-df-convert {\n",
              "      background-color: #3B4455;\n",
              "      fill: #D2E3FC;\n",
              "    }\n",
              "\n",
              "    [theme=dark] .colab-df-convert:hover {\n",
              "      background-color: #434B5C;\n",
              "      box-shadow: 0px 1px 3px 1px rgba(0, 0, 0, 0.15);\n",
              "      filter: drop-shadow(0px 1px 2px rgba(0, 0, 0, 0.3));\n",
              "      fill: #FFFFFF;\n",
              "    }\n",
              "  </style>\n",
              "\n",
              "      <script>\n",
              "        const buttonEl =\n",
              "          document.querySelector('#df-7c7d2e60-ea33-442b-bc6c-1864dc7785d5 button.colab-df-convert');\n",
              "        buttonEl.style.display =\n",
              "          google.colab.kernel.accessAllowed ? 'block' : 'none';\n",
              "\n",
              "        async function convertToInteractive(key) {\n",
              "          const element = document.querySelector('#df-7c7d2e60-ea33-442b-bc6c-1864dc7785d5');\n",
              "          const dataTable =\n",
              "            await google.colab.kernel.invokeFunction('convertToInteractive',\n",
              "                                                     [key], {});\n",
              "          if (!dataTable) return;\n",
              "\n",
              "          const docLinkHtml = 'Like what you see? Visit the ' +\n",
              "            '<a target=\"_blank\" href=https://colab.research.google.com/notebooks/data_table.ipynb>data table notebook</a>'\n",
              "            + ' to learn more about interactive tables.';\n",
              "          element.innerHTML = '';\n",
              "          dataTable['output_type'] = 'display_data';\n",
              "          await google.colab.output.renderOutput(dataTable, element);\n",
              "          const docLink = document.createElement('div');\n",
              "          docLink.innerHTML = docLinkHtml;\n",
              "          element.appendChild(docLink);\n",
              "        }\n",
              "      </script>\n",
              "    </div>\n",
              "  </div>\n",
              "  "
            ]
          },
          "metadata": {},
          "execution_count": 38
        }
      ],
      "source": [
        "recoms[20:30]"
      ]
    },
    {
      "cell_type": "markdown",
      "source": [],
      "metadata": {
        "id": "4j7RB8Oz2mx5"
      }
    }
  ],
  "metadata": {
    "kernelspec": {
      "display_name": "Python 3.8.15 ('recsys')",
      "language": "python",
      "name": "python3"
    },
    "language_info": {
      "codemirror_mode": {
        "name": "ipython",
        "version": 3
      },
      "file_extension": ".py",
      "mimetype": "text/x-python",
      "name": "python",
      "nbconvert_exporter": "python",
      "pygments_lexer": "ipython3",
      "version": "3.8.15"
    },
    "vscode": {
      "interpreter": {
        "hash": "852d72309fcd915d879bb97ef099e5da3b2b556faafd877ee9c0f5dca92e6019"
      }
    },
    "colab": {
      "provenance": [],
      "gpuType": "T4"
    },
    "accelerator": "GPU",
    "gpuClass": "standard"
  },
  "nbformat": 4,
  "nbformat_minor": 0
}