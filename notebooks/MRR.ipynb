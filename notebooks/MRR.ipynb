{
  "nbformat": 4,
  "nbformat_minor": 0,
  "metadata": {
    "colab": {
      "provenance": []
    },
    "kernelspec": {
      "name": "python3",
      "display_name": "Python 3"
    },
    "language_info": {
      "name": "python"
    },
    "widgets": {
      "application/vnd.jupyter.widget-state+json": {
        "f5fd0e1bd6554f5899ac4fe518490c51": {
          "model_module": "@jupyter-widgets/controls",
          "model_name": "HBoxModel",
          "model_module_version": "1.5.0",
          "state": {
            "_dom_classes": [],
            "_model_module": "@jupyter-widgets/controls",
            "_model_module_version": "1.5.0",
            "_model_name": "HBoxModel",
            "_view_count": null,
            "_view_module": "@jupyter-widgets/controls",
            "_view_module_version": "1.5.0",
            "_view_name": "HBoxView",
            "box_style": "",
            "children": [
              "IPY_MODEL_f773c22189be4f28b0c3341194430b13",
              "IPY_MODEL_e20ab596fb9a43d08721b93403861898",
              "IPY_MODEL_fb8f98ea1d024ddd8c63041cf0fd162d"
            ],
            "layout": "IPY_MODEL_1884eb4fa77a4e13a0f01aaf4ac48b44"
          }
        },
        "f773c22189be4f28b0c3341194430b13": {
          "model_module": "@jupyter-widgets/controls",
          "model_name": "HTMLModel",
          "model_module_version": "1.5.0",
          "state": {
            "_dom_classes": [],
            "_model_module": "@jupyter-widgets/controls",
            "_model_module_version": "1.5.0",
            "_model_name": "HTMLModel",
            "_view_count": null,
            "_view_module": "@jupyter-widgets/controls",
            "_view_module_version": "1.5.0",
            "_view_name": "HTMLView",
            "description": "",
            "description_tooltip": null,
            "layout": "IPY_MODEL_1b950e08d8d2457ea12534c047cd3bf4",
            "placeholder": "​",
            "style": "IPY_MODEL_063fde3d91c249f8b76f267d541a3d84",
            "value": "100%"
          }
        },
        "e20ab596fb9a43d08721b93403861898": {
          "model_module": "@jupyter-widgets/controls",
          "model_name": "FloatProgressModel",
          "model_module_version": "1.5.0",
          "state": {
            "_dom_classes": [],
            "_model_module": "@jupyter-widgets/controls",
            "_model_module_version": "1.5.0",
            "_model_name": "FloatProgressModel",
            "_view_count": null,
            "_view_module": "@jupyter-widgets/controls",
            "_view_module_version": "1.5.0",
            "_view_name": "ProgressView",
            "bar_style": "success",
            "description": "",
            "description_tooltip": null,
            "layout": "IPY_MODEL_15d8e8d785714a17b15f4579bb0f7bc2",
            "max": 3,
            "min": 0,
            "orientation": "horizontal",
            "style": "IPY_MODEL_ef899aad2d85448ab39f05ba8dae3c3e",
            "value": 3
          }
        },
        "fb8f98ea1d024ddd8c63041cf0fd162d": {
          "model_module": "@jupyter-widgets/controls",
          "model_name": "HTMLModel",
          "model_module_version": "1.5.0",
          "state": {
            "_dom_classes": [],
            "_model_module": "@jupyter-widgets/controls",
            "_model_module_version": "1.5.0",
            "_model_name": "HTMLModel",
            "_view_count": null,
            "_view_module": "@jupyter-widgets/controls",
            "_view_module_version": "1.5.0",
            "_view_name": "HTMLView",
            "description": "",
            "description_tooltip": null,
            "layout": "IPY_MODEL_3de126710f90458cbae97b6fdb420983",
            "placeholder": "​",
            "style": "IPY_MODEL_43265b5130054eb58e81a9958280ad15",
            "value": " 3/3 [15:49&lt;00:00, 320.51s/it]"
          }
        },
        "1884eb4fa77a4e13a0f01aaf4ac48b44": {
          "model_module": "@jupyter-widgets/base",
          "model_name": "LayoutModel",
          "model_module_version": "1.2.0",
          "state": {
            "_model_module": "@jupyter-widgets/base",
            "_model_module_version": "1.2.0",
            "_model_name": "LayoutModel",
            "_view_count": null,
            "_view_module": "@jupyter-widgets/base",
            "_view_module_version": "1.2.0",
            "_view_name": "LayoutView",
            "align_content": null,
            "align_items": null,
            "align_self": null,
            "border": null,
            "bottom": null,
            "display": null,
            "flex": null,
            "flex_flow": null,
            "grid_area": null,
            "grid_auto_columns": null,
            "grid_auto_flow": null,
            "grid_auto_rows": null,
            "grid_column": null,
            "grid_gap": null,
            "grid_row": null,
            "grid_template_areas": null,
            "grid_template_columns": null,
            "grid_template_rows": null,
            "height": null,
            "justify_content": null,
            "justify_items": null,
            "left": null,
            "margin": null,
            "max_height": null,
            "max_width": null,
            "min_height": null,
            "min_width": null,
            "object_fit": null,
            "object_position": null,
            "order": null,
            "overflow": null,
            "overflow_x": null,
            "overflow_y": null,
            "padding": null,
            "right": null,
            "top": null,
            "visibility": null,
            "width": null
          }
        },
        "1b950e08d8d2457ea12534c047cd3bf4": {
          "model_module": "@jupyter-widgets/base",
          "model_name": "LayoutModel",
          "model_module_version": "1.2.0",
          "state": {
            "_model_module": "@jupyter-widgets/base",
            "_model_module_version": "1.2.0",
            "_model_name": "LayoutModel",
            "_view_count": null,
            "_view_module": "@jupyter-widgets/base",
            "_view_module_version": "1.2.0",
            "_view_name": "LayoutView",
            "align_content": null,
            "align_items": null,
            "align_self": null,
            "border": null,
            "bottom": null,
            "display": null,
            "flex": null,
            "flex_flow": null,
            "grid_area": null,
            "grid_auto_columns": null,
            "grid_auto_flow": null,
            "grid_auto_rows": null,
            "grid_column": null,
            "grid_gap": null,
            "grid_row": null,
            "grid_template_areas": null,
            "grid_template_columns": null,
            "grid_template_rows": null,
            "height": null,
            "justify_content": null,
            "justify_items": null,
            "left": null,
            "margin": null,
            "max_height": null,
            "max_width": null,
            "min_height": null,
            "min_width": null,
            "object_fit": null,
            "object_position": null,
            "order": null,
            "overflow": null,
            "overflow_x": null,
            "overflow_y": null,
            "padding": null,
            "right": null,
            "top": null,
            "visibility": null,
            "width": null
          }
        },
        "063fde3d91c249f8b76f267d541a3d84": {
          "model_module": "@jupyter-widgets/controls",
          "model_name": "DescriptionStyleModel",
          "model_module_version": "1.5.0",
          "state": {
            "_model_module": "@jupyter-widgets/controls",
            "_model_module_version": "1.5.0",
            "_model_name": "DescriptionStyleModel",
            "_view_count": null,
            "_view_module": "@jupyter-widgets/base",
            "_view_module_version": "1.2.0",
            "_view_name": "StyleView",
            "description_width": ""
          }
        },
        "15d8e8d785714a17b15f4579bb0f7bc2": {
          "model_module": "@jupyter-widgets/base",
          "model_name": "LayoutModel",
          "model_module_version": "1.2.0",
          "state": {
            "_model_module": "@jupyter-widgets/base",
            "_model_module_version": "1.2.0",
            "_model_name": "LayoutModel",
            "_view_count": null,
            "_view_module": "@jupyter-widgets/base",
            "_view_module_version": "1.2.0",
            "_view_name": "LayoutView",
            "align_content": null,
            "align_items": null,
            "align_self": null,
            "border": null,
            "bottom": null,
            "display": null,
            "flex": null,
            "flex_flow": null,
            "grid_area": null,
            "grid_auto_columns": null,
            "grid_auto_flow": null,
            "grid_auto_rows": null,
            "grid_column": null,
            "grid_gap": null,
            "grid_row": null,
            "grid_template_areas": null,
            "grid_template_columns": null,
            "grid_template_rows": null,
            "height": null,
            "justify_content": null,
            "justify_items": null,
            "left": null,
            "margin": null,
            "max_height": null,
            "max_width": null,
            "min_height": null,
            "min_width": null,
            "object_fit": null,
            "object_position": null,
            "order": null,
            "overflow": null,
            "overflow_x": null,
            "overflow_y": null,
            "padding": null,
            "right": null,
            "top": null,
            "visibility": null,
            "width": null
          }
        },
        "ef899aad2d85448ab39f05ba8dae3c3e": {
          "model_module": "@jupyter-widgets/controls",
          "model_name": "ProgressStyleModel",
          "model_module_version": "1.5.0",
          "state": {
            "_model_module": "@jupyter-widgets/controls",
            "_model_module_version": "1.5.0",
            "_model_name": "ProgressStyleModel",
            "_view_count": null,
            "_view_module": "@jupyter-widgets/base",
            "_view_module_version": "1.2.0",
            "_view_name": "StyleView",
            "bar_color": null,
            "description_width": ""
          }
        },
        "3de126710f90458cbae97b6fdb420983": {
          "model_module": "@jupyter-widgets/base",
          "model_name": "LayoutModel",
          "model_module_version": "1.2.0",
          "state": {
            "_model_module": "@jupyter-widgets/base",
            "_model_module_version": "1.2.0",
            "_model_name": "LayoutModel",
            "_view_count": null,
            "_view_module": "@jupyter-widgets/base",
            "_view_module_version": "1.2.0",
            "_view_name": "LayoutView",
            "align_content": null,
            "align_items": null,
            "align_self": null,
            "border": null,
            "bottom": null,
            "display": null,
            "flex": null,
            "flex_flow": null,
            "grid_area": null,
            "grid_auto_columns": null,
            "grid_auto_flow": null,
            "grid_auto_rows": null,
            "grid_column": null,
            "grid_gap": null,
            "grid_row": null,
            "grid_template_areas": null,
            "grid_template_columns": null,
            "grid_template_rows": null,
            "height": null,
            "justify_content": null,
            "justify_items": null,
            "left": null,
            "margin": null,
            "max_height": null,
            "max_width": null,
            "min_height": null,
            "min_width": null,
            "object_fit": null,
            "object_position": null,
            "order": null,
            "overflow": null,
            "overflow_x": null,
            "overflow_y": null,
            "padding": null,
            "right": null,
            "top": null,
            "visibility": null,
            "width": null
          }
        },
        "43265b5130054eb58e81a9958280ad15": {
          "model_module": "@jupyter-widgets/controls",
          "model_name": "DescriptionStyleModel",
          "model_module_version": "1.5.0",
          "state": {
            "_model_module": "@jupyter-widgets/controls",
            "_model_module_version": "1.5.0",
            "_model_name": "DescriptionStyleModel",
            "_view_count": null,
            "_view_module": "@jupyter-widgets/base",
            "_view_module_version": "1.2.0",
            "_view_name": "StyleView",
            "description_width": ""
          }
        },
        "6ef92714e3714b6bbd6dfa852b2a97dd": {
          "model_module": "@jupyter-widgets/controls",
          "model_name": "HBoxModel",
          "model_module_version": "1.5.0",
          "state": {
            "_dom_classes": [],
            "_model_module": "@jupyter-widgets/controls",
            "_model_module_version": "1.5.0",
            "_model_name": "HBoxModel",
            "_view_count": null,
            "_view_module": "@jupyter-widgets/controls",
            "_view_module_version": "1.5.0",
            "_view_name": "HBoxView",
            "box_style": "",
            "children": [
              "IPY_MODEL_ee20507db5054ef4993bb35872573b40",
              "IPY_MODEL_3ac997bda0674d3d9a7080de048d9c09",
              "IPY_MODEL_787fedc5397e4d7a9df5325f306c9243"
            ],
            "layout": "IPY_MODEL_1ea7cd93c51241658b8c36159d3b2e48"
          }
        },
        "ee20507db5054ef4993bb35872573b40": {
          "model_module": "@jupyter-widgets/controls",
          "model_name": "HTMLModel",
          "model_module_version": "1.5.0",
          "state": {
            "_dom_classes": [],
            "_model_module": "@jupyter-widgets/controls",
            "_model_module_version": "1.5.0",
            "_model_name": "HTMLModel",
            "_view_count": null,
            "_view_module": "@jupyter-widgets/controls",
            "_view_module_version": "1.5.0",
            "_view_name": "HTMLView",
            "description": "",
            "description_tooltip": null,
            "layout": "IPY_MODEL_2daea75a7b4547dea276cd99ad1da139",
            "placeholder": "​",
            "style": "IPY_MODEL_a6251dfc3d784d38aa5330b417130d4c",
            "value": "100%"
          }
        },
        "3ac997bda0674d3d9a7080de048d9c09": {
          "model_module": "@jupyter-widgets/controls",
          "model_name": "FloatProgressModel",
          "model_module_version": "1.5.0",
          "state": {
            "_dom_classes": [],
            "_model_module": "@jupyter-widgets/controls",
            "_model_module_version": "1.5.0",
            "_model_name": "FloatProgressModel",
            "_view_count": null,
            "_view_module": "@jupyter-widgets/controls",
            "_view_module_version": "1.5.0",
            "_view_name": "ProgressView",
            "bar_style": "success",
            "description": "",
            "description_tooltip": null,
            "layout": "IPY_MODEL_bcc10ccc3ae04afb880c1f7f3c7639af",
            "max": 4,
            "min": 0,
            "orientation": "horizontal",
            "style": "IPY_MODEL_d5232351a48c460e964a78f6e4a252f5",
            "value": 4
          }
        },
        "787fedc5397e4d7a9df5325f306c9243": {
          "model_module": "@jupyter-widgets/controls",
          "model_name": "HTMLModel",
          "model_module_version": "1.5.0",
          "state": {
            "_dom_classes": [],
            "_model_module": "@jupyter-widgets/controls",
            "_model_module_version": "1.5.0",
            "_model_name": "HTMLModel",
            "_view_count": null,
            "_view_module": "@jupyter-widgets/controls",
            "_view_module_version": "1.5.0",
            "_view_name": "HTMLView",
            "description": "",
            "description_tooltip": null,
            "layout": "IPY_MODEL_5bcebc2839e5482aa8e06fdc896c5b89",
            "placeholder": "​",
            "style": "IPY_MODEL_64a7e7c89e1d409285a473c56efbb63c",
            "value": " 4/4 [04:59&lt;00:00, 115.36s/it]"
          }
        },
        "1ea7cd93c51241658b8c36159d3b2e48": {
          "model_module": "@jupyter-widgets/base",
          "model_name": "LayoutModel",
          "model_module_version": "1.2.0",
          "state": {
            "_model_module": "@jupyter-widgets/base",
            "_model_module_version": "1.2.0",
            "_model_name": "LayoutModel",
            "_view_count": null,
            "_view_module": "@jupyter-widgets/base",
            "_view_module_version": "1.2.0",
            "_view_name": "LayoutView",
            "align_content": null,
            "align_items": null,
            "align_self": null,
            "border": null,
            "bottom": null,
            "display": null,
            "flex": null,
            "flex_flow": null,
            "grid_area": null,
            "grid_auto_columns": null,
            "grid_auto_flow": null,
            "grid_auto_rows": null,
            "grid_column": null,
            "grid_gap": null,
            "grid_row": null,
            "grid_template_areas": null,
            "grid_template_columns": null,
            "grid_template_rows": null,
            "height": null,
            "justify_content": null,
            "justify_items": null,
            "left": null,
            "margin": null,
            "max_height": null,
            "max_width": null,
            "min_height": null,
            "min_width": null,
            "object_fit": null,
            "object_position": null,
            "order": null,
            "overflow": null,
            "overflow_x": null,
            "overflow_y": null,
            "padding": null,
            "right": null,
            "top": null,
            "visibility": null,
            "width": null
          }
        },
        "2daea75a7b4547dea276cd99ad1da139": {
          "model_module": "@jupyter-widgets/base",
          "model_name": "LayoutModel",
          "model_module_version": "1.2.0",
          "state": {
            "_model_module": "@jupyter-widgets/base",
            "_model_module_version": "1.2.0",
            "_model_name": "LayoutModel",
            "_view_count": null,
            "_view_module": "@jupyter-widgets/base",
            "_view_module_version": "1.2.0",
            "_view_name": "LayoutView",
            "align_content": null,
            "align_items": null,
            "align_self": null,
            "border": null,
            "bottom": null,
            "display": null,
            "flex": null,
            "flex_flow": null,
            "grid_area": null,
            "grid_auto_columns": null,
            "grid_auto_flow": null,
            "grid_auto_rows": null,
            "grid_column": null,
            "grid_gap": null,
            "grid_row": null,
            "grid_template_areas": null,
            "grid_template_columns": null,
            "grid_template_rows": null,
            "height": null,
            "justify_content": null,
            "justify_items": null,
            "left": null,
            "margin": null,
            "max_height": null,
            "max_width": null,
            "min_height": null,
            "min_width": null,
            "object_fit": null,
            "object_position": null,
            "order": null,
            "overflow": null,
            "overflow_x": null,
            "overflow_y": null,
            "padding": null,
            "right": null,
            "top": null,
            "visibility": null,
            "width": null
          }
        },
        "a6251dfc3d784d38aa5330b417130d4c": {
          "model_module": "@jupyter-widgets/controls",
          "model_name": "DescriptionStyleModel",
          "model_module_version": "1.5.0",
          "state": {
            "_model_module": "@jupyter-widgets/controls",
            "_model_module_version": "1.5.0",
            "_model_name": "DescriptionStyleModel",
            "_view_count": null,
            "_view_module": "@jupyter-widgets/base",
            "_view_module_version": "1.2.0",
            "_view_name": "StyleView",
            "description_width": ""
          }
        },
        "bcc10ccc3ae04afb880c1f7f3c7639af": {
          "model_module": "@jupyter-widgets/base",
          "model_name": "LayoutModel",
          "model_module_version": "1.2.0",
          "state": {
            "_model_module": "@jupyter-widgets/base",
            "_model_module_version": "1.2.0",
            "_model_name": "LayoutModel",
            "_view_count": null,
            "_view_module": "@jupyter-widgets/base",
            "_view_module_version": "1.2.0",
            "_view_name": "LayoutView",
            "align_content": null,
            "align_items": null,
            "align_self": null,
            "border": null,
            "bottom": null,
            "display": null,
            "flex": null,
            "flex_flow": null,
            "grid_area": null,
            "grid_auto_columns": null,
            "grid_auto_flow": null,
            "grid_auto_rows": null,
            "grid_column": null,
            "grid_gap": null,
            "grid_row": null,
            "grid_template_areas": null,
            "grid_template_columns": null,
            "grid_template_rows": null,
            "height": null,
            "justify_content": null,
            "justify_items": null,
            "left": null,
            "margin": null,
            "max_height": null,
            "max_width": null,
            "min_height": null,
            "min_width": null,
            "object_fit": null,
            "object_position": null,
            "order": null,
            "overflow": null,
            "overflow_x": null,
            "overflow_y": null,
            "padding": null,
            "right": null,
            "top": null,
            "visibility": null,
            "width": null
          }
        },
        "d5232351a48c460e964a78f6e4a252f5": {
          "model_module": "@jupyter-widgets/controls",
          "model_name": "ProgressStyleModel",
          "model_module_version": "1.5.0",
          "state": {
            "_model_module": "@jupyter-widgets/controls",
            "_model_module_version": "1.5.0",
            "_model_name": "ProgressStyleModel",
            "_view_count": null,
            "_view_module": "@jupyter-widgets/base",
            "_view_module_version": "1.2.0",
            "_view_name": "StyleView",
            "bar_color": null,
            "description_width": ""
          }
        },
        "5bcebc2839e5482aa8e06fdc896c5b89": {
          "model_module": "@jupyter-widgets/base",
          "model_name": "LayoutModel",
          "model_module_version": "1.2.0",
          "state": {
            "_model_module": "@jupyter-widgets/base",
            "_model_module_version": "1.2.0",
            "_model_name": "LayoutModel",
            "_view_count": null,
            "_view_module": "@jupyter-widgets/base",
            "_view_module_version": "1.2.0",
            "_view_name": "LayoutView",
            "align_content": null,
            "align_items": null,
            "align_self": null,
            "border": null,
            "bottom": null,
            "display": null,
            "flex": null,
            "flex_flow": null,
            "grid_area": null,
            "grid_auto_columns": null,
            "grid_auto_flow": null,
            "grid_auto_rows": null,
            "grid_column": null,
            "grid_gap": null,
            "grid_row": null,
            "grid_template_areas": null,
            "grid_template_columns": null,
            "grid_template_rows": null,
            "height": null,
            "justify_content": null,
            "justify_items": null,
            "left": null,
            "margin": null,
            "max_height": null,
            "max_width": null,
            "min_height": null,
            "min_width": null,
            "object_fit": null,
            "object_position": null,
            "order": null,
            "overflow": null,
            "overflow_x": null,
            "overflow_y": null,
            "padding": null,
            "right": null,
            "top": null,
            "visibility": null,
            "width": null
          }
        },
        "64a7e7c89e1d409285a473c56efbb63c": {
          "model_module": "@jupyter-widgets/controls",
          "model_name": "DescriptionStyleModel",
          "model_module_version": "1.5.0",
          "state": {
            "_model_module": "@jupyter-widgets/controls",
            "_model_module_version": "1.5.0",
            "_model_name": "DescriptionStyleModel",
            "_view_count": null,
            "_view_module": "@jupyter-widgets/base",
            "_view_module_version": "1.2.0",
            "_view_name": "StyleView",
            "description_width": ""
          }
        },
        "6de9c492126b4f6c8e959a2420b6e137": {
          "model_module": "@jupyter-widgets/controls",
          "model_name": "HBoxModel",
          "model_module_version": "1.5.0",
          "state": {
            "_dom_classes": [],
            "_model_module": "@jupyter-widgets/controls",
            "_model_module_version": "1.5.0",
            "_model_name": "HBoxModel",
            "_view_count": null,
            "_view_module": "@jupyter-widgets/controls",
            "_view_module_version": "1.5.0",
            "_view_name": "HBoxView",
            "box_style": "",
            "children": [
              "IPY_MODEL_6d63739d7fe14ae7be628124a8ff976d",
              "IPY_MODEL_17c3b38db63f495290dd8ca4eb41cdaf",
              "IPY_MODEL_47860a3392334a9682dd841b484d5761"
            ],
            "layout": "IPY_MODEL_bf4511515bbe4452a934c30c91c069da"
          }
        },
        "6d63739d7fe14ae7be628124a8ff976d": {
          "model_module": "@jupyter-widgets/controls",
          "model_name": "HTMLModel",
          "model_module_version": "1.5.0",
          "state": {
            "_dom_classes": [],
            "_model_module": "@jupyter-widgets/controls",
            "_model_module_version": "1.5.0",
            "_model_name": "HTMLModel",
            "_view_count": null,
            "_view_module": "@jupyter-widgets/controls",
            "_view_module_version": "1.5.0",
            "_view_name": "HTMLView",
            "description": "",
            "description_tooltip": null,
            "layout": "IPY_MODEL_8f6a463a368547c0a8243c63a6f9d6c6",
            "placeholder": "​",
            "style": "IPY_MODEL_6229c8e9830b49e5ba7eccbc03d05c4f",
            "value": "100%"
          }
        },
        "17c3b38db63f495290dd8ca4eb41cdaf": {
          "model_module": "@jupyter-widgets/controls",
          "model_name": "FloatProgressModel",
          "model_module_version": "1.5.0",
          "state": {
            "_dom_classes": [],
            "_model_module": "@jupyter-widgets/controls",
            "_model_module_version": "1.5.0",
            "_model_name": "FloatProgressModel",
            "_view_count": null,
            "_view_module": "@jupyter-widgets/controls",
            "_view_module_version": "1.5.0",
            "_view_name": "ProgressView",
            "bar_style": "success",
            "description": "",
            "description_tooltip": null,
            "layout": "IPY_MODEL_87f2dc3715db4568a1d4731c3a0fbbb2",
            "max": 4,
            "min": 0,
            "orientation": "horizontal",
            "style": "IPY_MODEL_dbab8e50bc554ef0920fa32e6e9cda3a",
            "value": 4
          }
        },
        "47860a3392334a9682dd841b484d5761": {
          "model_module": "@jupyter-widgets/controls",
          "model_name": "HTMLModel",
          "model_module_version": "1.5.0",
          "state": {
            "_dom_classes": [],
            "_model_module": "@jupyter-widgets/controls",
            "_model_module_version": "1.5.0",
            "_model_name": "HTMLModel",
            "_view_count": null,
            "_view_module": "@jupyter-widgets/controls",
            "_view_module_version": "1.5.0",
            "_view_name": "HTMLView",
            "description": "",
            "description_tooltip": null,
            "layout": "IPY_MODEL_84deac5b939b4843b5b6db9c572875c1",
            "placeholder": "​",
            "style": "IPY_MODEL_9ed92dca8b4f48039940d043e397ea52",
            "value": " 4/4 [05:15&lt;00:00, 123.53s/it]"
          }
        },
        "bf4511515bbe4452a934c30c91c069da": {
          "model_module": "@jupyter-widgets/base",
          "model_name": "LayoutModel",
          "model_module_version": "1.2.0",
          "state": {
            "_model_module": "@jupyter-widgets/base",
            "_model_module_version": "1.2.0",
            "_model_name": "LayoutModel",
            "_view_count": null,
            "_view_module": "@jupyter-widgets/base",
            "_view_module_version": "1.2.0",
            "_view_name": "LayoutView",
            "align_content": null,
            "align_items": null,
            "align_self": null,
            "border": null,
            "bottom": null,
            "display": null,
            "flex": null,
            "flex_flow": null,
            "grid_area": null,
            "grid_auto_columns": null,
            "grid_auto_flow": null,
            "grid_auto_rows": null,
            "grid_column": null,
            "grid_gap": null,
            "grid_row": null,
            "grid_template_areas": null,
            "grid_template_columns": null,
            "grid_template_rows": null,
            "height": null,
            "justify_content": null,
            "justify_items": null,
            "left": null,
            "margin": null,
            "max_height": null,
            "max_width": null,
            "min_height": null,
            "min_width": null,
            "object_fit": null,
            "object_position": null,
            "order": null,
            "overflow": null,
            "overflow_x": null,
            "overflow_y": null,
            "padding": null,
            "right": null,
            "top": null,
            "visibility": null,
            "width": null
          }
        },
        "8f6a463a368547c0a8243c63a6f9d6c6": {
          "model_module": "@jupyter-widgets/base",
          "model_name": "LayoutModel",
          "model_module_version": "1.2.0",
          "state": {
            "_model_module": "@jupyter-widgets/base",
            "_model_module_version": "1.2.0",
            "_model_name": "LayoutModel",
            "_view_count": null,
            "_view_module": "@jupyter-widgets/base",
            "_view_module_version": "1.2.0",
            "_view_name": "LayoutView",
            "align_content": null,
            "align_items": null,
            "align_self": null,
            "border": null,
            "bottom": null,
            "display": null,
            "flex": null,
            "flex_flow": null,
            "grid_area": null,
            "grid_auto_columns": null,
            "grid_auto_flow": null,
            "grid_auto_rows": null,
            "grid_column": null,
            "grid_gap": null,
            "grid_row": null,
            "grid_template_areas": null,
            "grid_template_columns": null,
            "grid_template_rows": null,
            "height": null,
            "justify_content": null,
            "justify_items": null,
            "left": null,
            "margin": null,
            "max_height": null,
            "max_width": null,
            "min_height": null,
            "min_width": null,
            "object_fit": null,
            "object_position": null,
            "order": null,
            "overflow": null,
            "overflow_x": null,
            "overflow_y": null,
            "padding": null,
            "right": null,
            "top": null,
            "visibility": null,
            "width": null
          }
        },
        "6229c8e9830b49e5ba7eccbc03d05c4f": {
          "model_module": "@jupyter-widgets/controls",
          "model_name": "DescriptionStyleModel",
          "model_module_version": "1.5.0",
          "state": {
            "_model_module": "@jupyter-widgets/controls",
            "_model_module_version": "1.5.0",
            "_model_name": "DescriptionStyleModel",
            "_view_count": null,
            "_view_module": "@jupyter-widgets/base",
            "_view_module_version": "1.2.0",
            "_view_name": "StyleView",
            "description_width": ""
          }
        },
        "87f2dc3715db4568a1d4731c3a0fbbb2": {
          "model_module": "@jupyter-widgets/base",
          "model_name": "LayoutModel",
          "model_module_version": "1.2.0",
          "state": {
            "_model_module": "@jupyter-widgets/base",
            "_model_module_version": "1.2.0",
            "_model_name": "LayoutModel",
            "_view_count": null,
            "_view_module": "@jupyter-widgets/base",
            "_view_module_version": "1.2.0",
            "_view_name": "LayoutView",
            "align_content": null,
            "align_items": null,
            "align_self": null,
            "border": null,
            "bottom": null,
            "display": null,
            "flex": null,
            "flex_flow": null,
            "grid_area": null,
            "grid_auto_columns": null,
            "grid_auto_flow": null,
            "grid_auto_rows": null,
            "grid_column": null,
            "grid_gap": null,
            "grid_row": null,
            "grid_template_areas": null,
            "grid_template_columns": null,
            "grid_template_rows": null,
            "height": null,
            "justify_content": null,
            "justify_items": null,
            "left": null,
            "margin": null,
            "max_height": null,
            "max_width": null,
            "min_height": null,
            "min_width": null,
            "object_fit": null,
            "object_position": null,
            "order": null,
            "overflow": null,
            "overflow_x": null,
            "overflow_y": null,
            "padding": null,
            "right": null,
            "top": null,
            "visibility": null,
            "width": null
          }
        },
        "dbab8e50bc554ef0920fa32e6e9cda3a": {
          "model_module": "@jupyter-widgets/controls",
          "model_name": "ProgressStyleModel",
          "model_module_version": "1.5.0",
          "state": {
            "_model_module": "@jupyter-widgets/controls",
            "_model_module_version": "1.5.0",
            "_model_name": "ProgressStyleModel",
            "_view_count": null,
            "_view_module": "@jupyter-widgets/base",
            "_view_module_version": "1.2.0",
            "_view_name": "StyleView",
            "bar_color": null,
            "description_width": ""
          }
        },
        "84deac5b939b4843b5b6db9c572875c1": {
          "model_module": "@jupyter-widgets/base",
          "model_name": "LayoutModel",
          "model_module_version": "1.2.0",
          "state": {
            "_model_module": "@jupyter-widgets/base",
            "_model_module_version": "1.2.0",
            "_model_name": "LayoutModel",
            "_view_count": null,
            "_view_module": "@jupyter-widgets/base",
            "_view_module_version": "1.2.0",
            "_view_name": "LayoutView",
            "align_content": null,
            "align_items": null,
            "align_self": null,
            "border": null,
            "bottom": null,
            "display": null,
            "flex": null,
            "flex_flow": null,
            "grid_area": null,
            "grid_auto_columns": null,
            "grid_auto_flow": null,
            "grid_auto_rows": null,
            "grid_column": null,
            "grid_gap": null,
            "grid_row": null,
            "grid_template_areas": null,
            "grid_template_columns": null,
            "grid_template_rows": null,
            "height": null,
            "justify_content": null,
            "justify_items": null,
            "left": null,
            "margin": null,
            "max_height": null,
            "max_width": null,
            "min_height": null,
            "min_width": null,
            "object_fit": null,
            "object_position": null,
            "order": null,
            "overflow": null,
            "overflow_x": null,
            "overflow_y": null,
            "padding": null,
            "right": null,
            "top": null,
            "visibility": null,
            "width": null
          }
        },
        "9ed92dca8b4f48039940d043e397ea52": {
          "model_module": "@jupyter-widgets/controls",
          "model_name": "DescriptionStyleModel",
          "model_module_version": "1.5.0",
          "state": {
            "_model_module": "@jupyter-widgets/controls",
            "_model_module_version": "1.5.0",
            "_model_name": "DescriptionStyleModel",
            "_view_count": null,
            "_view_module": "@jupyter-widgets/base",
            "_view_module_version": "1.2.0",
            "_view_name": "StyleView",
            "description_width": ""
          }
        },
        "fa054ad2c2064cc6b358584e6e79e957": {
          "model_module": "@jupyter-widgets/controls",
          "model_name": "HBoxModel",
          "model_module_version": "1.5.0",
          "state": {
            "_dom_classes": [],
            "_model_module": "@jupyter-widgets/controls",
            "_model_module_version": "1.5.0",
            "_model_name": "HBoxModel",
            "_view_count": null,
            "_view_module": "@jupyter-widgets/controls",
            "_view_module_version": "1.5.0",
            "_view_name": "HBoxView",
            "box_style": "",
            "children": [
              "IPY_MODEL_1fed8647a2a8455b8cb77efb319b67db",
              "IPY_MODEL_477495a42812491e8a83a04e466ef4fe",
              "IPY_MODEL_d998e5c52ebc41e2a36b2adf4e0717e1"
            ],
            "layout": "IPY_MODEL_25a6ba1cabed4a609e1c9970916d9d71"
          }
        },
        "1fed8647a2a8455b8cb77efb319b67db": {
          "model_module": "@jupyter-widgets/controls",
          "model_name": "HTMLModel",
          "model_module_version": "1.5.0",
          "state": {
            "_dom_classes": [],
            "_model_module": "@jupyter-widgets/controls",
            "_model_module_version": "1.5.0",
            "_model_name": "HTMLModel",
            "_view_count": null,
            "_view_module": "@jupyter-widgets/controls",
            "_view_module_version": "1.5.0",
            "_view_name": "HTMLView",
            "description": "",
            "description_tooltip": null,
            "layout": "IPY_MODEL_4414a457cab04ad58ea05223ea231bce",
            "placeholder": "​",
            "style": "IPY_MODEL_32dbef5a70ee44f0b745897f467872c1",
            "value": "100%"
          }
        },
        "477495a42812491e8a83a04e466ef4fe": {
          "model_module": "@jupyter-widgets/controls",
          "model_name": "FloatProgressModel",
          "model_module_version": "1.5.0",
          "state": {
            "_dom_classes": [],
            "_model_module": "@jupyter-widgets/controls",
            "_model_module_version": "1.5.0",
            "_model_name": "FloatProgressModel",
            "_view_count": null,
            "_view_module": "@jupyter-widgets/controls",
            "_view_module_version": "1.5.0",
            "_view_name": "ProgressView",
            "bar_style": "success",
            "description": "",
            "description_tooltip": null,
            "layout": "IPY_MODEL_b575163b78f2403c83ddfede1e5d8740",
            "max": 4,
            "min": 0,
            "orientation": "horizontal",
            "style": "IPY_MODEL_acd886d1387a4ea3976d464263f806d8",
            "value": 4
          }
        },
        "d998e5c52ebc41e2a36b2adf4e0717e1": {
          "model_module": "@jupyter-widgets/controls",
          "model_name": "HTMLModel",
          "model_module_version": "1.5.0",
          "state": {
            "_dom_classes": [],
            "_model_module": "@jupyter-widgets/controls",
            "_model_module_version": "1.5.0",
            "_model_name": "HTMLModel",
            "_view_count": null,
            "_view_module": "@jupyter-widgets/controls",
            "_view_module_version": "1.5.0",
            "_view_name": "HTMLView",
            "description": "",
            "description_tooltip": null,
            "layout": "IPY_MODEL_6f946ec7975348edb47f12360982e1d7",
            "placeholder": "​",
            "style": "IPY_MODEL_ec3407bacec94dbda6ef9eb95ad34707",
            "value": " 4/4 [05:34&lt;00:00, 130.90s/it]"
          }
        },
        "25a6ba1cabed4a609e1c9970916d9d71": {
          "model_module": "@jupyter-widgets/base",
          "model_name": "LayoutModel",
          "model_module_version": "1.2.0",
          "state": {
            "_model_module": "@jupyter-widgets/base",
            "_model_module_version": "1.2.0",
            "_model_name": "LayoutModel",
            "_view_count": null,
            "_view_module": "@jupyter-widgets/base",
            "_view_module_version": "1.2.0",
            "_view_name": "LayoutView",
            "align_content": null,
            "align_items": null,
            "align_self": null,
            "border": null,
            "bottom": null,
            "display": null,
            "flex": null,
            "flex_flow": null,
            "grid_area": null,
            "grid_auto_columns": null,
            "grid_auto_flow": null,
            "grid_auto_rows": null,
            "grid_column": null,
            "grid_gap": null,
            "grid_row": null,
            "grid_template_areas": null,
            "grid_template_columns": null,
            "grid_template_rows": null,
            "height": null,
            "justify_content": null,
            "justify_items": null,
            "left": null,
            "margin": null,
            "max_height": null,
            "max_width": null,
            "min_height": null,
            "min_width": null,
            "object_fit": null,
            "object_position": null,
            "order": null,
            "overflow": null,
            "overflow_x": null,
            "overflow_y": null,
            "padding": null,
            "right": null,
            "top": null,
            "visibility": null,
            "width": null
          }
        },
        "4414a457cab04ad58ea05223ea231bce": {
          "model_module": "@jupyter-widgets/base",
          "model_name": "LayoutModel",
          "model_module_version": "1.2.0",
          "state": {
            "_model_module": "@jupyter-widgets/base",
            "_model_module_version": "1.2.0",
            "_model_name": "LayoutModel",
            "_view_count": null,
            "_view_module": "@jupyter-widgets/base",
            "_view_module_version": "1.2.0",
            "_view_name": "LayoutView",
            "align_content": null,
            "align_items": null,
            "align_self": null,
            "border": null,
            "bottom": null,
            "display": null,
            "flex": null,
            "flex_flow": null,
            "grid_area": null,
            "grid_auto_columns": null,
            "grid_auto_flow": null,
            "grid_auto_rows": null,
            "grid_column": null,
            "grid_gap": null,
            "grid_row": null,
            "grid_template_areas": null,
            "grid_template_columns": null,
            "grid_template_rows": null,
            "height": null,
            "justify_content": null,
            "justify_items": null,
            "left": null,
            "margin": null,
            "max_height": null,
            "max_width": null,
            "min_height": null,
            "min_width": null,
            "object_fit": null,
            "object_position": null,
            "order": null,
            "overflow": null,
            "overflow_x": null,
            "overflow_y": null,
            "padding": null,
            "right": null,
            "top": null,
            "visibility": null,
            "width": null
          }
        },
        "32dbef5a70ee44f0b745897f467872c1": {
          "model_module": "@jupyter-widgets/controls",
          "model_name": "DescriptionStyleModel",
          "model_module_version": "1.5.0",
          "state": {
            "_model_module": "@jupyter-widgets/controls",
            "_model_module_version": "1.5.0",
            "_model_name": "DescriptionStyleModel",
            "_view_count": null,
            "_view_module": "@jupyter-widgets/base",
            "_view_module_version": "1.2.0",
            "_view_name": "StyleView",
            "description_width": ""
          }
        },
        "b575163b78f2403c83ddfede1e5d8740": {
          "model_module": "@jupyter-widgets/base",
          "model_name": "LayoutModel",
          "model_module_version": "1.2.0",
          "state": {
            "_model_module": "@jupyter-widgets/base",
            "_model_module_version": "1.2.0",
            "_model_name": "LayoutModel",
            "_view_count": null,
            "_view_module": "@jupyter-widgets/base",
            "_view_module_version": "1.2.0",
            "_view_name": "LayoutView",
            "align_content": null,
            "align_items": null,
            "align_self": null,
            "border": null,
            "bottom": null,
            "display": null,
            "flex": null,
            "flex_flow": null,
            "grid_area": null,
            "grid_auto_columns": null,
            "grid_auto_flow": null,
            "grid_auto_rows": null,
            "grid_column": null,
            "grid_gap": null,
            "grid_row": null,
            "grid_template_areas": null,
            "grid_template_columns": null,
            "grid_template_rows": null,
            "height": null,
            "justify_content": null,
            "justify_items": null,
            "left": null,
            "margin": null,
            "max_height": null,
            "max_width": null,
            "min_height": null,
            "min_width": null,
            "object_fit": null,
            "object_position": null,
            "order": null,
            "overflow": null,
            "overflow_x": null,
            "overflow_y": null,
            "padding": null,
            "right": null,
            "top": null,
            "visibility": null,
            "width": null
          }
        },
        "acd886d1387a4ea3976d464263f806d8": {
          "model_module": "@jupyter-widgets/controls",
          "model_name": "ProgressStyleModel",
          "model_module_version": "1.5.0",
          "state": {
            "_model_module": "@jupyter-widgets/controls",
            "_model_module_version": "1.5.0",
            "_model_name": "ProgressStyleModel",
            "_view_count": null,
            "_view_module": "@jupyter-widgets/base",
            "_view_module_version": "1.2.0",
            "_view_name": "StyleView",
            "bar_color": null,
            "description_width": ""
          }
        },
        "6f946ec7975348edb47f12360982e1d7": {
          "model_module": "@jupyter-widgets/base",
          "model_name": "LayoutModel",
          "model_module_version": "1.2.0",
          "state": {
            "_model_module": "@jupyter-widgets/base",
            "_model_module_version": "1.2.0",
            "_model_name": "LayoutModel",
            "_view_count": null,
            "_view_module": "@jupyter-widgets/base",
            "_view_module_version": "1.2.0",
            "_view_name": "LayoutView",
            "align_content": null,
            "align_items": null,
            "align_self": null,
            "border": null,
            "bottom": null,
            "display": null,
            "flex": null,
            "flex_flow": null,
            "grid_area": null,
            "grid_auto_columns": null,
            "grid_auto_flow": null,
            "grid_auto_rows": null,
            "grid_column": null,
            "grid_gap": null,
            "grid_row": null,
            "grid_template_areas": null,
            "grid_template_columns": null,
            "grid_template_rows": null,
            "height": null,
            "justify_content": null,
            "justify_items": null,
            "left": null,
            "margin": null,
            "max_height": null,
            "max_width": null,
            "min_height": null,
            "min_width": null,
            "object_fit": null,
            "object_position": null,
            "order": null,
            "overflow": null,
            "overflow_x": null,
            "overflow_y": null,
            "padding": null,
            "right": null,
            "top": null,
            "visibility": null,
            "width": null
          }
        },
        "ec3407bacec94dbda6ef9eb95ad34707": {
          "model_module": "@jupyter-widgets/controls",
          "model_name": "DescriptionStyleModel",
          "model_module_version": "1.5.0",
          "state": {
            "_model_module": "@jupyter-widgets/controls",
            "_model_module_version": "1.5.0",
            "_model_name": "DescriptionStyleModel",
            "_view_count": null,
            "_view_module": "@jupyter-widgets/base",
            "_view_module_version": "1.2.0",
            "_view_name": "StyleView",
            "description_width": ""
          }
        }
      }
    }
  },
  "cells": [
    {
      "cell_type": "markdown",
      "source": [
        "# MRR\n",
        "\n",
        "Исходные данные - результат generate_subsample\n",
        "\n",
        "Задача - по аналогии с precision написать три версии функции подсчета Mean Reciprocal Rank (naive, numba, pandas) и протестировать на разных размерах выборки\n",
        "\n",
        "    Протестируйте для всех комбинаций (users_count, top_k):\n",
        "        users_count - [100, 1000, 10000, 100000]\n",
        "        top_k - [10, 50, 100]\n",
        "    Результатом тестирования должен быть график, где будут отражены следующие показатели:\n",
        "        Алгоритм - naive, numba, pandas\n",
        "        Скорость работы (время)\n",
        "        users_count\n",
        "        top_k\n",
        "        \n",
        "        \n",
        "        \n"
      ],
      "metadata": {
        "id": "ZtN-JxTLzdJY"
      }
    },
    {
      "cell_type": "code",
      "source": [
        "pip install rectools"
      ],
      "metadata": {
        "colab": {
          "base_uri": "https://localhost:8080/"
        },
        "id": "XNTYLGiQDVZj",
        "outputId": "57104a98-9f66-45ca-f2aa-4cff78b376ab"
      },
      "execution_count": 1,
      "outputs": [
        {
          "output_type": "stream",
          "name": "stdout",
          "text": [
            "Looking in indexes: https://pypi.org/simple, https://us-python.pkg.dev/colab-wheels/public/simple/\n",
            "Collecting rectools\n",
            "  Downloading RecTools-0.3.0-py3-none-any.whl (89 kB)\n",
            "\u001b[2K     \u001b[90m━━━━━━━━━━━━━━━━━━━━━━━━━━━━━━━━━━━━━━━━\u001b[0m \u001b[32m89.0/89.0 KB\u001b[0m \u001b[31m2.8 MB/s\u001b[0m eta \u001b[36m0:00:00\u001b[0m\n",
            "\u001b[?25hCollecting Markdown<3.3,>=3.2\n",
            "  Downloading Markdown-3.2.2-py3-none-any.whl (88 kB)\n",
            "\u001b[2K     \u001b[90m━━━━━━━━━━━━━━━━━━━━━━━━━━━━━━━━━━━━━━━━\u001b[0m \u001b[32m89.0/89.0 KB\u001b[0m \u001b[31m5.8 MB/s\u001b[0m eta \u001b[36m0:00:00\u001b[0m\n",
            "\u001b[?25hCollecting nmslib<3.0.0,>=2.0.4\n",
            "  Downloading nmslib-2.1.1-cp39-cp39-manylinux2010_x86_64.whl (13.3 MB)\n",
            "\u001b[2K     \u001b[90m━━━━━━━━━━━━━━━━━━━━━━━━━━━━━━━━━━━━━━━━\u001b[0m \u001b[32m13.3/13.3 MB\u001b[0m \u001b[31m51.0 MB/s\u001b[0m eta \u001b[36m0:00:00\u001b[0m\n",
            "\u001b[?25hRequirement already satisfied: scipy<2.0.0,>=1.5.4 in /usr/local/lib/python3.9/dist-packages (from rectools) (1.10.1)\n",
            "Requirement already satisfied: tqdm<5.0.0,>=4.27.0 in /usr/local/lib/python3.9/dist-packages (from rectools) (4.65.0)\n",
            "Collecting typeguard<3.0.0,>=2.0.1\n",
            "  Downloading typeguard-2.13.3-py3-none-any.whl (17 kB)\n",
            "Requirement already satisfied: pandas<2.0.0,>=0.25.3 in /usr/local/lib/python3.9/dist-packages (from rectools) (1.4.4)\n",
            "Collecting implicit==0.4.4\n",
            "  Downloading implicit-0.4.4.tar.gz (1.1 MB)\n",
            "\u001b[2K     \u001b[90m━━━━━━━━━━━━━━━━━━━━━━━━━━━━━━━━━━━━━━━━\u001b[0m \u001b[32m1.1/1.1 MB\u001b[0m \u001b[31m41.7 MB/s\u001b[0m eta \u001b[36m0:00:00\u001b[0m\n",
            "\u001b[?25h  Preparing metadata (setup.py) ... \u001b[?25l\u001b[?25hdone\n",
            "Requirement already satisfied: numpy<2.0.0,>=1.19.5 in /usr/local/lib/python3.9/dist-packages (from rectools) (1.22.4)\n",
            "Collecting lightfm<2.0,>=1.16\n",
            "\u001b[33m  WARNING: Retrying (Retry(total=4, connect=None, read=None, redirect=None, status=None)) after connection broken by 'ProtocolError('Connection aborted.', ConnectionResetError(104, 'Connection reset by peer'))': /packages/1f/96/5ec230f5c27811534af0faaa8525f11c1000ee1c24c8a82c0546d0724aea/lightfm-1.17.tar.gz\u001b[0m\u001b[33m\n",
            "\u001b[0m  Downloading lightfm-1.17.tar.gz (316 kB)\n",
            "\u001b[2K     \u001b[90m━━━━━━━━━━━━━━━━━━━━━━━━━━━━━━━━━━━━━━━\u001b[0m \u001b[32m316.4/316.4 KB\u001b[0m \u001b[31m6.0 MB/s\u001b[0m eta \u001b[36m0:00:00\u001b[0m\n",
            "\u001b[?25h  Preparing metadata (setup.py) ... \u001b[?25l\u001b[?25hdone\n",
            "Collecting attrs<22.0.0,>=19.1.0\n",
            "  Downloading attrs-21.4.0-py2.py3-none-any.whl (60 kB)\n",
            "\u001b[2K     \u001b[90m━━━━━━━━━━━━━━━━━━━━━━━━━━━━━━━━━━━━━━━━\u001b[0m \u001b[32m60.6/60.6 KB\u001b[0m \u001b[31m4.8 MB/s\u001b[0m eta \u001b[36m0:00:00\u001b[0m\n",
            "\u001b[?25hRequirement already satisfied: requests in /usr/local/lib/python3.9/dist-packages (from lightfm<2.0,>=1.16->rectools) (2.27.1)\n",
            "Requirement already satisfied: scikit-learn in /usr/local/lib/python3.9/dist-packages (from lightfm<2.0,>=1.16->rectools) (1.2.2)\n",
            "Requirement already satisfied: psutil in /usr/local/lib/python3.9/dist-packages (from nmslib<3.0.0,>=2.0.4->rectools) (5.9.4)\n",
            "Collecting pybind11<2.6.2\n",
            "  Downloading pybind11-2.6.1-py2.py3-none-any.whl (188 kB)\n",
            "\u001b[2K     \u001b[90m━━━━━━━━━━━━━━━━━━━━━━━━━━━━━━━━━━━━━━\u001b[0m \u001b[32m188.5/188.5 KB\u001b[0m \u001b[31m22.4 MB/s\u001b[0m eta \u001b[36m0:00:00\u001b[0m\n",
            "\u001b[?25hRequirement already satisfied: pytz>=2020.1 in /usr/local/lib/python3.9/dist-packages (from pandas<2.0.0,>=0.25.3->rectools) (2022.7.1)\n",
            "Requirement already satisfied: python-dateutil>=2.8.1 in /usr/local/lib/python3.9/dist-packages (from pandas<2.0.0,>=0.25.3->rectools) (2.8.2)\n",
            "Requirement already satisfied: six>=1.5 in /usr/local/lib/python3.9/dist-packages (from python-dateutil>=2.8.1->pandas<2.0.0,>=0.25.3->rectools) (1.16.0)\n",
            "Requirement already satisfied: idna<4,>=2.5 in /usr/local/lib/python3.9/dist-packages (from requests->lightfm<2.0,>=1.16->rectools) (3.4)\n",
            "Requirement already satisfied: charset-normalizer~=2.0.0 in /usr/local/lib/python3.9/dist-packages (from requests->lightfm<2.0,>=1.16->rectools) (2.0.12)\n",
            "Requirement already satisfied: certifi>=2017.4.17 in /usr/local/lib/python3.9/dist-packages (from requests->lightfm<2.0,>=1.16->rectools) (2022.12.7)\n",
            "Requirement already satisfied: urllib3<1.27,>=1.21.1 in /usr/local/lib/python3.9/dist-packages (from requests->lightfm<2.0,>=1.16->rectools) (1.26.15)\n",
            "Requirement already satisfied: threadpoolctl>=2.0.0 in /usr/local/lib/python3.9/dist-packages (from scikit-learn->lightfm<2.0,>=1.16->rectools) (3.1.0)\n",
            "Requirement already satisfied: joblib>=1.1.1 in /usr/local/lib/python3.9/dist-packages (from scikit-learn->lightfm<2.0,>=1.16->rectools) (1.1.1)\n",
            "Building wheels for collected packages: implicit, lightfm\n",
            "  Building wheel for implicit (setup.py) ... \u001b[?25l\u001b[?25hdone\n",
            "  Created wheel for implicit: filename=implicit-0.4.4-cp39-cp39-linux_x86_64.whl size=5054338 sha256=1ddbf659e9108132ff856179c1ed0a159a415ff38e2c64ad90425238bc5b8063\n",
            "  Stored in directory: /root/.cache/pip/wheels/05/d3/5d/ab371b92ddb01183c3997751ad3bed6e6a4dd3c4c8699120a3\n",
            "  Building wheel for lightfm (setup.py) ... \u001b[?25l\u001b[?25hdone\n",
            "  Created wheel for lightfm: filename=lightfm-1.17-cp39-cp39-linux_x86_64.whl size=889516 sha256=536cf49cde92d5280cac9b5e0a2be8d9195ceefd9d7ccfb8e95c41dfed2db4c3\n",
            "  Stored in directory: /root/.cache/pip/wheels/d8/65/93/6ac8180274dc2e8f86ff326be62da1dfa55dc158fd45faba7d\n",
            "Successfully built implicit lightfm\n",
            "Installing collected packages: typeguard, pybind11, Markdown, attrs, nmslib, implicit, lightfm, rectools\n",
            "  Attempting uninstall: Markdown\n",
            "    Found existing installation: Markdown 3.4.3\n",
            "    Uninstalling Markdown-3.4.3:\n",
            "      Successfully uninstalled Markdown-3.4.3\n",
            "  Attempting uninstall: attrs\n",
            "    Found existing installation: attrs 22.2.0\n",
            "    Uninstalling attrs-22.2.0:\n",
            "      Successfully uninstalled attrs-22.2.0\n",
            "Successfully installed Markdown-3.2.2 attrs-21.4.0 implicit-0.4.4 lightfm-1.17 nmslib-2.1.1 pybind11-2.6.1 rectools-0.3.0 typeguard-2.13.3\n"
          ]
        }
      ]
    },
    {
      "cell_type": "code",
      "execution_count": 2,
      "metadata": {
        "id": "11XtCQbOyAeT"
      },
      "outputs": [],
      "source": [
        "import pandas as pd\n",
        "import numpy as np\n",
        "import numba as nb\n",
        "import matplotlib.pyplot as plt\n",
        "import timeit\n",
        "import time\n",
        "from tqdm.auto import tqdm\n",
        "from rectools import Columns"
      ]
    },
    {
      "cell_type": "code",
      "source": [
        "np.random.seed(23)"
      ],
      "metadata": {
        "id": "-ZAotcC6DVc0"
      },
      "execution_count": 3,
      "outputs": []
    },
    {
      "cell_type": "markdown",
      "source": [
        "# Получаем данные"
      ],
      "metadata": {
        "id": "0gEfbx1gFQID"
      }
    },
    {
      "cell_type": "code",
      "source": [
        "!wget https://storage.yandexcloud.net/itmo-recsys-public-data/kion_train.zip"
      ],
      "metadata": {
        "colab": {
          "base_uri": "https://localhost:8080/"
        },
        "id": "9gbEqSf_FKnk",
        "outputId": "dc5c6285-6516-4e95-8115-676b58035f43"
      },
      "execution_count": 4,
      "outputs": [
        {
          "output_type": "stream",
          "name": "stdout",
          "text": [
            "--2023-04-09 05:27:51--  https://storage.yandexcloud.net/itmo-recsys-public-data/kion_train.zip\n",
            "Resolving storage.yandexcloud.net (storage.yandexcloud.net)... 213.180.193.243, 2a02:6b8::1d9\n",
            "Connecting to storage.yandexcloud.net (storage.yandexcloud.net)|213.180.193.243|:443... connected.\n",
            "HTTP request sent, awaiting response... 200 OK\n",
            "Length: 78795385 (75M) [application/zip]\n",
            "Saving to: ‘kion_train.zip’\n",
            "\n",
            "kion_train.zip      100%[===================>]  75.14M  22.4MB/s    in 4.2s    \n",
            "\n",
            "2023-04-09 05:27:56 (17.8 MB/s) - ‘kion_train.zip’ saved [78795385/78795385]\n",
            "\n"
          ]
        }
      ]
    },
    {
      "cell_type": "code",
      "source": [
        "!unzip kion_train.zip"
      ],
      "metadata": {
        "colab": {
          "base_uri": "https://localhost:8080/"
        },
        "id": "7p3FumnxFSq3",
        "outputId": "f858c018-ba80-49d4-99cb-4a99ca73721a"
      },
      "execution_count": 5,
      "outputs": [
        {
          "output_type": "stream",
          "name": "stdout",
          "text": [
            "Archive:  kion_train.zip\n",
            "   creating: kion_train/\n",
            "  inflating: kion_train/interactions.csv  \n",
            "  inflating: __MACOSX/kion_train/._interactions.csv  \n",
            "  inflating: kion_train/users.csv    \n",
            "  inflating: __MACOSX/kion_train/._users.csv  \n",
            "  inflating: kion_train/items.csv    \n",
            "  inflating: __MACOSX/kion_train/._items.csv  \n"
          ]
        }
      ]
    },
    {
      "cell_type": "code",
      "source": [
        "interactions = pd.read_csv('kion_train/interactions.csv')\n",
        "\n",
        "interactions.rename(\n",
        "    columns={\n",
        "        'track_id': Columns.Item,\n",
        "        'last_watch_dt': Columns.Datetime,\n",
        "        'total_dur': Columns.Weight\n",
        "    }, \n",
        "    inplace=True) \n",
        "\n",
        "interactions[Columns.Datetime] = pd.to_datetime(interactions[Columns.Datetime])"
      ],
      "metadata": {
        "id": "07Uzxy7VFUjL"
      },
      "execution_count": 6,
      "outputs": []
    },
    {
      "cell_type": "code",
      "source": [
        "users = pd.read_csv('kion_train/users.csv')\n",
        "items = pd.read_csv('kion_train/items.csv')"
      ],
      "metadata": {
        "id": "MESaHOOiFsvG"
      },
      "execution_count": 7,
      "outputs": []
    },
    {
      "cell_type": "code",
      "source": [
        "def generate_subsample(users_count, top_k):\n",
        "    users = np.random.choice(interactions[Columns.User].unique(), users_count, replace=False)\n",
        "    df = interactions[interactions[Columns.User].isin(users)].reset_index(drop=True)\n",
        "    del df[Columns.Datetime], df[Columns.Weight], df['watched_pct']\n",
        "    \n",
        "    recs = np.random.choice(df[Columns.Item], size=(users_count, top_k))\n",
        "    return df, users, recs  "
      ],
      "metadata": {
        "id": "TgAtxIIMHV1d"
      },
      "execution_count": 8,
      "outputs": []
    },
    {
      "cell_type": "markdown",
      "source": [
        "# Три версии функции подсчета Mean Reciprocal Rank"
      ],
      "metadata": {
        "id": "uQXuXI83dv5I"
      }
    },
    {
      "cell_type": "code",
      "source": [
        "def mrr_naive(target, users, recs, k):\n",
        "    mrr = []\n",
        "    for i, user in enumerate(users):\n",
        "        user_mrr = 0\n",
        "        user_target = target[target[:, 0] == user][:, 1]\n",
        "        for rank, rec in enumerate(recs[i]):\n",
        "            if rec in user_target:\n",
        "                user_mrr += 1 / (rank + 1)\n",
        "        mrr.append(user_mrr / k)\n",
        "    return sum(mrr) / len(users)"
      ],
      "metadata": {
        "id": "drMmSQgzDVfy"
      },
      "execution_count": 9,
      "outputs": []
    },
    {
      "cell_type": "code",
      "source": [
        "@nb.njit(cache=True, parallel=True)\n",
        "def mrr_numba(target, users, recs, k):\n",
        "    mrr = np.zeros(len(users))\n",
        "    for i in nb.prange(len(users)):\n",
        "        user = users[i]\n",
        "        user_mrr = 0\n",
        "        user_target = target[target[:, 0] == user][:, 1]\n",
        "        for rank in nb.prange(len(recs[i])):\n",
        "            if recs[i][rank] in user_target:\n",
        "                user_mrr += 1 / (rank + 1)\n",
        "        mrr[i] = user_mrr / k\n",
        "    return mrr.mean()"
      ],
      "metadata": {
        "id": "z_-bLjDyDW_J"
      },
      "execution_count": 10,
      "outputs": []
    },
    {
      "cell_type": "code",
      "source": [
        "def mrr_pandas(df, users, recs, k):\n",
        "    df_recs = pd.DataFrame({\n",
        "        Columns.User: np.repeat(users, k),\n",
        "        Columns.Item: recs.ravel()\n",
        "    })\n",
        "    df_recs[Columns.Rank] = df_recs.groupby(Columns.User).cumcount() + 1\n",
        "    df_recs = df.merge(df_recs, how='left', left_on=Columns.UserItem, right_on=Columns.UserItem)\n",
        "\n",
        "    df_recs['1/rank'] =  1 / df_recs[Columns.Rank]\n",
        "    mrr = df_recs['1/rank'].sum() / (k * len(users))\n",
        "    return mrr"
      ],
      "metadata": {
        "id": "I8Es2cZPDaDS"
      },
      "execution_count": 11,
      "outputs": []
    },
    {
      "cell_type": "markdown",
      "source": [
        "# Считаем время выполнения методов"
      ],
      "metadata": {
        "id": "DcKLvnxjeNpa"
      }
    },
    {
      "cell_type": "code",
      "source": [
        "\n",
        "\n",
        "users_count = [100, 1000, 10000, 100000]\n",
        "top_k = [10, 50, 100]\n",
        "\n",
        "time_naive = []\n",
        "time_numba = []\n",
        "time_pandas = []\n",
        "\n",
        "for k in tqdm(top_k):\n",
        "    for user in tqdm(users_count):\n",
        "        df, users, recs = generate_subsample(user, k)\n",
        "        target = df.values\n",
        "\n",
        "        # считаем время выполнения naive-метода для MRR \n",
        "        print(f'MRR for top-{k} and {user} users --- naive')\n",
        "        start_time = time.time()\n",
        "        mrr_naive(target, users, recs, k)\n",
        "        time_naive.append(time.time() - start_time)\n",
        " \n",
        "        # считаем время выполнения naive-метода для MRR\n",
        "        print(f'MRR for top-{k} and {user} users --- numba')\n",
        "        start_time = time.time()\n",
        "        mrr_numba(target, users, recs, k)\n",
        "        time_numba.append(time.time() - start_time)\n",
        " \n",
        "        # считаем время выполнения pandas-метода для MRR\n",
        "        print(f'MRR for top-{k} and {user} users --- pandas')\n",
        "        start_time = time.time()\n",
        "        mrr_pandas(df, users, recs, k)\n",
        "        time_pandas.append(time.time() - start_time)\n",
        "\n"
      ],
      "metadata": {
        "colab": {
          "base_uri": "https://localhost:8080/",
          "height": 770,
          "referenced_widgets": [
            "f5fd0e1bd6554f5899ac4fe518490c51",
            "f773c22189be4f28b0c3341194430b13",
            "e20ab596fb9a43d08721b93403861898",
            "fb8f98ea1d024ddd8c63041cf0fd162d",
            "1884eb4fa77a4e13a0f01aaf4ac48b44",
            "1b950e08d8d2457ea12534c047cd3bf4",
            "063fde3d91c249f8b76f267d541a3d84",
            "15d8e8d785714a17b15f4579bb0f7bc2",
            "ef899aad2d85448ab39f05ba8dae3c3e",
            "3de126710f90458cbae97b6fdb420983",
            "43265b5130054eb58e81a9958280ad15",
            "6ef92714e3714b6bbd6dfa852b2a97dd",
            "ee20507db5054ef4993bb35872573b40",
            "3ac997bda0674d3d9a7080de048d9c09",
            "787fedc5397e4d7a9df5325f306c9243",
            "1ea7cd93c51241658b8c36159d3b2e48",
            "2daea75a7b4547dea276cd99ad1da139",
            "a6251dfc3d784d38aa5330b417130d4c",
            "bcc10ccc3ae04afb880c1f7f3c7639af",
            "d5232351a48c460e964a78f6e4a252f5",
            "5bcebc2839e5482aa8e06fdc896c5b89",
            "64a7e7c89e1d409285a473c56efbb63c",
            "6de9c492126b4f6c8e959a2420b6e137",
            "6d63739d7fe14ae7be628124a8ff976d",
            "17c3b38db63f495290dd8ca4eb41cdaf",
            "47860a3392334a9682dd841b484d5761",
            "bf4511515bbe4452a934c30c91c069da",
            "8f6a463a368547c0a8243c63a6f9d6c6",
            "6229c8e9830b49e5ba7eccbc03d05c4f",
            "87f2dc3715db4568a1d4731c3a0fbbb2",
            "dbab8e50bc554ef0920fa32e6e9cda3a",
            "84deac5b939b4843b5b6db9c572875c1",
            "9ed92dca8b4f48039940d043e397ea52",
            "fa054ad2c2064cc6b358584e6e79e957",
            "1fed8647a2a8455b8cb77efb319b67db",
            "477495a42812491e8a83a04e466ef4fe",
            "d998e5c52ebc41e2a36b2adf4e0717e1",
            "25a6ba1cabed4a609e1c9970916d9d71",
            "4414a457cab04ad58ea05223ea231bce",
            "32dbef5a70ee44f0b745897f467872c1",
            "b575163b78f2403c83ddfede1e5d8740",
            "acd886d1387a4ea3976d464263f806d8",
            "6f946ec7975348edb47f12360982e1d7",
            "ec3407bacec94dbda6ef9eb95ad34707"
          ]
        },
        "id": "lWdtwgJ4Sp0n",
        "outputId": "2f920438-410b-4f99-d9fc-7b12f8bf2b56"
      },
      "execution_count": 12,
      "outputs": [
        {
          "output_type": "display_data",
          "data": {
            "text/plain": [
              "  0%|          | 0/3 [00:00<?, ?it/s]"
            ],
            "application/vnd.jupyter.widget-view+json": {
              "version_major": 2,
              "version_minor": 0,
              "model_id": "f5fd0e1bd6554f5899ac4fe518490c51"
            }
          },
          "metadata": {}
        },
        {
          "output_type": "display_data",
          "data": {
            "text/plain": [
              "  0%|          | 0/4 [00:00<?, ?it/s]"
            ],
            "application/vnd.jupyter.widget-view+json": {
              "version_major": 2,
              "version_minor": 0,
              "model_id": "6ef92714e3714b6bbd6dfa852b2a97dd"
            }
          },
          "metadata": {}
        },
        {
          "output_type": "stream",
          "name": "stdout",
          "text": [
            "MRR for top-10 and 100 users --- naive\n",
            "MRR for top-10 and 100 users --- numba\n",
            "MRR for top-10 and 100 users --- pandas\n",
            "MRR for top-10 and 1000 users --- naive\n",
            "MRR for top-10 and 1000 users --- numba\n",
            "MRR for top-10 and 1000 users --- pandas\n",
            "MRR for top-10 and 10000 users --- naive\n",
            "MRR for top-10 and 10000 users --- numba\n",
            "MRR for top-10 and 10000 users --- pandas\n",
            "MRR for top-10 and 100000 users --- naive\n",
            "MRR for top-10 and 100000 users --- numba\n",
            "MRR for top-10 and 100000 users --- pandas\n"
          ]
        },
        {
          "output_type": "display_data",
          "data": {
            "text/plain": [
              "  0%|          | 0/4 [00:00<?, ?it/s]"
            ],
            "application/vnd.jupyter.widget-view+json": {
              "version_major": 2,
              "version_minor": 0,
              "model_id": "6de9c492126b4f6c8e959a2420b6e137"
            }
          },
          "metadata": {}
        },
        {
          "output_type": "stream",
          "name": "stdout",
          "text": [
            "MRR for top-50 and 100 users --- naive\n",
            "MRR for top-50 and 100 users --- numba\n",
            "MRR for top-50 and 100 users --- pandas\n",
            "MRR for top-50 and 1000 users --- naive\n",
            "MRR for top-50 and 1000 users --- numba\n",
            "MRR for top-50 and 1000 users --- pandas\n",
            "MRR for top-50 and 10000 users --- naive\n",
            "MRR for top-50 and 10000 users --- numba\n",
            "MRR for top-50 and 10000 users --- pandas\n",
            "MRR for top-50 and 100000 users --- naive\n",
            "MRR for top-50 and 100000 users --- numba\n",
            "MRR for top-50 and 100000 users --- pandas\n"
          ]
        },
        {
          "output_type": "display_data",
          "data": {
            "text/plain": [
              "  0%|          | 0/4 [00:00<?, ?it/s]"
            ],
            "application/vnd.jupyter.widget-view+json": {
              "version_major": 2,
              "version_minor": 0,
              "model_id": "fa054ad2c2064cc6b358584e6e79e957"
            }
          },
          "metadata": {}
        },
        {
          "output_type": "stream",
          "name": "stdout",
          "text": [
            "MRR for top-100 and 100 users --- naive\n",
            "MRR for top-100 and 100 users --- numba\n",
            "MRR for top-100 and 100 users --- pandas\n",
            "MRR for top-100 and 1000 users --- naive\n",
            "MRR for top-100 and 1000 users --- numba\n",
            "MRR for top-100 and 1000 users --- pandas\n",
            "MRR for top-100 and 10000 users --- naive\n",
            "MRR for top-100 and 10000 users --- numba\n",
            "MRR for top-100 and 10000 users --- pandas\n",
            "MRR for top-100 and 100000 users --- naive\n",
            "MRR for top-100 and 100000 users --- numba\n",
            "MRR for top-100 and 100000 users --- pandas\n"
          ]
        }
      ]
    },
    {
      "cell_type": "code",
      "source": [
        "time_naive = np.array(time_naive).reshape(3, 4)\n",
        "time_numba = np.array(time_numba).reshape(3, 4)\n",
        "time_pandas = np.array(time_pandas).reshape(3, 4)"
      ],
      "metadata": {
        "id": "-89kN-zwE-A7"
      },
      "execution_count": 13,
      "outputs": []
    },
    {
      "cell_type": "code",
      "source": [
        "_, ax = plt.subplots(1, 3, figsize=(20,5))\n",
        "for i in range(3):\n",
        "    # для каждого значения k_top и выбранного метода строим график\n",
        "    ax[i].plot(users_count, time_naive[i,:], label='naive')\n",
        "    ax[i].plot(users_count, time_numba[i,:], label='numba')\n",
        "    ax[i].plot(users_count, time_pandas[i,:], label='pandas')\n",
        "    \n",
        "    ax[i].set_title(f'top_k {top_k[i]}')\n",
        "    ax[i].set_xlabel('users')\n",
        "    ax[i].set_ylabel('time (s)')\n",
        "    ax[i].set_xlim(0, 100000)\n",
        "    ax[i].set_ylim(0, 10)\n",
        "    ax[i].grid()\n",
        "    ax[i].legend()\n",
        "plt.show()\n",
        "\n"
      ],
      "metadata": {
        "colab": {
          "base_uri": "https://localhost:8080/",
          "height": 487
        },
        "id": "o2NvWrUO5kHH",
        "outputId": "e2f255f2-b193-4ca0-a48a-97dbe8527b40"
      },
      "execution_count": 14,
      "outputs": [
        {
          "output_type": "display_data",
          "data": {
            "text/plain": [
              "<Figure size 2000x500 with 3 Axes>"
            ],
            "image/png": "[encoded data removed]"
          },
          "metadata": {}
        }
      ]
    },
    {
      "cell_type": "markdown",
      "source": [
        "Становится понятно, что использование pandas намного эффективнее."
      ],
      "metadata": {
        "id": "NhC0V_1xyjxj"
      }
    }
  ]
}